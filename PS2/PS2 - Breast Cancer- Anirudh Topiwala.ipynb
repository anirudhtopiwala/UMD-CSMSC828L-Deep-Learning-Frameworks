{
 "cells": [
  {
   "cell_type": "markdown",
   "metadata": {},
   "source": [
    "# Classify the breast cancer measurements as benign or malignant\n",
    "\n",
    "\n",
    "* Do this using the best practices discussed in class (i.e. one hot encoding, ReLU, CNNS when you should, etc.)\n",
    "\n",
    "* Have reasonable hyperparameters\n"
   ]
  },
  {
   "cell_type": "code",
   "execution_count": 1,
   "metadata": {},
   "outputs": [
    {
     "name": "stderr",
     "output_type": "stream",
     "text": [
      "/home/anirudh/anaconda2/envs/py36/lib/python3.6/site-packages/h5py/__init__.py:36: FutureWarning: Conversion of the second argument of issubdtype from `float` to `np.floating` is deprecated. In future, it will be treated as `np.float64 == np.dtype(float).type`.\n",
      "  from ._conv import register_converters as _register_converters\n",
      "Using TensorFlow backend.\n"
     ]
    }
   ],
   "source": [
    "# Importing the libraries\n",
    "import numpy as np\n",
    "import keras\n",
    "from matplotlib import pyplot as plt\n",
    "import seaborn as sns\n",
    "from keras.models import Sequential\n",
    "from keras.layers import Dense, Dropout, Activation, Flatten, BatchNormalization\n",
    "from keras.layers import Conv2D, MaxPooling2D\n",
    "from sklearn.metrics import confusion_matrix\n",
    "from sklearn.model_selection import train_test_split\n",
    "import pandas as pd\n",
    "\n",
    "\n",
    "\n"
   ]
  },
  {
   "cell_type": "markdown",
   "metadata": {},
   "source": [
    "# Loading the Data and Scaling the Features"
   ]
  },
  {
   "cell_type": "code",
   "execution_count": 2,
   "metadata": {},
   "outputs": [
    {
     "name": "stderr",
     "output_type": "stream",
     "text": [
      "/home/anirudh/anaconda2/envs/py36/lib/python3.6/site-packages/sklearn/preprocessing/data.py:617: DataConversionWarning: Data with input dtype int64 were all converted to float64 by StandardScaler.\n",
      "  return self.partial_fit(X, y)\n",
      "/home/anirudh/anaconda2/envs/py36/lib/python3.6/site-packages/sklearn/base.py:462: DataConversionWarning: Data with input dtype int64 were all converted to float64 by StandardScaler.\n",
      "  return self.fit(X, **fit_params).transform(X)\n"
     ]
    }
   ],
   "source": [
    "# Loading the Training and Testing Data\n",
    "X = pd.read_csv('./Breast Cancer/breastCancerData.csv')\n",
    "Y = pd.read_csv('./Breast Cancer/breastCancerLabels.csv')\n",
    "\n",
    "#Feature Scaling\n",
    "from sklearn.preprocessing import StandardScaler\n",
    "sc = StandardScaler()\n",
    "X = sc.fit_transform(X)\n",
    "\n",
    "Y= np.array(Y)"
   ]
  },
  {
   "cell_type": "markdown",
   "metadata": {},
   "source": [
    "# Splitting the Data into Training, Validation and Test Data"
   ]
  },
  {
   "cell_type": "code",
   "execution_count": 3,
   "metadata": {},
   "outputs": [
    {
     "name": "stdout",
     "output_type": "stream",
     "text": [
      "For this problem the number of training data is:463\n",
      "The number of validation data is:116\n",
      "and the number of test data is:103\n"
     ]
    }
   ],
   "source": [
    "# Splitting the Data into Training and Test Data\n",
    "X_train, X_test,Y_train,Y_test = train_test_split(X,Y, test_size=0.15)\n",
    "\n",
    "# Splitting the Training Data into training and Validation Data\n",
    "X_train, X_val,Y_train,Y_val = train_test_split(X_train, Y_train, test_size=0.2)\n",
    "\n",
    "print(\"For this problem the number of training data is:\" + str(X_train.shape[0]) +\"\\nThe number of\" +\n",
    "\" validation data is:\" + str(X_val.shape[0]) + \"\\nand the number of test data is:\" + str(X_test.shape[0]))"
   ]
  },
  {
   "cell_type": "markdown",
   "metadata": {},
   "source": [
    "# Showing the Training Data after Normalizing"
   ]
  },
  {
   "cell_type": "code",
   "execution_count": 4,
   "metadata": {},
   "outputs": [
    {
     "name": "stdout",
     "output_type": "stream",
     "text": [
      "     radius   texture  perimeter      area  smoothness  compactness  \\\n",
      "0  1.974488  2.234474   2.270732  1.814105   -0.555361     1.778269   \n",
      "1  1.974488  0.929476   0.262989 -0.637916   -0.105532     0.127855   \n",
      "2  0.199843 -0.701771  -0.740883  0.062662   -0.555361    -0.697352   \n",
      "3  1.974488  2.234474   0.932237  0.062662   -0.105532     1.778269   \n",
      "4  0.199843  1.255725   1.266861 -0.637916    0.794126     1.228131   \n",
      "\n",
      "   concavity  concave points  symmetry  Is it Malignant?  \n",
      "0   0.226259       -0.612417 -0.348686               1.0  \n",
      "1  -0.181965       -0.284834  0.805702               1.0  \n",
      "2  -0.998412       -0.612417 -0.348686               0.0  \n",
      "3   0.226259        0.042749  0.228508               1.0  \n",
      "4  -0.181965        0.370332 -0.348686               0.0  \n"
     ]
    }
   ],
   "source": [
    "# Preview the training data\n",
    "print (pd.DataFrame(np.hstack((X_train[0:5],Y_train[0:5])),columns= \n",
    "                    ['radius', 'texture','perimeter', 'area' , 'smoothness','compactness', 'concavity',\n",
    "                     'concave points', 'symmetry','Is it Malignant?']))"
   ]
  },
  {
   "cell_type": "markdown",
   "metadata": {},
   "source": [
    "# Setting Hyper Paramters"
   ]
  },
  {
   "cell_type": "code",
   "execution_count": 5,
   "metadata": {},
   "outputs": [],
   "source": [
    "# Hyper Parameters\n",
    "batch_size = 32\n",
    "num_classes = 2\n",
    "epochs = 15"
   ]
  },
  {
   "cell_type": "markdown",
   "metadata": {},
   "source": [
    "# Creating Model"
   ]
  },
  {
   "cell_type": "code",
   "execution_count": 6,
   "metadata": {},
   "outputs": [
    {
     "name": "stdout",
     "output_type": "stream",
     "text": [
      "_________________________________________________________________\n",
      "Layer (type)                 Output Shape              Param #   \n",
      "=================================================================\n",
      "dense_1 (Dense)              (None, 64)                640       \n",
      "_________________________________________________________________\n",
      "dropout_1 (Dropout)          (None, 64)                0         \n",
      "_________________________________________________________________\n",
      "dense_2 (Dense)              (None, 32)                2080      \n",
      "_________________________________________________________________\n",
      "dropout_2 (Dropout)          (None, 32)                0         \n",
      "_________________________________________________________________\n",
      "dense_3 (Dense)              (None, 16)                528       \n",
      "_________________________________________________________________\n",
      "dropout_3 (Dropout)          (None, 16)                0         \n",
      "_________________________________________________________________\n",
      "dense_4 (Dense)              (None, 1)                 17        \n",
      "=================================================================\n",
      "Total params: 3,265\n",
      "Trainable params: 3,265\n",
      "Non-trainable params: 0\n",
      "_________________________________________________________________\n"
     ]
    }
   ],
   "source": [
    "# create model\n",
    "model = Sequential()\n",
    "model.add(Dense(units = 64, kernel_initializer = 'uniform', activation = 'relu', input_dim = 9))\n",
    "model.add(Dropout( 0.2))\n",
    "model.add(Dense(units = 32, kernel_initializer = 'uniform', activation = 'relu'))\n",
    "model.add(Dropout(0.2))\n",
    "model.add(Dense(units = 16, kernel_initializer = 'uniform', activation = 'relu'))\n",
    "model.add(Dropout(0.2))\n",
    "model.add(Dense(units = 1, kernel_initializer = 'uniform', activation = 'sigmoid'))\n",
    "\n",
    "# Compile model\n",
    "model.compile(optimizer = 'adam', loss = 'binary_crossentropy', metrics = ['accuracy'])\n",
    "\n",
    "# Get Model Summary\n",
    "model.summary()\n"
   ]
  },
  {
   "cell_type": "markdown",
   "metadata": {},
   "source": [
    "# Weights and Biases for First Layer "
   ]
  },
  {
   "cell_type": "code",
   "execution_count": 7,
   "metadata": {},
   "outputs": [
    {
     "name": "stdout",
     "output_type": "stream",
     "text": [
      "The weights for first layer has dimensions of (9, 64)\n",
      "\n",
      "The Biases for first layer has dimensions of (64,) and the values are :\n",
      "[0. 0. 0. 0. 0. 0. 0. 0. 0. 0. 0. 0. 0. 0. 0. 0. 0. 0. 0. 0. 0. 0. 0. 0.\n",
      " 0. 0. 0. 0. 0. 0. 0. 0. 0. 0. 0. 0. 0. 0. 0. 0. 0. 0. 0. 0. 0. 0. 0. 0.\n",
      " 0. 0. 0. 0. 0. 0. 0. 0. 0. 0. 0. 0. 0. 0. 0. 0.]\n",
      "\n",
      "Just so we know that the weights have changed after training, we will be comparing the sum of weights of the first layer before and after training.\n",
      "\n",
      "The sum of weights of the first layer is :-0.27367854\n",
      "The sum of biases of the first layer is :0.0\n"
     ]
    }
   ],
   "source": [
    "# Before Training\n",
    "weights = model.layers[0].get_weights()\n",
    "w0 = np.array(weights[0])\n",
    "b0 = np.array(weights[1])\n",
    "print(\"The weights for first layer has dimensions of \" + str(w0.shape))\n",
    "print()\n",
    "print(\"The Biases for first layer has dimensions of \" + str(b0.shape)+\" and the values are :\\n\" + str(b0))\n",
    "print()\n",
    "print(\"Just so we know that the weights have changed after training,\\\n",
    " we will be comparing the sum of weights of the first layer before and after training.\")\n",
    "print()\n",
    "print(\"The sum of weights of the first layer is :\" + str(w0.sum()))\n",
    "print(\"The sum of biases of the first layer is :\" + str(b0.sum()))\n",
    "\n"
   ]
  },
  {
   "cell_type": "markdown",
   "metadata": {},
   "source": [
    "# Training the Model"
   ]
  },
  {
   "cell_type": "code",
   "execution_count": 8,
   "metadata": {},
   "outputs": [
    {
     "name": "stdout",
     "output_type": "stream",
     "text": [
      "Training Loss: 0.0713097348479357\n",
      "Training Accuracy: 0.9740820734341252\n",
      "\n",
      "Validation Loss: 0.07167263894245543\n",
      "Validation Accuracy: 0.9741379289791502\n",
      "\n",
      "Test Loss: 0.0852863776488501\n",
      "Test Accuracy: 0.9805825242718447\n",
      "\n"
     ]
    },
    {
     "data": {
      "image/png": "[encoded data removed]",
      "text/plain": [
       "<Figure size 432x288 with 1 Axes>"
      ]
     },
     "metadata": {},
     "output_type": "display_data"
    },
    {
     "data": {
      "image/png": "[encoded data removed]",
      "text/plain": [
       "<Figure size 432x288 with 1 Axes>"
      ]
     },
     "metadata": {},
     "output_type": "display_data"
    }
   ],
   "source": [
    "# Train \n",
    "h = model.fit(X_train, Y_train,\n",
    "          batch_size=batch_size,\n",
    "          epochs=epochs,\n",
    "          verbose=0,\n",
    "validation_data=(X_val, Y_val))\n",
    "\n",
    "# Evaluate Accuracy\n",
    "\n",
    "score = model.evaluate(X_test, Y_test, verbose=0)\n",
    "\n",
    "print('Training Loss:', h.history['loss'][-1])\n",
    "print('Training Accuracy:', h.history['acc'][-1])\n",
    "print()\n",
    "print('Validation Loss:', h.history['val_loss'][-1])\n",
    "print('Validation Accuracy:', h.history['val_acc'][-1])\n",
    "print()\n",
    "print('Test Loss:', score[0])\n",
    "print('Test Accuracy:', score[1])\n",
    "print()\n",
    "\n",
    "# Plot Graphs\n",
    "# print(h.history.keys())\n",
    "accuracy = h.history['acc']\n",
    "val_accuracy = h.history['val_acc']\n",
    "loss = h.history['loss']\n",
    "val_loss = h.history['val_loss']\n",
    "epochs = range(len(accuracy))\n",
    "plt.plot(epochs, accuracy, 'r', label='Training accuracy')\n",
    "plt.plot(epochs, val_accuracy, 'b', label='Validation accuracy')\n",
    "plt.title('Test accuracy :' + str(score[1]))\n",
    "plt.legend()\n",
    "plt.show()\n",
    "plt.figure()\n",
    "plt.plot(epochs, loss, 'r', label='Training loss')\n",
    "plt.plot(epochs, val_loss, 'b', label='Validation loss')\n",
    "plt.title('Test loss:'+str(score[0]))\n",
    "plt.legend()\n",
    "plt.show()\n"
   ]
  },
  {
   "cell_type": "markdown",
   "metadata": {},
   "source": [
    "# Inferences\n",
    "* Here a simple fully connected model was ale to get a convergence in 15 epochs with a batch size of 32.\n",
    "* As the test accuracy was also above 97 %, we can say that the parameters chosen are correct.\n",
    "* A simple fully connected model worked here as the input is a less complex matrix as compared to images in MNIST and fashion MNIST. Also Conv2D is not used as it is needed when we want to extract features from images.\n",
    "* ** Dense Layers: ** Four fully connect layers are used with dropouts in between. The hidden units are again taken in power of 2. \n",
    "* ** Drop Out: ** This is very Essential as it helps prevent over fitting. The drop out rate was set to 0.1.\n",
    "* Using other methods like BatchNormalization and Maxpolling is not required here because of the simplicity of the model or the less number of weights.\n",
    "* As this is a binary classifier, the final layer consists of sigmoid function as activation and the loss function used is a binary_crossentropy loss.\n",
    "    \n"
   ]
  },
  {
   "cell_type": "markdown",
   "metadata": {},
   "source": [
    "#  Weights and Biases for First Layer After Training "
   ]
  },
  {
   "cell_type": "code",
   "execution_count": 9,
   "metadata": {},
   "outputs": [
    {
     "name": "stdout",
     "output_type": "stream",
     "text": [
      "The weights for first layer has dimensions of (9, 64)\n",
      "\n",
      "The Biases for first layer has dimensions of (64,) and the values are :\n",
      "[0.00565082 0.11447307 0.11100366 0.12224284 0.11190101 0.11120802\n",
      " 0.09813787 0.0932091  0.10682337 0.10079738 0.10276962 0.10654137\n",
      " 0.11700526 0.11261878 0.11765338 0.1042446  0.12294795 0.12512106\n",
      " 0.11745223 0.10702112 0.13799985 0.09850707 0.11602484 0.1184485\n",
      " 0.11815976 0.122028   0.0988709  0.13012977 0.10767307 0.12677155\n",
      " 0.09933781 0.12721375 0.09612524 0.08008504 0.09697195 0.1109754\n",
      " 0.0802253  0.11672504 0.12173473 0.11094635 0.10507268 0.11560145\n",
      " 0.11227549 0.04680694 0.1264726  0.11976074 0.07090484 0.10593776\n",
      " 0.10071041 0.12147024 0.11003634 0.09747186 0.09982739 0.10775392\n",
      " 0.12674405 0.11154057 0.11493925 0.14127669 0.11108415 0.13439618\n",
      " 0.1074697  0.12055368 0.0631986  0.1232283 ]\n",
      "\n",
      "The sum of weights of the first layer is :-15.355629\n",
      "The sum of biases of the first layer is :6.9183106\n",
      "As we can see the sum has changed, indicating that the weights are now tuned.\n"
     ]
    }
   ],
   "source": [
    "# After Training\n",
    "weights = model.layers[0].get_weights()\n",
    "w0 = np.array(weights[0])\n",
    "b0 = np.array(weights[1])\n",
    "print(\"The weights for first layer has dimensions of \" + str(w0.shape))\n",
    "print()\n",
    "print(\"The Biases for first layer has dimensions of \" + str(b0.shape)+\" and the values are :\\n\" + str(b0))\n",
    "print()\n",
    "print(\"The sum of weights of the first layer is :\" + str(w0.sum()))\n",
    "print(\"The sum of biases of the first layer is :\" + str(b0.sum()))\n",
    "print(\"As we can see the sum has changed, indicating that the weights are now tuned.\")\n"
   ]
  },
  {
   "cell_type": "markdown",
   "metadata": {},
   "source": [
    "# Calculate Confusion Matrix"
   ]
  },
  {
   "cell_type": "code",
   "execution_count": 10,
   "metadata": {},
   "outputs": [
    {
     "name": "stdout",
     "output_type": "stream",
     "text": [
      "Confusion Matrix is :\n",
      "[[62  1]\n",
      " [ 1 39]]\n"
     ]
    }
   ],
   "source": [
    "\n",
    "# Predict the values from the validation dataset\n",
    "Y_pred1 = model.predict(X_test)\n",
    "Y_pred= (Y_pred1>0.5)*1 \n",
    "# compute the confusion matrix\n",
    "confusion_mtx = confusion_matrix(Y_test, Y_pred) \n",
    "print(\"Confusion Matrix is :\\n\"+str(confusion_mtx))\n"
   ]
  },
  {
   "cell_type": "markdown",
   "metadata": {},
   "source": [
    "# Incorrect Predictions\n"
   ]
  },
  {
   "cell_type": "code",
   "execution_count": 11,
   "metadata": {},
   "outputs": [
    {
     "name": "stdout",
     "output_type": "stream",
     "text": [
      "Number of Incorrect Predicitons are: 2 out of 103 inputs\n",
      "\n",
      "Displaying the errors\n",
      "     radius   texture  perimeter      area  smoothness  compactness  \\\n",
      "0  0.199843 -0.701771  -0.406259  2.514682    0.344297     0.402924   \n",
      "1 -0.155086 -0.701771  -0.740883  0.062662   -1.005190     0.402924   \n",
      "\n",
      "   concavity  concave points  symmetry  Actual Value  Predictd Value  \n",
      "0  -0.590189       -0.612417 -0.348686           0.0             1.0  \n",
      "1  -0.590189       -0.612417 -0.348686           1.0             0.0  \n"
     ]
    }
   ],
   "source": [
    "# Errors are difference between predicted labels and true labels\n",
    "errors = (Y_pred - Y_test != 0)\n",
    "incorrect = (errors*1).sum()\n",
    "print (\"Number of Incorrect Predicitons are: \" + str(incorrect)+ \" out of \"+ str (errors.size)+\" inputs\")\n",
    "Y_pred_errors = Y_pred1[errors]\n",
    "Y_true_errors = Y_test[errors]\n",
    "errordata = np.zeros(shape=(incorrect,11))\n",
    "pos = np.where(errors == True)\n",
    "for i in range(0,pos[0].size):\n",
    "    errordata1 = np.hstack((X_test[pos[0][i]],Y_test[pos[0][i]]))\n",
    "    errordata1 = np.reshape(np.hstack((errordata1,Y_pred[pos[0][i]])),(1,11))\n",
    "    errordata[i] = errordata1\n",
    "\n",
    "print()\n",
    "print(\"Displaying the errors\")\n",
    "# Preview the training data\n",
    "print (pd.DataFrame(errordata,columns= \n",
    "                    ['radius', 'texture','perimeter', 'area' , 'smoothness','compactness', 'concavity',\n",
    "                     'concave points', 'symmetry','Actual Value','Predictd Value']))"
   ]
  },
  {
   "cell_type": "markdown",
   "metadata": {},
   "source": [
    "# Human_Detector\n",
    "[![Build Status](https://travis-ci.org/anirudhtopiwala/Human_Detector.svg?branch=master)](https://travis-ci.org/anirudhtopiwala/Human_Detector)\n",
    "[![Coverage Status](https://coveralls.io/repos/github/anirudhtopiwala/Human_Detector/badge.svg?branch=master)](https://coveralls.io/github/anirudhtopiwala/Human_Detector?branch=master)\n",
    "---\n",
    "\n",
    "## Overview\n",
    "Human detection is an old and important problem in the field of object detection.Current technologies\n",
    "easily detect static obstacles. But, detecting dynamic obstacles has always been tough.In dynamic obstacles, human obstacles are the most important as any collision might lead to injury or loss of life which is highly undesirable for any product. This has generated a need for an accurate detector for making the algorithms more robust and efficient. \n",
    "\n",
    "To this extent we propose an algorithm that can detect humans in frame by making rectangular bounding\n",
    "boxes around individual humans. The center position of the rectangle will be used as the pixel location in\n",
    "that frame. The pixel coordinates can then be used with a robots intrinsic and extrinsic transformations (not\n",
    "considered in this project) to track the human with respect to the robot world frame.  We would be using\n",
    "Histogram of Oriented Gradient (HOG) as the feature extractor. Support Vector Machine (SVM) will be used\n",
    "as a classifier which will be using the extracted HOG features as a classifying factor [1]. The data set used for\n",
    "training images will be from Caltech Pedestrian Dataset [2] or the INRIA Person Dataset [\n",
    "\n",
    "## Project Breakdown\n",
    "<p align=\"center\">\n",
    "<img src=\"https://github.com/anirudhtopiwala/Human_Detector/blob/master/ProjectBreakdown.jpg\">\n",
    "</p>\n",
    "\n",
    "## Standard install via command-line\n",
    "```\n",
    "git clone --recursive https://github.com/anirudhtopiwala/Human_Detector.git\n",
    "cd <path to repository>\n",
    "mkdir build\n",
    "cd build\n",
    "cmake ..\n",
    "make\n",
    "Run tests: ./test/cpp-test\n",
    "Run program: ./app/detect\n",
    "```\n",
    "\n",
    "## Building for code coverage (for assignments beginning in Week 4)\n",
    "```\n",
    "sudo apt-get install lcov\n",
    "cmake -D COVERAGE=ON -D CMAKE_BUILD_TYPE=Debug ../\n",
    "make\n",
    "make code_coverage\n",
    "```\n",
    "This generates a index.html page in the build/coverage sub-directory that can be viewed locally in a web browser.\n",
    "\n",
    "## Working with Eclipse IDE ##\n",
    "\n",
    "## Installation\n",
    "\n",
    "In your Eclipse workspace directory (or create a new one), checkout the repo (and submodules)\n",
    "```\n",
    "mkdir -p ~/workspace\n",
    "cd ~/workspace\n",
    "git clone --recursive https://github.com/anirudhtopiwala/Human_Detector.git\n",
    "```\n",
    "\n",
    "In your work directory, use cmake to create an Eclipse project for an [out-of-source build] of cpp-boilerplate\n",
    "\n",
    "```\n",
    "cd ~/workspace\n",
    "mkdir -p boilerplate-eclipse\n",
    "cd boilerplate-eclipse\n",
    "cmake -G \"Eclipse CDT4 - Unix Makefiles\" -D CMAKE_BUILD_TYPE=Debug -D CMAKE_ECLIPSE_VERSION=4.7.0 -D CMAKE_CXX_COMPILER_ARG1=-std=c++14 ../cpp-boilerplate/\n",
    "```\n",
    "\n",
    "## Import\n",
    "\n",
    "Open Eclipse, go to File -> Import -> General -> Existing Projects into Workspace -> \n",
    "Select \"boilerplate-eclipse\" directory created previously as root directory -> Finish\n",
    "\n",
    "# Edit\n",
    "\n",
    "Source files may be edited under the \"[Source Directory]\" label in the Project Explorer.\n",
    "\n",
    "\n",
    "## Dependencies\n",
    "\n",
    "Install OpenCV 3.3.0 using the following commands\n",
    "\n",
    "Install Dependencies\n",
    "```\n",
    "sudo apt-get install build-essential checkinstall cmake pkg-config yasm gfortran git\n",
    "sudo apt-get install libjpeg8-dev libjasper-dev libpng12-dev\n",
    "# If you are using Ubuntu 14.04\n",
    "sudo apt-get install libtiff4-dev\n",
    "# If you are using Ubuntu 16.04\n",
    "sudo apt-get install libtiff5-dev\n",
    "sudo apt-get install libavcodec-dev libavformat-dev libswscale-dev libdc1394-22-dev\n",
    "sudo apt-get install libxine2-dev libv4l-dev\n",
    "sudo apt-get install libgstreamer0.10-dev libgstreamer-plugins-base0.10-dev\n",
    "sudo apt-get install libqt4-dev libgtk2.0-dev libtbb-dev\n",
    "sudo apt-get install libatlas-base-dev\n",
    "sudo apt-get install libfaac-dev libmp3lame-dev libtheora-dev\n",
    "sudo apt-get install libvorbis-dev libxvidcore-dev\n",
    "sudo apt-get install libopencore-amrnb-dev libopencore-amrwb-dev\n",
    "sudo apt-get install x264 v4l-utils\n",
    "```\n",
    "Download and Compile OpenCV\n",
    "```\n",
    "git clone https://github.com/opencv/opencv.git\n",
    "cd opencv \n",
    "git checkout 3.3.0 \n",
    "cd ..\n",
    "git clone https://github.com/opencv/opencv_contrib.git\n",
    "cd opencv_contrib\n",
    "git checkout 3.3.0\n",
    "cd ..\n",
    "cd opencv\n",
    "mkdir build\n",
    "cd build\n",
    "cmake -D CMAKE_BUILD_TYPE=RELEASE \\\n",
    "      -D CMAKE_INSTALL_PREFIX=/usr/local \\\n",
    "      -D INSTALL_C_EXAMPLES=ON \\\n",
    "      -D WITH_TBB=ON \\\n",
    "      -D WITH_V4L=ON \\\n",
    "      -D WITH_QT=ON \\\n",
    "      -D OPENCV_EXTRA_MODULES_PATH=../../opencv_contrib/modules \\\n",
    "      -D BUILD_EXAMPLES=ON ..\n",
    "# find out number of CPU cores in your machine\n",
    "nproc\n",
    "# substitute 4 by output of nproc\n",
    "make -j4\n",
    "sudo make install\n",
    "sudo sh -c 'echo \"/usr/local/lib\" >> /etc/ld.so.conf.d/opencv.conf'\n",
    "sudo ldconfig\n",
    "```\n",
    "## How to build\n",
    "```\n",
    "git clone --recursive https://github.com/anirudhtopiwala/Human_Detector.git\n",
    "cd <path to repository>\n",
    "mkdir build\n",
    "cd build\n",
    "cmake ..\n",
    "make\n",
    "```\n",
    "\n",
    "## How to run demo\n",
    "Go to your build directory and run the following command\n",
    "\n",
    "```\n",
    "./app/detect\n",
    "```\n",
    "\n",
    "## How to run tests\n",
    "Go to your build directory and run the following command\n",
    "\n",
    "```\n",
    "./test/cpp-test\n",
    "```\n"
   ]
  },
  {
   "cell_type": "code",
   "execution_count": null,
   "metadata": {},
   "outputs": [],
   "source": []
  }
 ],
 "metadata": {
  "kernelspec": {
   "display_name": "Python 3",
   "language": "python",
   "name": "python3"
  },
  "language_info": {
   "codemirror_mode": {
    "name": "ipython",
    "version": 3
   },
   "file_extension": ".py",
   "mimetype": "text/x-python",
   "name": "python",
   "nbconvert_exporter": "python",
   "pygments_lexer": "ipython3",
   "version": "3.5.2"
  }
 },
 "nbformat": 4,
 "nbformat_minor": 2
}
