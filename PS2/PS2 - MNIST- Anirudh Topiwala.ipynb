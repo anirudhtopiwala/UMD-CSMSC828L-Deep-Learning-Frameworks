{
 "cells": [
  {
   "cell_type": "markdown",
   "metadata": {},
   "source": [
    "# Classify the data shown in the MNIST data\n",
    "\n",
    "\n",
    "* Do this using the best practices discussed in class (i.e. one hot encoding, ReLU, CNNS when you should, etc.)\n",
    "\n",
    "* Have reasonable hyperparameters\n"
   ]
  },
  {
   "cell_type": "code",
   "execution_count": 1,
   "metadata": {},
   "outputs": [
    {
     "name": "stderr",
     "output_type": "stream",
     "text": [
      "/home/anirudh/anaconda2/envs/py36/lib/python3.6/site-packages/h5py/__init__.py:36: FutureWarning: Conversion of the second argument of issubdtype from `float` to `np.floating` is deprecated. In future, it will be treated as `np.float64 == np.dtype(float).type`.\n",
      "  from ._conv import register_converters as _register_converters\n",
      "Using TensorFlow backend.\n"
     ]
    }
   ],
   "source": [
    "# Importing the libraries\n",
    "import numpy as np\n",
    "import keras\n",
    "from matplotlib import pyplot as plt\n",
    "import seaborn as sns\n",
    "from keras.models import Sequential\n",
    "from keras.layers import Dense, Dropout, Activation, Flatten\n",
    "from keras.layers import Conv2D, MaxPooling2D\n",
    "from sklearn.metrics import confusion_matrix\n",
    "\n",
    "\n",
    "\n"
   ]
  },
  {
   "cell_type": "markdown",
   "metadata": {},
   "source": [
    "# Loading the Training and Testing Data"
   ]
  },
  {
   "cell_type": "code",
   "execution_count": 2,
   "metadata": {},
   "outputs": [],
   "source": [
    "# Loading the Training and Testing Data\n",
    "trainImages = np.load('./MNIST/trainImages.npy')\n",
    "testImages = np.load('./MNIST/testImages.npy')\n",
    "trainLabels = np.load('./MNIST/trainLabels.npy')\n",
    "testLabels = np.load('./MNIST/testLabels.npy')"
   ]
  },
  {
   "cell_type": "markdown",
   "metadata": {},
   "source": [
    "# Converting to Float32 to do input data Normalization"
   ]
  },
  {
   "cell_type": "code",
   "execution_count": 3,
   "metadata": {},
   "outputs": [],
   "source": [
    "# Converting to Float32 to do input dat# Loading the Training and Testing Dataa Normalization\n",
    "trainImages = trainImages.astype('float32') #images loaded in as int64, 0 to 255 integers\n",
    "testImages = testImages.astype('float32')\n",
    "# Normalization\n",
    "trainImages /= 255\n",
    "testImages /= 255"
   ]
  },
  {
   "cell_type": "markdown",
   "metadata": {},
   "source": [
    "# Showing the Input Data after Normalizing"
   ]
  },
  {
   "cell_type": "code",
   "execution_count": 4,
   "metadata": {},
   "outputs": [
    {
     "data": {
      "image/png": "[encoded data removed]",
      "text/plain": [
       "<Figure size 864x720 with 6 Axes>"
      ]
     },
     "metadata": {},
     "output_type": "display_data"
    }
   ],
   "source": [
    "# Preview the training data\n",
    "plt.figure(figsize=(12,10))\n",
    "x, y = 3, 3\n",
    "for i in range(6):  \n",
    "    plt.subplot(y, x, i+1)\n",
    "    plt.imshow(trainImages[i].reshape((28,28)),interpolation='nearest')\n",
    "plt.show()"
   ]
  },
  {
   "cell_type": "markdown",
   "metadata": {},
   "source": [
    "# Setting Hyper Paramters"
   ]
  },
  {
   "cell_type": "code",
   "execution_count": 5,
   "metadata": {},
   "outputs": [],
   "source": [
    "# Hyper Parameters\n",
    "batch_size = 32\n",
    "num_classes = testLabels.shape[1]\n",
    "epochs = 10"
   ]
  },
  {
   "cell_type": "markdown",
   "metadata": {},
   "source": [
    "# Creating Sequential Model"
   ]
  },
  {
   "cell_type": "code",
   "execution_count": 6,
   "metadata": {},
   "outputs": [
    {
     "name": "stdout",
     "output_type": "stream",
     "text": [
      "_________________________________________________________________\n",
      "Layer (type)                 Output Shape              Param #   \n",
      "=================================================================\n",
      "conv2d_1 (Conv2D)            (None, 64, 26, 26)        640       \n",
      "_________________________________________________________________\n",
      "conv2d_2 (Conv2D)            (None, 62, 24, 32)        7520      \n",
      "_________________________________________________________________\n",
      "max_pooling2d_1 (MaxPooling2 (None, 31, 12, 32)        0         \n",
      "_________________________________________________________________\n",
      "dropout_1 (Dropout)          (None, 31, 12, 32)        0         \n",
      "_________________________________________________________________\n",
      "flatten_1 (Flatten)          (None, 11904)             0         \n",
      "_________________________________________________________________\n",
      "dense_1 (Dense)              (None, 128)               1523840   \n",
      "_________________________________________________________________\n",
      "dropout_2 (Dropout)          (None, 128)               0         \n",
      "_________________________________________________________________\n",
      "dense_2 (Dense)              (None, 10)                1290      \n",
      "=================================================================\n",
      "Total params: 1,533,290\n",
      "Trainable params: 1,533,290\n",
      "Non-trainable params: 0\n",
      "_________________________________________________________________\n"
     ]
    }
   ],
   "source": [
    "# create model\n",
    "img_rows, img_cols = 28, 28\n",
    "input_shape = (1,img_rows, img_cols)\n",
    "model = Sequential()\n",
    "model.add(Conv2D(64, kernel_size=(3, 3),\n",
    "                 activation='relu',data_format='channels_first',use_bias=True ,\n",
    "#                  bias_initializer = keras.initializers.glorot_uniform(seed=None),\n",
    "                 input_shape=input_shape))          # Adding weights for tuning\n",
    "model.add(Conv2D(32, (3, 3), activation='relu'))    # Added another layer as this \n",
    "                                                    # smoothens the training accuracy curve\n",
    "model.add(MaxPooling2D(pool_size=(2, 2)))           # Reducing the parmaters\n",
    "model.add(Dropout(0.25))                            # Adding non linearity and randomness\n",
    "model.add(Flatten())                                # Converting to 1D as required before  \n",
    "                                                    # fully connected layer.\n",
    "model.add(Dense(128, activation='relu'))            # fully connected layer with 128 hidden units\n",
    "model.add(Dropout(0.45))                            # Adding non linearity and randomness\n",
    "model.add(Dense(num_classes, activation='softmax')) # Final fully connected layer.\n",
    "\n",
    "# Compile model\n",
    "model.compile(loss=keras.losses.categorical_crossentropy,\n",
    "    optimizer=keras.optimizers.Adam(),metrics=['accuracy'])\n",
    "# Get Model Summary\n",
    "model.summary()"
   ]
  },
  {
   "cell_type": "markdown",
   "metadata": {},
   "source": [
    "# Weights and Biases for First Layer "
   ]
  },
  {
   "cell_type": "code",
   "execution_count": 7,
   "metadata": {},
   "outputs": [
    {
     "name": "stdout",
     "output_type": "stream",
     "text": [
      "The weights for first layer has dimensions of (3, 3, 1, 64)\n",
      "\n",
      "The Biases for first layer has dimensions of (64,) and the values are :\n",
      "[0. 0. 0. 0. 0. 0. 0. 0. 0. 0. 0. 0. 0. 0. 0. 0. 0. 0. 0. 0. 0. 0. 0. 0.\n",
      " 0. 0. 0. 0. 0. 0. 0. 0. 0. 0. 0. 0. 0. 0. 0. 0. 0. 0. 0. 0. 0. 0. 0. 0.\n",
      " 0. 0. 0. 0. 0. 0. 0. 0. 0. 0. 0. 0. 0. 0. 0. 0.]\n",
      "\n",
      "Just so we know that the weights have changed after training, we will be comparing the sum of weights of the first layer before and after training.\n",
      "\n",
      "The sum of weights of the first layer is :-0.89286906\n",
      "The sum of biases of the first layer is :0.0\n"
     ]
    }
   ],
   "source": [
    "# Before Training\n",
    "weights = model.layers[0].get_weights()\n",
    "w0 = np.array(weights[0])\n",
    "b0 = np.array(weights[1])\n",
    "print(\"The weights for first layer has dimensions of \" + str(w0.shape))\n",
    "print()\n",
    "print(\"The Biases for first layer has dimensions of \" + str(b0.shape)+\" and the values are :\\n\" + str(b0))\n",
    "print()\n",
    "print(\"Just so we know that the weights have changed after training,\\\n",
    " we will be comparing the sum of weights of the first layer before and after training.\")\n",
    "print()\n",
    "print(\"The sum of weights of the first layer is :\" + str(w0.sum()))\n",
    "print(\"The sum of biases of the first layer is :\" + str(b0.sum()))\n",
    "\n"
   ]
  },
  {
   "cell_type": "markdown",
   "metadata": {},
   "source": [
    "# Training the Model"
   ]
  },
  {
   "cell_type": "code",
   "execution_count": 8,
   "metadata": {},
   "outputs": [
    {
     "name": "stdout",
     "output_type": "stream",
     "text": [
      "Training Loss: 0.03027751198658128\n",
      "Training Accuracy: 0.9902166666666666\n",
      "\n",
      "Validation Loss: 0.04407373062672932\n",
      "Validation Accuracy: 0.9906\n",
      "\n"
     ]
    },
    {
     "data": {
      "image/png": "[encoded data removed]",
      "text/plain": [
       "<Figure size 432x288 with 1 Axes>"
      ]
     },
     "metadata": {},
     "output_type": "display_data"
    },
    {
     "data": {
      "image/png": "[encoded data removed]",
      "text/plain": [
       "<Figure size 432x288 with 1 Axes>"
      ]
     },
     "metadata": {},
     "output_type": "display_data"
    }
   ],
   "source": [
    "# Train \n",
    "# Here I have considered the test data as the validation data.\n",
    "h = model.fit(trainImages, trainLabels,\n",
    "          batch_size=batch_size,\n",
    "          epochs=epochs,\n",
    "          verbose=0,\n",
    "validation_data=(testImages, testLabels))\n",
    "\n",
    "# Evaluate Accuracy\n",
    "score = model.evaluate(testImages, testLabels, verbose=0)\n",
    "print('Training Loss:', h.history['loss'][-1])\n",
    "print('Training Accuracy:', h.history['acc'][-1])\n",
    "print()\n",
    "print('Validation Loss:', h.history['val_loss'][-1])\n",
    "print('Validation Accuracy:', h.history['val_acc'][-1])\n",
    "print()\n",
    "\n",
    "# Plot Graphs\n",
    "# print(h.history.keys())\n",
    "accuracy = h.history['acc']\n",
    "val_accuracy = h.history['val_acc']\n",
    "loss = h.history['loss']\n",
    "val_loss = h.history['val_loss']\n",
    "epochs = range(len(accuracy))\n",
    "plt.plot(epochs, accuracy, 'r', label='Training accuracy')\n",
    "plt.plot(epochs, val_accuracy, 'b', label='Validation accuracy')\n",
    "plt.title('validation accuracy :' + str(score[1]))\n",
    "plt.legend()\n",
    "plt.show()\n",
    "plt.figure()\n",
    "plt.plot(epochs, loss, 'r', label='Training loss')\n",
    "plt.plot(epochs, val_loss, 'b', label='Validation loss')\n",
    "plt.title('validation loss:'+str(score[0]))\n",
    "plt.legend()\n",
    "plt.show()\n",
    "\n"
   ]
  },
  {
   "cell_type": "markdown",
   "metadata": {},
   "source": [
    "# Inferences\n",
    "* There are 2 Convolution Layers and 2 Dense or Fully Connected Layers with subsequent Max Pooling and Dropout Layer.\n",
    "* The number of hidden units in each layer are experimentally fine tuned. The units were experimented in 2^n multiples like 16, 32 , 64 ,128 , 256. \n",
    "* ** Input Conv2D layer: ** The weights are initialized by Glorot uniform initializer, which is the default. This is set as the values are nicely zero centered and within -1 and 1.The biases are set to zero as it improves the accuracy by 0.2 as compared to randomly distribued values between (-1 and 1)(found out by experimnetation).This is also recommended as per in CS231 from Standord. \n",
    "    * The kernel size is set to minimum of (3,3). This is because the image size is already small (28,28) and by using large kernel size there wont be enough data left to add more convolution layers.\n",
    "    * the activation is set to RELU, as it is the most recommended and also as the input is normalized between 0 and 1.\n",
    "* ** Max Pooling layer: ** for pooling Max Pooling is used. Again as the input size is very less. The maxpooling kernel size is set to (2,2). This works as there is still enough information in a (2,2) window and it also does not throw out a lot of valuable data.\n",
    "* ** Drop Out: ** This is very Essential as it helps prevent over fitting. Two dropout layers are used. \n",
    "    * The first one is in between convolution layers. The dropout of 0.25 was determined to be optimal. At this vlaue the convergence of Training accuracy to validation accuracy was smooth and gradual as compared to other values.\n",
    "    * The second dropout was used just before the final fully connected layer. This is kept at 0.45 as experimnetally determined and is used to reduce overfitting.\n",
    "* ** Dense Layers: ** Two fully connect layers are used with a dropput in between. This seems to give good performances in MNIST and Fashion MNIST.\n",
    "    * For final fully connected layer, softmax is used as activation. This is because there are a total of 10 classes and the predicted output can exactly be any one of these classes.\n",
    "* ** Loss ** : as one hot encoding is used, categorical_crossentropy loss is used as loss function. This is used as it is the most recommended one.\n",
    "* ** Optimizer ** : Different Optimizers were tried out. For MNIST even with different optimizers there was not a lot of change in the convergence time or the number of epochs. \n",
    "    * For example, I used Adagrad and each epoch took 3 seconds less to finish as compared to Adam, but the final validation accuracy was higher for Adam. Therefore I finally decided to use Adam as my optimizers. The default paramteres were not further tuned as the accuracy was already above 99 percent."
   ]
  },
  {
   "cell_type": "markdown",
   "metadata": {},
   "source": [
    "#  Weights and Biases for First Layer After Training "
   ]
  },
  {
   "cell_type": "code",
   "execution_count": 9,
   "metadata": {},
   "outputs": [
    {
     "name": "stdout",
     "output_type": "stream",
     "text": [
      "The weights for first layer has dimensions of (3, 3, 1, 64)\n",
      "\n",
      "The Biases for first layer has dimensions of (64,) and the values are :\n",
      "[-0.0695055   0.06757601 -0.1709299   0.05736716 -0.05625711 -0.00859211\n",
      " -0.03032804 -0.04839925 -0.14820492 -0.01303454 -0.02829761 -0.00408949\n",
      "  0.02921727 -0.02300315  0.06372973 -0.01574015 -0.09737701 -0.02820285\n",
      " -0.17450123 -0.07554159 -0.00713212 -0.08186575 -0.11296158 -0.07823884\n",
      " -0.06248639  0.02378723  0.00871323 -0.06646944 -0.04796613 -0.09732646\n",
      " -0.07466779 -0.01293016 -0.01219311 -0.07616463 -0.02806685 -0.02756438\n",
      " -0.00720451 -0.00551827  0.04854751 -0.06112623 -0.01117081 -0.06499381\n",
      "  0.0147022  -0.10208052 -0.00578168 -0.00893003  0.01993094 -0.004114\n",
      " -0.20875984 -0.00225884 -0.12641157 -0.07453895 -0.01771431 -0.0215746\n",
      " -0.03626124 -0.06726413 -0.00414854 -0.01427964 -0.0083693   0.01614451\n",
      " -0.0476915   0.01532683 -0.201816   -0.09709164]\n",
      "\n",
      "The sum of weights of the first layer is :-14.237207\n",
      "The sum of biases of the first layer is :-2.6120954\n",
      "As we can see the sum has changed, indicating that the weights are now tuned.\n"
     ]
    }
   ],
   "source": [
    "# After Training\n",
    "weights = model.layers[0].get_weights()\n",
    "w0 = np.array(weights[0])\n",
    "b0 = np.array(weights[1])\n",
    "print(\"The weights for first layer has dimensions of \" + str(w0.shape))\n",
    "print()\n",
    "print(\"The Biases for first layer has dimensions of \" + str(b0.shape)+\" and the values are :\\n\" + str(b0))\n",
    "print()\n",
    "print(\"The sum of weights of the first layer is :\" + str(w0.sum()))\n",
    "print(\"The sum of biases of the first layer is :\" + str(b0.sum()))\n",
    "print(\"As we can see the sum has changed, indicating that the weights are now tuned.\")\n"
   ]
  },
  {
   "cell_type": "markdown",
   "metadata": {},
   "source": [
    "# Calculate Confusion Matrix"
   ]
  },
  {
   "cell_type": "code",
   "execution_count": 10,
   "metadata": {},
   "outputs": [
    {
     "name": "stdout",
     "output_type": "stream",
     "text": [
      "Confusion Matrix is :\n",
      "[[ 977    0    0    1    0    0    1    0    1    0]\n",
      " [   0 1129    1    2    0    1    1    0    1    0]\n",
      " [   1    1 1020    1    1    0    1    5    2    0]\n",
      " [   0    0    1  999    0    4    0    3    2    1]\n",
      " [   0    0    0    0  973    0    2    0    2    5]\n",
      " [   1    0    0    2    0  883    5    1    0    0]\n",
      " [   2    2    0    0    0    1  951    0    2    0]\n",
      " [   0    3    4    1    1    0    0 1017    1    1]\n",
      " [   4    0    1    0    0    0    1    1  966    1]\n",
      " [   0    0    0    1    7    0    0    9    1  991]]\n"
     ]
    }
   ],
   "source": [
    "\n",
    "# Predict the values from the validation dataset\n",
    "Y_pred = model.predict(testImages)\n",
    "# Convert predictions classes to one hot vectors \n",
    "Y_pred_classes = np.argmax(Y_pred, axis = 1) \n",
    "# Convert validation observations to one hot vectors\n",
    "Y_true = np.argmax(testLabels, axis = 1) \n",
    "# compute the confusion matrix\n",
    "confusion_mtx = confusion_matrix(Y_true, Y_pred_classes) \n",
    "print(\"Confusion Matrix is :\\n\"+str(confusion_mtx))\n"
   ]
  },
  {
   "cell_type": "markdown",
   "metadata": {},
   "source": [
    "# Incorrect Predictions\n"
   ]
  },
  {
   "cell_type": "code",
   "execution_count": 11,
   "metadata": {},
   "outputs": [
    {
     "name": "stdout",
     "output_type": "stream",
     "text": [
      "Number of Incorrect Predicitons are: 94 out of 10000 inputs\n",
      "\n",
      "Displaying the top 6 errors\n"
     ]
    },
    {
     "data": {
      "image/png": "[encoded data removed]",
      "text/plain": [
       "<Figure size 432x288 with 6 Axes>"
      ]
     },
     "metadata": {},
     "output_type": "display_data"
    }
   ],
   "source": [
    "# Errors are difference between predicted labels and true labels\n",
    "errors = (Y_pred_classes - Y_true != 0)\n",
    "incorrect = (errors*1).sum()\n",
    "print (\"Number of Incorrect Predicitons are: \" + str(incorrect)+ \" out of \"+ str (errors.size)+\" inputs\")\n",
    "Y_pred_classes_errors = Y_pred_classes[errors]\n",
    "Y_pred_errors = Y_pred[errors]\n",
    "Y_true_errors = Y_true[errors]\n",
    "X_val_errors = testImages[errors]\n",
    "\n",
    "def display_errors(errors_index,img_errors,pred_errors, obs_errors):\n",
    "    \"\"\" This function shows 6 images with their predicted and real labels\"\"\"\n",
    "    n = 0\n",
    "    nrows = 2\n",
    "    ncols = 3\n",
    "    fig, ax = plt.subplots(nrows,ncols,sharex=True,sharey=True)\n",
    "    for row in range(nrows):\n",
    "        for col in range(ncols):\n",
    "            error = errors_index[n]\n",
    "            ax[row,col].imshow((img_errors[error]).reshape((28,28)))\n",
    "            ax[row,col].set_title(\"Predicted label :{}\\nTrue label :{}\".format(pred_errors[error],\n",
    "                                                                               obs_errors[error]))\n",
    "            n += 1\n",
    "    fig.tight_layout()\n",
    "\n",
    "    \n",
    "# Probabilities of the wrong predicted numbers\n",
    "Y_pred_errors_prob = np.max(Y_pred_errors,axis = 1)\n",
    "\n",
    "# Predicted probabilities of the true values in the error set\n",
    "true_prob_errors = np.diagonal(np.take(Y_pred_errors, Y_true_errors, axis=1))\n",
    "\n",
    "# Difference between the probability of the predicted label and the true label\n",
    "delta_pred_true_errors = Y_pred_errors_prob - true_prob_errors\n",
    "\n",
    "# Sorted list of the delta prob errors\n",
    "sorted_dela_errors = np.argsort(delta_pred_true_errors)\n",
    "\n",
    "# Top 6 errors \n",
    "most_important_errors = sorted_dela_errors[-6:]\n",
    "\n",
    "# Show the top 6 errors\n",
    "print()\n",
    "print(\"Displaying the top 6 errors\")\n",
    "display_errors(most_important_errors, X_val_errors, Y_pred_classes_errors, Y_true_errors)"
   ]
  }
 ],
 "metadata": {
  "kernelspec": {
   "display_name": "Python 3",
   "language": "python",
   "name": "python3"
  },
  "language_info": {
   "codemirror_mode": {
    "name": "ipython",
    "version": 3
   },
   "file_extension": ".py",
   "mimetype": "text/x-python",
   "name": "python",
   "nbconvert_exporter": "python",
   "pygments_lexer": "ipython3",
   "version": "3.6.5"
  }
 },
 "nbformat": 4,
 "nbformat_minor": 2
}
