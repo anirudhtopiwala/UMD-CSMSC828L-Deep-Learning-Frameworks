{
 "cells": [
  {
   "cell_type": "markdown",
   "metadata": {},
   "source": [
    "# Classify the breast cancer measurements as benign or malignant\n",
    "\n",
    "\n",
    "* Do this using the best practices discussed in class (i.e. one hot encoding, ReLU, CNNS when you should, etc.)\n",
    "\n",
    "* Have reasonable hyperparameters\n"
   ]
  },
  {
   "cell_type": "code",
   "execution_count": 19,
   "metadata": {},
   "outputs": [],
   "source": [
    "# Importing the libraries\n",
    "import numpy as np\n",
    "import keras\n",
    "from matplotlib import pyplot as plt\n",
    "# import seaborn as sns\n",
    "from keras.models import Sequential\n",
    "from keras.layers import Dense, Dropout, Activation, Flatten, BatchNormalization\n",
    "from keras.layers import Conv2D, MaxPooling2D\n",
    "from sklearn.metrics import confusion_matrix\n",
    "from sklearn.model_selection import train_test_split\n",
    "import pandas as pd\n",
    "# !pip install pandas\n",
    "from keras import optimizers\n",
    "\n",
    "\n"
   ]
  },
  {
   "cell_type": "markdown",
   "metadata": {},
   "source": [
    "# Loading the Data and Scaling the Features"
   ]
  },
  {
   "cell_type": "code",
   "execution_count": 20,
   "metadata": {},
   "outputs": [
    {
     "name": "stderr",
     "output_type": "stream",
     "text": [
      "/home/anirudh/detect/lib/python3.5/site-packages/sklearn/preprocessing/data.py:617: DataConversionWarning: Data with input dtype int64 were all converted to float64 by StandardScaler.\n",
      "  return self.partial_fit(X, y)\n",
      "/home/anirudh/detect/lib/python3.5/site-packages/sklearn/base.py:462: DataConversionWarning: Data with input dtype int64 were all converted to float64 by StandardScaler.\n",
      "  return self.fit(X, **fit_params).transform(X)\n"
     ]
    }
   ],
   "source": [
    "# Loading the Training and Testing Data\n",
    "X = pd.read_csv('./Breast Cancer/breastCancerData.csv')\n",
    "Y = pd.read_csv('./Breast Cancer/breastCancerLabels.csv')\n",
    "\n",
    "#Feature Scaling\n",
    "from sklearn.preprocessing import StandardScaler\n",
    "sc = StandardScaler()\n",
    "X = sc.fit_transform(X)\n",
    "\n",
    "Y= np.array(Y)"
   ]
  },
  {
   "cell_type": "markdown",
   "metadata": {},
   "source": [
    "# Splitting the Data into Training, Validation and Test Data"
   ]
  },
  {
   "cell_type": "code",
   "execution_count": 21,
   "metadata": {},
   "outputs": [],
   "source": [
    "# Splitting the Data into Training and Test Data\n",
    "# X_train, X_test,Y_train,Y_test = train_test_split(X,Y, test_size=0.15)\n",
    "\n",
    "# # Splitting the Training Data into training and Validation Data\n",
    "# X_train, X_val,Y_train,Y_val = train_test_split(X_train, Y_train, test_size=0.2)\n",
    "\n",
    "# print(\"For this problem the number of training data is:\" + str(X_train.shape[0]) +\"\\nThe number of\" +\n",
    "# \" validation data is:\" + str(X_val.shape[0]) + \"\\nand the number of test data is:\" + str(X_test.shape[0]))"
   ]
  },
  {
   "cell_type": "code",
   "execution_count": 22,
   "metadata": {},
   "outputs": [],
   "source": [
    "X_train = np.load('../../Umbilicus_Skin_Detection/code/X_train.npy').astype('float32')\n",
    "Y_train = np.load('../../Umbilicus_Skin_Detection/code/Y_train.npy').astype('float32')\n",
    "X_val = np.load('../../Umbilicus_Skin_Detection/code/X_test.npy').astype('float32')\n",
    "Y_val = np.load('../../Umbilicus_Skin_Detection/code/Y_test.npy').astype('float32')"
   ]
  },
  {
   "cell_type": "markdown",
   "metadata": {},
   "source": [
    "# Showing the Training Data after Normalizing"
   ]
  },
  {
   "cell_type": "code",
   "execution_count": 23,
   "metadata": {},
   "outputs": [],
   "source": [
    "# # Preview the training data\n",
    "# print (pd.DataFrame(np.hstack((X_train[0:5],Y_train[0:5])),columns= \n",
    "#                     ['radius', 'texture','perimeter', 'area' , 'smoothness','compactness', 'concavity',\n",
    "#                      'concave points', 'symmetry','Is it Malignant?']))"
   ]
  },
  {
   "cell_type": "markdown",
   "metadata": {},
   "source": [
    "# Setting Hyper Paramters"
   ]
  },
  {
   "cell_type": "code",
   "execution_count": 24,
   "metadata": {},
   "outputs": [],
   "source": [
    "# Hyper Parameters\n",
    "batch_size = 16\n",
    "num_classes = 2\n",
    "epochs = 200"
   ]
  },
  {
   "cell_type": "markdown",
   "metadata": {},
   "source": [
    "# Creating Model"
   ]
  },
  {
   "cell_type": "code",
   "execution_count": 26,
   "metadata": {},
   "outputs": [
    {
     "name": "stdout",
     "output_type": "stream",
     "text": [
      "_________________________________________________________________\n",
      "Layer (type)                 Output Shape              Param #   \n",
      "=================================================================\n",
      "dense_17 (Dense)             (None, 256)               512256    \n",
      "_________________________________________________________________\n",
      "dropout_13 (Dropout)         (None, 256)               0         \n",
      "_________________________________________________________________\n",
      "dense_18 (Dense)             (None, 128)               32896     \n",
      "_________________________________________________________________\n",
      "dropout_14 (Dropout)         (None, 128)               0         \n",
      "_________________________________________________________________\n",
      "dense_19 (Dense)             (None, 16)                2064      \n",
      "_________________________________________________________________\n",
      "dropout_15 (Dropout)         (None, 16)                0         \n",
      "_________________________________________________________________\n",
      "dense_20 (Dense)             (None, 1)                 17        \n",
      "=================================================================\n",
      "Total params: 547,233\n",
      "Trainable params: 547,233\n",
      "Non-trainable params: 0\n",
      "_________________________________________________________________\n"
     ]
    }
   ],
   "source": [
    "# create model\n",
    "model = Sequential()\n",
    "model.add(Dense(units = 256, kernel_initializer = 'uniform', activation = 'relu', input_dim = 2000))\n",
    "model.add(Dropout( 0.2))\n",
    "model.add(Dense(units = 128, kernel_initializer = 'uniform', activation = 'relu'))\n",
    "model.add(Dropout(0.2))\n",
    "model.add(Dense(units = 16, kernel_initializer = 'uniform', activation = 'relu'))\n",
    "model.add(Dropout(0.2))\n",
    "model.add(Dense(units = 1, kernel_initializer = 'uniform', activation = 'sigmoid'))\n",
    "\n",
    "# Compile model\n",
    "# model.compile(optimizer = 'adam', loss = 'binary_crossentropy', metrics = ['accuracy'])\n",
    "sgd = optimizers.SGD(lr=0.0001, decay=1e-6, momentum=0.9, nesterov=True)\n",
    "model.compile(loss = 'binary_crossentropy', metrics = ['accuracy'], optimizer=sgd)\n",
    "# Get Model Summary\n",
    "model.summary()\n"
   ]
  },
  {
   "cell_type": "markdown",
   "metadata": {},
   "source": [
    "# Weights and Biases for First Layer "
   ]
  },
  {
   "cell_type": "code",
   "execution_count": 27,
   "metadata": {},
   "outputs": [
    {
     "name": "stdout",
     "output_type": "stream",
     "text": [
      "The weights for first layer has dimensions of (2000, 256)\n",
      "\n",
      "The Biases for first layer has dimensions of (256,) and the values are :\n",
      "[0. 0. 0. 0. 0. 0. 0. 0. 0. 0. 0. 0. 0. 0. 0. 0. 0. 0. 0. 0. 0. 0. 0. 0.\n",
      " 0. 0. 0. 0. 0. 0. 0. 0. 0. 0. 0. 0. 0. 0. 0. 0. 0. 0. 0. 0. 0. 0. 0. 0.\n",
      " 0. 0. 0. 0. 0. 0. 0. 0. 0. 0. 0. 0. 0. 0. 0. 0. 0. 0. 0. 0. 0. 0. 0. 0.\n",
      " 0. 0. 0. 0. 0. 0. 0. 0. 0. 0. 0. 0. 0. 0. 0. 0. 0. 0. 0. 0. 0. 0. 0. 0.\n",
      " 0. 0. 0. 0. 0. 0. 0. 0. 0. 0. 0. 0. 0. 0. 0. 0. 0. 0. 0. 0. 0. 0. 0. 0.\n",
      " 0. 0. 0. 0. 0. 0. 0. 0. 0. 0. 0. 0. 0. 0. 0. 0. 0. 0. 0. 0. 0. 0. 0. 0.\n",
      " 0. 0. 0. 0. 0. 0. 0. 0. 0. 0. 0. 0. 0. 0. 0. 0. 0. 0. 0. 0. 0. 0. 0. 0.\n",
      " 0. 0. 0. 0. 0. 0. 0. 0. 0. 0. 0. 0. 0. 0. 0. 0. 0. 0. 0. 0. 0. 0. 0. 0.\n",
      " 0. 0. 0. 0. 0. 0. 0. 0. 0. 0. 0. 0. 0. 0. 0. 0. 0. 0. 0. 0. 0. 0. 0. 0.\n",
      " 0. 0. 0. 0. 0. 0. 0. 0. 0. 0. 0. 0. 0. 0. 0. 0. 0. 0. 0. 0. 0. 0. 0. 0.\n",
      " 0. 0. 0. 0. 0. 0. 0. 0. 0. 0. 0. 0. 0. 0. 0. 0.]\n",
      "\n",
      "Just so we know that the weights have changed after training, we will be comparing the sum of weights of the first layer before and after training.\n",
      "\n",
      "The sum of weights of the first layer is :1.9074275\n",
      "The sum of biases of the first layer is :0.0\n"
     ]
    }
   ],
   "source": [
    "# Before Training\n",
    "weights = model.layers[0].get_weights()\n",
    "w0 = np.array(weights[0])\n",
    "b0 = np.array(weights[1])\n",
    "print(\"The weights for first layer has dimensions of \" + str(w0.shape))\n",
    "print()\n",
    "print(\"The Biases for first layer has dimensions of \" + str(b0.shape)+\" and the values are :\\n\" + str(b0))\n",
    "print()\n",
    "print(\"Just so we know that the weights have changed after training,\\\n",
    " we will be comparing the sum of weights of the first layer before and after training.\")\n",
    "print()\n",
    "print(\"The sum of weights of the first layer is :\" + str(w0.sum()))\n",
    "print(\"The sum of biases of the first layer is :\" + str(b0.sum()))\n",
    "\n"
   ]
  },
  {
   "cell_type": "markdown",
   "metadata": {},
   "source": [
    "# Training the Model"
   ]
  },
  {
   "cell_type": "code",
   "execution_count": 28,
   "metadata": {},
   "outputs": [
    {
     "name": "stdout",
     "output_type": "stream",
     "text": [
      "Training Loss: 0.024453486953464876\n",
      "Training Accuracy: 0.9941471571906354\n",
      "\n",
      "Validation Loss: 1.5470696748420596\n",
      "Validation Accuracy: 0.74375\n",
      "\n",
      "Test Loss: 1.5470697212219238\n",
      "Test Accuracy: 0.74375\n",
      "\n"
     ]
    },
    {
     "data": {
      "image/png": "[encoded data removed]",
      "text/plain": [
       "<Figure size 432x288 with 1 Axes>"
      ]
     },
     "metadata": {
      "needs_background": "light"
     },
     "output_type": "display_data"
    },
    {
     "data": {
      "image/png": "[encoded data removed]",
      "text/plain": [
       "<Figure size 432x288 with 1 Axes>"
      ]
     },
     "metadata": {
      "needs_background": "light"
     },
     "output_type": "display_data"
    }
   ],
   "source": [
    "# Train \n",
    "h = model.fit(X_train, Y_train,\n",
    "          batch_size=batch_size,\n",
    "          epochs=epochs,\n",
    "          verbose=0,\n",
    "validation_data=(X_val, Y_val))\n",
    "\n",
    "# Evaluate Accuracy\n",
    "\n",
    "score = model.evaluate(X_val, Y_val, verbose=0)\n",
    "\n",
    "print('Training Loss:', h.history['loss'][-1])\n",
    "print('Training Accuracy:', h.history['acc'][-1])\n",
    "print()\n",
    "print('Validation Loss:', h.history['val_loss'][-1])\n",
    "print('Validation Accuracy:', h.history['val_acc'][-1])\n",
    "print()\n",
    "print('Test Loss:', score[0])\n",
    "print('Test Accuracy:', score[1])\n",
    "print()\n",
    "\n",
    "# Plot Graphs\n",
    "# print(h.history.keys())\n",
    "accuracy = h.history['acc']\n",
    "val_accuracy = h.history['val_acc']\n",
    "loss = h.history['loss']\n",
    "val_loss = h.history['val_loss']\n",
    "epochs = range(len(accuracy))\n",
    "plt.plot(epochs, accuracy, 'r', label='Training accuracy')\n",
    "plt.plot(epochs, val_accuracy, 'b', label='Validation accuracy')\n",
    "plt.title('Test accuracy :' + str(score[1]))\n",
    "plt.legend()\n",
    "plt.show()\n",
    "plt.figure()\n",
    "plt.plot(epochs, loss, 'r', label='Training loss')\n",
    "plt.plot(epochs, val_loss, 'b', label='Validation loss')\n",
    "plt.title('Test loss:'+str(score[0]))\n",
    "plt.legend()\n",
    "plt.show()\n"
   ]
  },
  {
   "cell_type": "markdown",
   "metadata": {},
   "source": [
    "# Inferences\n",
    "* Here a simple fully connected model was ale to get a convergence in 15 epochs with a batch size of 32.\n",
    "* As the test accuracy was also above 97 %, we can say that the parameters chosen are correct.\n",
    "* A simple fully connected model worked here as the input is a less complex matrix as compared to images in MNIST and fashion MNIST. Also Conv2D is not used as it is needed when we want to extract features from images.\n",
    "* ** Dense Layers: ** Four fully connect layers are used with dropouts in between. The hidden units are again taken in power of 2. \n",
    "* ** Drop Out: ** This is very Essential as it helps prevent over fitting. The drop out rate was set to 0.1.\n",
    "* Using other methods like BatchNormalization and Maxpolling is not required here because of the simplicity of the model or the less number of weights.\n",
    "* As this is a binary classifier, the final layer consists of sigmoid function as activation and the loss function used is a binary_crossentropy loss.\n",
    "    \n"
   ]
  },
  {
   "cell_type": "markdown",
   "metadata": {},
   "source": [
    "## Testing and Visualizing"
   ]
  },
  {
   "cell_type": "code",
   "execution_count": null,
   "metadata": {},
   "outputs": [],
   "source": []
  },
  {
   "cell_type": "markdown",
   "metadata": {},
   "source": [
    "# Incorrect Predictions\n"
   ]
  },
  {
   "cell_type": "code",
   "execution_count": 31,
   "metadata": {},
   "outputs": [
    {
     "ename": "NameError",
     "evalue": "name 'Y_pred' is not defined",
     "output_type": "error",
     "traceback": [
      "\u001b[0;31m---------------------------------------------------------------------------\u001b[0m",
      "\u001b[0;31mNameError\u001b[0m                                 Traceback (most recent call last)",
      "\u001b[0;32m<ipython-input-31-8508c3ad33fb>\u001b[0m in \u001b[0;36m<module>\u001b[0;34m\u001b[0m\n\u001b[1;32m      1\u001b[0m \u001b[0;31m# Errors are difference between predicted labels and true labels\u001b[0m\u001b[0;34m\u001b[0m\u001b[0;34m\u001b[0m\u001b[0m\n\u001b[0;32m----> 2\u001b[0;31m \u001b[0merrors\u001b[0m \u001b[0;34m=\u001b[0m \u001b[0;34m(\u001b[0m\u001b[0mY_pred\u001b[0m \u001b[0;34m-\u001b[0m \u001b[0mY_test\u001b[0m \u001b[0;34m!=\u001b[0m \u001b[0;36m0\u001b[0m\u001b[0;34m)\u001b[0m\u001b[0;34m\u001b[0m\u001b[0m\n\u001b[0m\u001b[1;32m      3\u001b[0m \u001b[0mincorrect\u001b[0m \u001b[0;34m=\u001b[0m \u001b[0;34m(\u001b[0m\u001b[0merrors\u001b[0m\u001b[0;34m*\u001b[0m\u001b[0;36m1\u001b[0m\u001b[0;34m)\u001b[0m\u001b[0;34m.\u001b[0m\u001b[0msum\u001b[0m\u001b[0;34m(\u001b[0m\u001b[0;34m)\u001b[0m\u001b[0;34m\u001b[0m\u001b[0m\n\u001b[1;32m      4\u001b[0m \u001b[0mprint\u001b[0m \u001b[0;34m(\u001b[0m\u001b[0;34m\"Number of Incorrect Predicitons are: \"\u001b[0m \u001b[0;34m+\u001b[0m \u001b[0mstr\u001b[0m\u001b[0;34m(\u001b[0m\u001b[0mincorrect\u001b[0m\u001b[0;34m)\u001b[0m\u001b[0;34m+\u001b[0m \u001b[0;34m\" out of \"\u001b[0m\u001b[0;34m+\u001b[0m \u001b[0mstr\u001b[0m \u001b[0;34m(\u001b[0m\u001b[0merrors\u001b[0m\u001b[0;34m.\u001b[0m\u001b[0msize\u001b[0m\u001b[0;34m)\u001b[0m\u001b[0;34m+\u001b[0m\u001b[0;34m\" inputs\"\u001b[0m\u001b[0;34m)\u001b[0m\u001b[0;34m\u001b[0m\u001b[0m\n\u001b[1;32m      5\u001b[0m \u001b[0mY_pred_errors\u001b[0m \u001b[0;34m=\u001b[0m \u001b[0mY_pred1\u001b[0m\u001b[0;34m[\u001b[0m\u001b[0merrors\u001b[0m\u001b[0;34m]\u001b[0m\u001b[0;34m\u001b[0m\u001b[0m\n",
      "\u001b[0;31mNameError\u001b[0m: name 'Y_pred' is not defined"
     ]
    }
   ],
   "source": [
    "# Errors are difference between predicted labels and true labels\n",
    "errors = (Y_pred - Y_test != 0)\n",
    "incorrect = (errors*1).sum()\n",
    "print (\"Number of Incorrect Predicitons are: \" + str(incorrect)+ \" out of \"+ str (errors.size)+\" inputs\")\n",
    "Y_pred_errors = Y_pred1[errors]\n",
    "Y_true_errors = Y_test[errors]\n",
    "errordata = np.zeros(shape=(incorrect,11))\n",
    "pos = np.where(errors == True)\n",
    "for i in range(0,pos[0].size):\n",
    "    errordata1 = np.hstack((X_test[pos[0][i]],Y_test[pos[0][i]]))\n",
    "    errordata1 = np.reshape(np.hstack((errordata1,Y_pred[pos[0][i]])),(1,11))\n",
    "    errordata[i] = errordata1\n",
    "\n",
    "print()\n",
    "print(\"Displaying the errors\")\n",
    "# Preview the training data\n",
    "print (pd.DataFrame(errordata,columns= \n",
    "                    ['radius', 'texture','perimeter', 'area' , 'smoothness','compactness', 'concavity',\n",
    "                     'concave points', 'symmetry','Actual Value','Predictd Value']))"
   ]
  },
  {
   "cell_type": "code",
   "execution_count": null,
   "metadata": {},
   "outputs": [],
   "source": []
  },
  {
   "cell_type": "code",
   "execution_count": null,
   "metadata": {},
   "outputs": [],
   "source": []
  }
 ],
 "metadata": {
  "kernelspec": {
   "display_name": "Python 3",
   "language": "python",
   "name": "python3"
  },
  "language_info": {
   "codemirror_mode": {
    "name": "ipython",
    "version": 3
   },
   "file_extension": ".py",
   "mimetype": "text/x-python",
   "name": "python",
   "nbconvert_exporter": "python",
   "pygments_lexer": "ipython3",
   "version": "3.5.2"
  }
 },
 "nbformat": 4,
 "nbformat_minor": 2
}
