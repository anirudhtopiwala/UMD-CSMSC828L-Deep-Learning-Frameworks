{
 "cells": [
  {
   "cell_type": "markdown",
   "metadata": {},
   "source": [
    "# Classify the kind of clothing item (pant, shirt, etc.) shown in the Fashion MNIST dataset\n",
    "\n",
    "\n",
    "* Do this using the best practices discussed in class (i.e. one hot encoding, ReLU, CNNS when you should, etc.)\n",
    "\n",
    "* Have reasonable hyperparameters\n"
   ]
  },
  {
   "cell_type": "code",
   "execution_count": 3,
   "metadata": {},
   "outputs": [
    {
     "name": "stderr",
     "output_type": "stream",
     "text": [
      "/home/anirudh/anaconda2/envs/py36/lib/python3.6/site-packages/h5py/__init__.py:36: FutureWarning: Conversion of the second argument of issubdtype from `float` to `np.floating` is deprecated. In future, it will be treated as `np.float64 == np.dtype(float).type`.\n",
      "  from ._conv import register_converters as _register_converters\n",
      "Using TensorFlow backend.\n"
     ]
    }
   ],
   "source": [
    "# Importing the libraries\n",
    "import numpy as np\n",
    "import keras\n",
    "from matplotlib import pyplot as plt\n",
    "import seaborn as sns\n",
    "from keras.models import Sequential\n",
    "from keras.layers import Dense, Dropout, Activation, Flatten, BatchNormalization\n",
    "from keras.layers import Conv2D, MaxPooling2D\n",
    "from sklearn.metrics import confusion_matrix\n",
    "from sklearn.model_selection import train_test_split\n",
    "# from keras import backend as K\n",
    "# K.tensorflow_backend._get_available_gpus()\n",
    "\n",
    "\n"
   ]
  },
  {
   "cell_type": "markdown",
   "metadata": {},
   "source": [
    "# Loading the Training and Testing Data"
   ]
  },
  {
   "cell_type": "code",
   "execution_count": 4,
   "metadata": {},
   "outputs": [],
   "source": [
    "# Loading the Training and Testing Data\n",
    "trainImages = np.load('./Fashion MNIST/trainImages.npy')\n",
    "testImages = np.load('./Fashion MNIST/testImages.npy')\n",
    "trainLabels = np.load('./Fashion MNIST/trainLabels.npy')\n",
    "testLabels = np.load('./Fashion MNIST/testLabels.npy')"
   ]
  },
  {
   "cell_type": "markdown",
   "metadata": {},
   "source": [
    "# Converting to Float32 to do input data Normalization"
   ]
  },
  {
   "cell_type": "code",
   "execution_count": 5,
   "metadata": {},
   "outputs": [],
   "source": [
    "# Converting to Float32 to do input data Normalization\n",
    "trainImages = trainImages.astype('float32') #images loaded in as int64, 0 to 255 integers\n",
    "testImages = testImages.astype('float32')\n",
    "# Normalization\n",
    "trainImages /= 255\n",
    "testImages /= 255"
   ]
  },
  {
   "cell_type": "markdown",
   "metadata": {},
   "source": [
    "# Showing the Input Data after Normalizing"
   ]
  },
  {
   "cell_type": "code",
   "execution_count": 4,
   "metadata": {},
   "outputs": [
    {
     "data": {
      "image/png": "[encoded data removed]",
      "text/plain": [
       "<Figure size 864x720 with 6 Axes>"
      ]
     },
     "metadata": {},
     "output_type": "display_data"
    }
   ],
   "source": [
    "# Preview the training data\n",
    "plt.figure(figsize=(12,10))# Showing the Input Data after Normalizing\n",
    "x, y = 3, 3\n",
    "for i in range(6):  \n",
    "    plt.subplot(y, x, i+1)\n",
    "    plt.imshow(trainImages[i].reshape((28,28)),interpolation='nearest')\n",
    "plt.show()"
   ]
  },
  {
   "cell_type": "markdown",
   "metadata": {},
   "source": [
    "# Splitting the Data into Training and Validation Data"
   ]
  },
  {
   "cell_type": "code",
   "execution_count": 5,
   "metadata": {},
   "outputs": [
    {
     "name": "stdout",
     "output_type": "stream",
     "text": [
      "For this problem the number of training data is:48000\n",
      "The number of validation data is:12000\n",
      "and the number of test data is:10000\n"
     ]
    }
   ],
   "source": [
    "# Splitting the Training Data into training and Validation Data\n",
    "X_train,X_val, Y_train,Y_val = train_test_split(trainImages, trainLabels, test_size=0.2)\n",
    "\n",
    "print(\"For this problem the number of training data is:\" + str(X_train.shape[0]) +\"\\nThe number of\" +\n",
    "\" validation data is:\" + str(X_val.shape[0]) + \"\\nand the number of test data is:\" + str(testImages.shape[0]))\n",
    "\n"
   ]
  },
  {
   "cell_type": "markdown",
   "metadata": {},
   "source": [
    "# Setting Hyper Paramters"
   ]
  },
  {
   "cell_type": "code",
   "execution_count": 6,
   "metadata": {},
   "outputs": [],
   "source": [
    "# Hyper Parameters\n",
    "batch_size = 64\n",
    "num_classes = testLabels.shape[1]\n",
    "epochs = 20"
   ]
  },
  {
   "cell_type": "markdown",
   "metadata": {},
   "source": [
    "# Creating Model"
   ]
  },
  {
   "cell_type": "code",
   "execution_count": 7,
   "metadata": {},
   "outputs": [
    {
     "name": "stdout",
     "output_type": "stream",
     "text": [
      "_________________________________________________________________\n",
      "Layer (type)                 Output Shape              Param #   \n",
      "=================================================================\n",
      "conv2d_1 (Conv2D)            (None, 32, 26, 26)        320       \n",
      "_________________________________________________________________\n",
      "conv2d_2 (Conv2D)            (None, 30, 24, 64)        15040     \n",
      "_________________________________________________________________\n",
      "max_pooling2d_1 (MaxPooling2 (None, 15, 12, 64)        0         \n",
      "_________________________________________________________________\n",
      "dropout_1 (Dropout)          (None, 15, 12, 64)        0         \n",
      "_________________________________________________________________\n",
      "flatten_1 (Flatten)          (None, 11520)             0         \n",
      "_________________________________________________________________\n",
      "dense_1 (Dense)              (None, 128)               1474688   \n",
      "_________________________________________________________________\n",
      "dropout_2 (Dropout)          (None, 128)               0         \n",
      "_________________________________________________________________\n",
      "dense_2 (Dense)              (None, 10)                1290      \n",
      "=================================================================\n",
      "Total params: 1,491,338\n",
      "Trainable params: 1,491,338\n",
      "Non-trainable params: 0\n",
      "_________________________________________________________________\n"
     ]
    }
   ],
   "source": [
    "# create model\n",
    "img_rows, img_cols = 28, 28\n",
    "input_shape = (1,img_rows, img_cols)\n",
    "model = Sequential()\n",
    "model.add(Conv2D(32, kernel_size=(3, 3),\n",
    "                 activation='relu',data_format='channels_first',use_bias=True ,\n",
    "#                  bias_initializer = keras.initializers.glorot_uniform(seed=None),\n",
    "                 input_shape=input_shape))          # Adding weights for tuning\n",
    "# model.add(BatchNormalization())\n",
    "model.add(Conv2D(64, (3, 3), activation='relu'))    # Added another layer as this \n",
    "                                                    # smoothens the training accuracy curve\n",
    "# model.add(BatchNormalization())\n",
    "model.add(MaxPooling2D(pool_size=(2, 2)))           # Reducing the parmaters\n",
    "model.add(Dropout(0.25))                             # Adding non linearity and randomness\n",
    "model.add(Flatten())                                # Converting to 1D as required before  \n",
    "                                                    # fully connected layer.\n",
    "model.add(Dense(128, activation='relu'))            # fully connected layer with 128 hidden units\n",
    "# model.add(BatchNormalization())\n",
    "model.add(Dropout(0.5))                             # Adding non linearity and randomness\n",
    "model.add(Dense(num_classes, activation='softmax')) # Final fully connected layer.\n",
    "# Compile model\n",
    "model.compile(loss=keras.losses.categorical_crossentropy,\n",
    "    optimizer=keras.optimizers.Adadelta(),metrics=['accuracy'])\n",
    "# Get Model Summary\n",
    "model.summary()"
   ]
  },
  {
   "cell_type": "markdown",
   "metadata": {},
   "source": [
    "# Weights and Biases for First Layer "
   ]
  },
  {
   "cell_type": "code",
   "execution_count": 8,
   "metadata": {},
   "outputs": [
    {
     "name": "stdout",
     "output_type": "stream",
     "text": [
      "The weights for first layer has dimensions of (3, 3, 1, 32)\n",
      "\n",
      "The Biases for first layer has dimensions of (32,) and the values are :\n",
      "[0. 0. 0. 0. 0. 0. 0. 0. 0. 0. 0. 0. 0. 0. 0. 0. 0. 0. 0. 0. 0. 0. 0. 0.\n",
      " 0. 0. 0. 0. 0. 0. 0. 0.]\n",
      "\n",
      "Just so we know that the weights have changed after training, we will be comparing the sum of weights of he first layer before and after training.\n",
      "\n",
      "The sum of weights of the first layer is :-0.47791335\n",
      "The sum of biases of the first layer is :0.0\n"
     ]
    }
   ],
   "source": [
    "# Before Training\n",
    "weights = model.layers[0].get_weights()\n",
    "w0 = np.array(weights[0])\n",
    "b0 = np.array(weights[1])\n",
    "print(\"The weights for first layer has dimensions of \" + str(w0.shape))\n",
    "print()\n",
    "print(\"The Biases for first layer has dimensions of \" + str(b0.shape)+\" and the values are :\\n\" + str(b0))\n",
    "print()\n",
    "print(\"Just so we know that the weights have changed after training,\\\n",
    " we will be comparing the sum of weights of he first layer before and after training.\")\n",
    "print()\n",
    "print(\"The sum of weights of the first layer is :\" + str(w0.sum()))\n",
    "print(\"The sum of biases of the first layer is :\" + str(b0.sum()))\n",
    "\n"
   ]
  },
  {
   "cell_type": "markdown",
   "metadata": {},
   "source": [
    "# Training the Model"
   ]
  },
  {
   "cell_type": "code",
   "execution_count": 9,
   "metadata": {
    "scrolled": true
   },
   "outputs": [
    {
     "name": "stdout",
     "output_type": "stream",
     "text": [
      "Training Loss: 0.13424885125209887\n",
      "Training Accuracy: 0.951625\n",
      "\n",
      "Validation Loss: 0.2452846585114797\n",
      "Validation Accuracy: 0.923\n",
      "\n",
      "Test Loss: 0.2743830148816109\n",
      "Test Accuracy: 0.9164\n",
      "\n"
     ]
    },
    {
     "data": {
      "image/png": "[encoded data removed]",
      "text/plain": [
       "<Figure size 432x288 with 1 Axes>"
      ]
     },
     "metadata": {},
     "output_type": "display_data"
    },
    {
     "data": {
      "image/png": "[encoded data removed]",
      "text/plain": [
       "<Figure size 432x288 with 1 Axes>"
      ]
     },
     "metadata": {},
     "output_type": "display_data"
    }
   ],
   "source": [
    "# Train \n",
    "# Here I have considered the test data as the validation data.\n",
    "h = model.fit(X_train, Y_train,\n",
    "          batch_size=batch_size,\n",
    "          epochs=epochs,\n",
    "          verbose=0,\n",
    "validation_data=(X_val, Y_val))\n",
    "\n",
    "# Evaluate Accuracy\n",
    "\n",
    "score = model.evaluate(testImages, testLabels, verbose=0)\n",
    "print('Training Loss:', h.history['loss'][-1])\n",
    "print('Training Accuracy:', h.history['acc'][-1])\n",
    "print()\n",
    "print('Validation Loss:', h.history['val_loss'][-1])\n",
    "print('Validation Accuracy:', h.history['val_acc'][-1])\n",
    "print()\n",
    "print('Test Loss:', score[0])\n",
    "print('Test Accuracy:', score[1])\n",
    "print()\n",
    "\n",
    "# Plot Graphs\n",
    "# print(h.history.keys())\n",
    "accuracy = h.history['acc']\n",
    "val_accuracy = h.history['val_acc']\n",
    "loss = h.history['loss']\n",
    "val_loss = h.history['val_loss']\n",
    "epochs = range(len(accuracy))\n",
    "plt.plot(epochs, accuracy, 'r', label='Training accuracy')\n",
    "plt.plot(epochs, val_accuracy, 'b', label='Validation accuracy')\n",
    "plt.title('Test accuracy :' + str(score[1]))\n",
    "plt.legend()\n",
    "plt.show()\n",
    "plt.figure()\n",
    "plt.plot(epochs, loss, 'r', label='Training loss')\n",
    "plt.plot(epochs, val_loss, 'b', label='Validation loss')\n",
    "plt.title('Test loss:'+str(score[0]))\n",
    "plt.legend()\n",
    "plt.show()\n"
   ]
  },
  {
   "cell_type": "markdown",
   "metadata": {},
   "source": [
    "# Inferences\n",
    "* The same model was used as used in MNIST. The model seems to be working good with only increase in number of Epochs to 20. the batch size was reduced to to 64 for more updates.\n",
    "* Before using the same model I tried Fashion MNISt with other models as well. Below are the accuracy received with each model:\n",
    "    * With 3 Dense (fully connected layers); Test Accuracy after 12 epochs was; 90.82 %\n",
    "    * With 2 Dense and 1 convolution : Test Accuracy after 12 epochs: 91.11 %\n",
    "    * With 2 Dense and 2 convolution: Test Accuracy is after 12 epochs : 91.74 %\n",
    "    * Therefore, the final option was adopted.\n",
    "* Therefore, when there is image data, use of conv2D layers  help in feature exraction.\n",
    "* There are 2 Convolution Layers and 2 Dense or Fully Connected Layers with subsequent Max Pooling and Dropout Layer.\n",
    "* The number of hidden units in each layer are experimentally fine tuned. The units were experimented in 2^n multiples like 16, 32 , 64 ,128 , 256. \n",
    "* ** Input Conv2D layer: ** The weights are initialized by Glorot uniform initializer, which is the default. This is set as the values are nicely zero centered and within -1 and 1.The biases are set to zero as it improves the accuracy by 0.14 as compared to randomly distribued values between (-1 and 1)(found out by experimnetation).This is also recommended as per in CS231 from Standord. \n",
    "    * The kernel size is set to minimum of (3,3). This is because the image size is already small (28,28) and by using large kernel size there wont be enough data left to add more convolution layers.\n",
    "    * the activation is set to RELU, as it is the most recommended and also as the input is normalized between 0 and 1.\n",
    "* ** Max Pooling layer: ** for pooling Max Pooling is used. Again as the input size is very less. The maxpooling kernel size is set to (2,2). This works as there is still enough information in a (2,2) window and it also does not throw out a lot of valuable data.\n",
    "* ** Drop Out: ** This is very Essential as it helps prevent over fitting. Two dropout layers are used. \n",
    "    * The first one is in between convolution layers. The dropout of 0.25 was determined to be optimal. At this vlaue the convergence of Training accuracy to validation accuracy was smooth and gradual as compared to other values.\n",
    "    * The second dropout was used just before the final fully connected layer. This is kept at 0.45 as experimnetally determined and is used to reduce overfitting.\n",
    "* ** Dense Layers: ** Two fully connect layers are used with a dropput in between. This seems to give good performances in MNIST and Fashion MNIST.\n",
    "    * For final fully connected layer, softmax is used as activation. This is because there are a total of 10 classes and the predicted output can exactly be any one of these classes.\n",
    "* ** Loss ** : as one hot encoding is used, categorical_crossentropy loss is used as loss function. This is used as it is the most recommended one.\n",
    "* ** Optimizer ** : Different Optimizers were tried out. Even for Fashion MNIST, for different optimizers there was not a lot of change in the convergence time or the number of epochs. \n",
    "    * For example, I used Adadelta and each epoch took 4.5 seconds less to finish as compared to Adam, also the final test accuracy was higher for Adadelta. Therefore I finally decided to use Adadelta as my optimizers. After playing with the parmaters, I come to the conclusion that the default value works the best."
   ]
  },
  {
   "cell_type": "markdown",
   "metadata": {},
   "source": [
    "#  Weights and Biases for First Layer After Training "
   ]
  },
  {
   "cell_type": "code",
   "execution_count": 13,
   "metadata": {},
   "outputs": [
    {
     "name": "stdout",
     "output_type": "stream",
     "text": [
      "The weights for first layer has dimensions of (3, 3, 1, 32)\n",
      "\n",
      "The Biases for first layer has dimensions of (32,) and the values are :\n",
      "[ 0.03732191  0.03564902 -0.02086273  0.00827906 -0.01473734  0.01437863\n",
      " -0.00281613  0.00623995 -0.00739944 -0.06542691 -0.00145124 -0.14998387\n",
      " -0.01268976 -0.01216698 -0.01292941  0.02989011  0.01361851  0.01142375\n",
      "  0.01032185 -0.03882701 -0.01248314  0.02152263 -0.09115795 -0.00246029\n",
      " -0.00022315 -0.00455045  0.04222413  0.00285289 -0.02125233  0.00818023\n",
      "  0.05506296 -0.07067282]\n",
      "\n",
      "The sum of weights of the first layer is :-0.62720954\n",
      "The sum of biases of the first layer is :-0.24512535\n",
      "As we can see the sum has changed, indicating that the weights are now tuned.\n"
     ]
    }
   ],
   "source": [
    "# After Training\n",
    "weights = model.layers[0].get_weights()\n",
    "w0 = np.array(weights[0])\n",
    "b0 = np.array(weights[1])\n",
    "print(\"The weights for first layer has dimensions of \" + str(w0.shape))\n",
    "print()\n",
    "print(\"The Biases for first layer has dimensions of \" + str(b0.shape)+\" and the values are :\\n\" + str(b0))\n",
    "print()\n",
    "print(\"The sum of weights of the first layer is :\" + str(w0.sum()))\n",
    "print(\"The sum of biases of the first layer is :\" + str(b0.sum()))\n",
    "print(\"As we can see the sum has changed, indicating that the weights are now tuned.\")\n"
   ]
  },
  {
   "cell_type": "markdown",
   "metadata": {},
   "source": [
    "# Calculate Confusion Matrix"
   ]
  },
  {
   "cell_type": "code",
   "execution_count": 14,
   "metadata": {},
   "outputs": [
    {
     "name": "stdout",
     "output_type": "stream",
     "text": [
      "Confusion Matrix is :\n",
      "[[886   2  18  13   4   1  70   0   6   0]\n",
      " [  2 983   0   9   3   0   2   0   1   0]\n",
      " [ 25   1 880   4  50   0  38   0   2   0]\n",
      " [ 11   5  11 901  44   0  26   0   2   0]\n",
      " [  3   1  52  18 895   0  30   0   1   0]\n",
      " [  0   0   0   0   0 976   0  18   0   6]\n",
      " [111   1  72  19  68   0 725   0   4   0]\n",
      " [  0   0   0   0   0   8   0 973   0  19]\n",
      " [  4   1   1   3   4   1   2   4 980   0]\n",
      " [  1   0   0   0   0   7   0  27   0 965]]\n"
     ]
    }
   ],
   "source": [
    "\n",
    "# Predict the values from the validation dataset\n",
    "Y_pred = model.predict(testImages)\n",
    "# Convert predictions classes to one hot vectors \n",
    "Y_pred_classes = np.argmax(Y_pred, axis = 1) \n",
    "# Convert validation observations to one hot vectors\n",
    "Y_true = np.argmax(testLabels, axis = 1) \n",
    "# compute the confusion matrix\n",
    "confusion_mtx = confusion_matrix(Y_true, Y_pred_classes) \n",
    "print(\"Confusion Matrix is :\\n\"+str(confusion_mtx))\n"
   ]
  },
  {
   "cell_type": "markdown",
   "metadata": {},
   "source": [
    "# Incorrect Predictions\n"
   ]
  },
  {
   "cell_type": "code",
   "execution_count": 15,
   "metadata": {},
   "outputs": [
    {
     "name": "stdout",
     "output_type": "stream",
     "text": [
      "Number of Incorrect Predicitons are: 836 out of 10000 inputs\n",
      "\n",
      "Displaying the top 6 errors\n"
     ]
    },
    {
     "data": {
      "image/png": "[encoded data removed]",
      "text/plain": [
       "<Figure size 432x288 with 6 Axes>"
      ]
     },
     "metadata": {},
     "output_type": "display_data"
    }
   ],
   "source": [
    "# Errors are difference between predicted labels and true labels\n",
    "errors = (Y_pred_classes - Y_true != 0)\n",
    "incorrect = (errors*1).sum()\n",
    "print (\"Number of Incorrect Predicitons are: \" + str(incorrect)+ \" out of \"+ str (errors.size)+\" inputs\")\n",
    "Y_pred_classes_errors = Y_pred_classes[errors]\n",
    "Y_pred_errors = Y_pred[errors]\n",
    "Y_true_errors = Y_true[errors]\n",
    "X_val_errors = testImages[errors]\n",
    "\n",
    "def display_errors(errors_index,img_errors,pred_errors, obs_errors):\n",
    "    \"\"\" This function shows 6 images with their predicted and real labels\"\"\"\n",
    "    a = ['T-shirt','Trouser','Pullover','Dress','Coat','Sandal','Shirt','Sneaker','Bag','Ankle Boot']\n",
    "    n = 0\n",
    "    nrows = 2\n",
    "    ncols = 3\n",
    "    fig, ax = plt.subplots(nrows,ncols,sharex=True,sharey=True)\n",
    "    for row in range(nrows):\n",
    "        for col in range(ncols):\n",
    "            error = errors_index[n]\n",
    "            ax[row,col].imshow((img_errors[error]).reshape((28,28)))\n",
    "            ax[row,col].set_title(\"Predicted label :{}\\nTrue label :{}\".format(a[pred_errors[error]],\n",
    "                                                                               a[obs_errors[error]]))\n",
    "            n += 1\n",
    "    fig.tight_layout()\n",
    "\n",
    "            \n",
    "    \n",
    "# Probabilities of the wrong predicted numbers\n",
    "Y_pred_errors_prob = np.max(Y_pred_errors,axis = 1)\n",
    "\n",
    "# Predicted probabilities of the true values in the error set\n",
    "true_prob_errors = np.diagonal(np.take(Y_pred_errors, Y_true_errors, axis=1))\n",
    "\n",
    "# Difference between the probability of the predicted label and the true label\n",
    "delta_pred_true_errors = Y_pred_errors_prob - true_prob_errors\n",
    "\n",
    "# Sorted list of the delta prob errors\n",
    "sorted_dela_errors = np.argsort(delta_pred_true_errors)\n",
    "\n",
    "# Top 6 errors \n",
    "most_important_errors = sorted_dela_errors[-6:]\n",
    "\n",
    "# Show the top 6 errors\n",
    "print()\n",
    "print(\"Displaying the top 6 errors\")\n",
    "display_errors(most_important_errors, X_val_errors, Y_pred_classes_errors, Y_true_errors)"
   ]
  }
 ],
 "metadata": {
  "kernelspec": {
   "display_name": "Python 3",
   "language": "python",
   "name": "python3"
  },
  "language_info": {
   "codemirror_mode": {
    "name": "ipython",
    "version": 3
   },
   "file_extension": ".py",
   "mimetype": "text/x-python",
   "name": "python",
   "nbconvert_exporter": "python",
   "pygments_lexer": "ipython3",
   "version": "3.5.2"
  }
 },
 "nbformat": 4,
 "nbformat_minor": 2
}
