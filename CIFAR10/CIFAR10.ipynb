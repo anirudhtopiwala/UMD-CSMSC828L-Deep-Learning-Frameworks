{
 "cells": [
  {
   "cell_type": "markdown",
   "metadata": {},
   "source": [
    "# Implementing CIFAR10 using deep learning"
   ]
  },
  {
   "cell_type": "code",
   "execution_count": 1,
   "metadata": {},
   "outputs": [
    {
     "name": "stderr",
     "output_type": "stream",
     "text": [
      "Using TensorFlow backend.\n"
     ]
    }
   ],
   "source": [
    "# Importing the libraries\n",
    "import numpy as np\n",
    "from matplotlib import pyplot as plt\n",
    "from sklearn.model_selection import train_test_split\n",
    "import torch\n",
    "import torchvision\n",
    "from torchvision import datasets,models, transforms\n",
    "device = 'cuda' if torch.cuda.is_available() else 'cpu'# !pip install torchsummary \n",
    "from torchsummary import summary\n",
    "import torch.nn as nn\n",
    "import torch.nn.functional as F\n",
    "torch.backends.cudnn.benchmark=True\n",
    "import os\n",
    "from keras.datasets import cifar10\n"
   ]
  },
  {
   "cell_type": "markdown",
   "metadata": {},
   "source": [
    "# Loading the Training and Testing Data using Data Loader with Data Augmentation\n",
    "\n"
   ]
  },
  {
   "cell_type": "code",
   "execution_count": 2,
   "metadata": {},
   "outputs": [
    {
     "name": "stdout",
     "output_type": "stream",
     "text": [
      "Files already downloaded and verified\n",
      "Files already downloaded and verified\n"
     ]
    }
   ],
   "source": [
    "(x_train, y_train), (x_test, y_test) = cifar10.load_data()\n",
    "transform_train = transforms.Compose([\n",
    "    transforms.RandomCrop(32, padding=4),\n",
    "    transforms.RandomHorizontalFlip(),\n",
    "    transforms.ToTensor(),\n",
    "    transforms.Normalize((0.5, 0.5, 0.5), (0.5, 0.5, 0.5)),\n",
    "])\n",
    "\n",
    "transform_test = transforms.Compose([\n",
    "    transforms.ToTensor(),\n",
    "    transforms.Normalize((0.5, 0.5, 0.5), (0.5, 0.5, 0.5)),\n",
    "])\n",
    "trainset = torchvision.datasets.CIFAR10(root='./data', train=True, download=True, transform=transform_train)\n",
    "train_loader = torch.utils.data.DataLoader(trainset, batch_size=128, shuffle=True, num_workers=2)\n",
    "\n",
    "testset = torchvision.datasets.CIFAR10(root='./data', train=False, download=True, transform=transform_test)\n",
    "test_loader = torch.utils.data.DataLoader(testset, batch_size=100, shuffle=False, num_workers=2)\n",
    "\n",
    "classes = ('plane', 'car', 'bird', 'cat', 'deer', 'dog', 'frog', 'horse', 'ship', 'truck')\n"
   ]
  },
  {
   "cell_type": "markdown",
   "metadata": {},
   "source": [
    "# Showing the Input Data \n",
    "* Dint use Pytorch to show data as, I already had code written using numpy"
   ]
  },
  {
   "cell_type": "code",
   "execution_count": 3,
   "metadata": {
    "scrolled": false
   },
   "outputs": [
    {
     "name": "stdout",
     "output_type": "stream",
     "text": [
      "horse  dog  dog frog bird  dog  dog\n"
     ]
    },
    {
     "data": {
      "image/png": "[encoded data removed]",
      "text/plain": [
       "<Figure size 432x288 with 1 Axes>"
      ]
     },
     "metadata": {
      "needs_background": "light"
     },
     "output_type": "display_data"
    }
   ],
   "source": [
    "# functions to show an image\n",
    "def imshow(img):\n",
    "    img = img / 2 + 0.5     # unnormalize\n",
    "    npimg = img.numpy()\n",
    "    plt.imshow(np.transpose(npimg, (1, 2, 0)), interpolation='nearest')\n",
    "\n",
    "\n",
    "# get some random training images\n",
    "dataiter = iter(train_loader)\n",
    "images, labels = dataiter.next()\n",
    "\n",
    "# # show images\n",
    "imshow(torchvision.utils.make_grid(images[0:7],nrow = 8))\n",
    "# print labels\n",
    "print(''.join('%5s' % classes[labels[j]] for j in range(7)))"
   ]
  },
  {
   "cell_type": "markdown",
   "metadata": {},
   "source": [
    "## Defining Convolution Neural Network\n",
    "* Initially I tried using 2 and 3 layer convolutions with dropout(0.5) and batchregularization, but the accuracy varied between 69 - (75, 77 ) percent. After taking suggestions from comments on Piazza, I tried implementing VGG.\n",
    "* After Implementing different VGG Networks, VGG13 gave the best results. \n",
    "* I modified the original network to increase accuracy from 80 to 83 percent. This was due to changing the activation function and using dropouts.\n"
   ]
  },
  {
   "cell_type": "code",
   "execution_count": 4,
   "metadata": {},
   "outputs": [],
   "source": [
    "# Code Modified from  https://github.com/kuangliu/pytorch-cifar/blob/master/models/vgg.py\n",
    "config = {\n",
    "    'VGG11': [64, 'M', 128, 'M', 256, 256, 'M', 512, 512, 'M', 512, 512, 'M'],\n",
    "    'VGG13': [64, 64, 'M', 128, 128, 'M', 256, 256, 'M', 512 ,512, 'M', 512, 512, 'M'],\n",
    "    'VGG16': [64, 64, 'M', 128, 128, 'M', 256, 256, 256, 'M', 512, 512, 512, 'M', 512, 512, 512, 'M'],\n",
    "    'VGG19': [64, 64, 'M', 128,'D', 128, 'M', 256,'D', 256, 256, 256, 'M', 512,'D', 512, 512, 512, 'M', 512,'D', 512, 512, 512, 'M'],\n",
    "}\n",
    "\n",
    "\n",
    "class VGG(nn.Module):\n",
    "    def __init__(self, vgg_name):\n",
    "        super(VGG, self).__init__()\n",
    "        self.conv = self._make_layers(config[vgg_name])\n",
    "        self.linear = self._make_layers_linear()\n",
    "\n",
    "    def forward(self, x):\n",
    "        out = self.conv(x)\n",
    "        out = out.view(out.size(0), -1)\n",
    "        out = self.linear(out)\n",
    "        return out\n",
    "    \n",
    "    def vis(self, x):\n",
    "        out = self.conv(x)\n",
    "        return out\n",
    "    \n",
    "    def swish(self,x):\n",
    "        return x * torch.sigmoid(x) # Tried using this, but as the error did not converge, not used later on.\n",
    "\n",
    "    def _make_layers(self, config):\n",
    "        layers = []\n",
    "        in_channels = 3\n",
    "        for x in config:\n",
    "            if x == 'M':\n",
    "                layers += [nn.MaxPool2d(kernel_size=2, stride=2)] \n",
    "            elif x == 'D':\n",
    "                layers+= [nn.Dropout(0.5)]\n",
    "            else:\n",
    "                layers += [nn.Conv2d(in_channels, x, kernel_size=3, padding=1), # Padding is adjusted \n",
    "                                                                               # To presever spatial dimension. \n",
    "                           nn.BatchNorm2d(x),\n",
    "                           nn.ReLU(inplace=True)]#inplace=True, PReLU()\n",
    "                in_channels = x\n",
    "        layers += [nn.AvgPool2d(kernel_size=1, stride=1)]\n",
    "        return nn.Sequential(*layers)\n",
    "    \n",
    "    def _make_layers_linear(self):\n",
    "        layers = []\n",
    "#         layers +=[nn.Linear(512, 256)]\n",
    "#         layers+= [nn.Dropout(0.5)]\n",
    "        layers += [nn.Linear(512, 10)]\n",
    "#         layers += [nn.LogSoftmax()]\n",
    "#         layers += [nn.Linear(64, 5)]\n",
    "        return nn.Sequential(*layers) # Try softmax here\n",
    "\n",
    "net = VGG('VGG19')\n",
    "net.to(device)\n",
    "if device == 'cuda':\n",
    "    net = torch.nn.DataParallel(net)\n",
    "torch.backends.cudnn.benchmark = True\n"
   ]
  },
  {
   "cell_type": "code",
   "execution_count": null,
   "metadata": {},
   "outputs": [
    {
     "data": {
      "text/plain": [
       "DataParallel(\n",
       "  (module): VGG(\n",
       "    (conv): Sequential(\n",
       "      (0): Conv2d(3, 64, kernel_size=(3, 3), stride=(1, 1), padding=(1, 1))\n",
       "      (1): BatchNorm2d(64, eps=1e-05, momentum=0.1, affine=True, track_running_stats=True)\n",
       "      (2): ReLU(inplace)\n",
       "      (3): Conv2d(64, 64, kernel_size=(3, 3), stride=(1, 1), padding=(1, 1))\n",
       "      (4): BatchNorm2d(64, eps=1e-05, momentum=0.1, affine=True, track_running_stats=True)\n",
       "      (5): ReLU(inplace)\n",
       "      (6): MaxPool2d(kernel_size=2, stride=2, padding=0, dilation=1, ceil_mode=False)\n",
       "      (7): Conv2d(64, 128, kernel_size=(3, 3), stride=(1, 1), padding=(1, 1))\n",
       "      (8): BatchNorm2d(128, eps=1e-05, momentum=0.1, affine=True, track_running_stats=True)\n",
       "      (9): ReLU(inplace)\n",
       "      (10): Dropout(p=0.5)\n",
       "      (11): Conv2d(128, 128, kernel_size=(3, 3), stride=(1, 1), padding=(1, 1))\n",
       "      (12): BatchNorm2d(128, eps=1e-05, momentum=0.1, affine=True, track_running_stats=True)\n",
       "      (13): ReLU(inplace)\n",
       "      (14): MaxPool2d(kernel_size=2, stride=2, padding=0, dilation=1, ceil_mode=False)\n",
       "      (15): Conv2d(128, 256, kernel_size=(3, 3), stride=(1, 1), padding=(1, 1))\n",
       "      (16): BatchNorm2d(256, eps=1e-05, momentum=0.1, affine=True, track_running_stats=True)\n",
       "      (17): ReLU(inplace)\n",
       "      (18): Dropout(p=0.5)\n",
       "      (19): Conv2d(256, 256, kernel_size=(3, 3), stride=(1, 1), padding=(1, 1))\n",
       "      (20): BatchNorm2d(256, eps=1e-05, momentum=0.1, affine=True, track_running_stats=True)\n",
       "      (21): ReLU(inplace)\n",
       "      (22): Conv2d(256, 256, kernel_size=(3, 3), stride=(1, 1), padding=(1, 1))\n",
       "      (23): BatchNorm2d(256, eps=1e-05, momentum=0.1, affine=True, track_running_stats=True)\n",
       "      (24): ReLU(inplace)\n",
       "      (25): Conv2d(256, 256, kernel_size=(3, 3), stride=(1, 1), padding=(1, 1))\n",
       "      (26): BatchNorm2d(256, eps=1e-05, momentum=0.1, affine=True, track_running_stats=True)\n",
       "      (27): ReLU(inplace)\n",
       "      (28): MaxPool2d(kernel_size=2, stride=2, padding=0, dilation=1, ceil_mode=False)\n",
       "      (29): Conv2d(256, 512, kernel_size=(3, 3), stride=(1, 1), padding=(1, 1))\n",
       "      (30): BatchNorm2d(512, eps=1e-05, momentum=0.1, affine=True, track_running_stats=True)\n",
       "      (31): ReLU(inplace)\n",
       "      (32): Dropout(p=0.5)\n",
       "      (33): Conv2d(512, 512, kernel_size=(3, 3), stride=(1, 1), padding=(1, 1))\n",
       "      (34): BatchNorm2d(512, eps=1e-05, momentum=0.1, affine=True, track_running_stats=True)\n",
       "      (35): ReLU(inplace)\n",
       "      (36): Conv2d(512, 512, kernel_size=(3, 3), stride=(1, 1), padding=(1, 1))\n",
       "      (37): BatchNorm2d(512, eps=1e-05, momentum=0.1, affine=True, track_running_stats=True)\n",
       "      (38): ReLU(inplace)\n",
       "      (39): Conv2d(512, 512, kernel_size=(3, 3), stride=(1, 1), padding=(1, 1))\n",
       "      (40): BatchNorm2d(512, eps=1e-05, momentum=0.1, affine=True, track_running_stats=True)\n",
       "      (41): ReLU(inplace)\n",
       "      (42): MaxPool2d(kernel_size=2, stride=2, padding=0, dilation=1, ceil_mode=False)\n",
       "      (43): Conv2d(512, 512, kernel_size=(3, 3), stride=(1, 1), padding=(1, 1))\n",
       "      (44): BatchNorm2d(512, eps=1e-05, momentum=0.1, affine=True, track_running_stats=True)\n",
       "      (45): ReLU(inplace)\n",
       "      (46): Dropout(p=0.5)\n",
       "      (47): Conv2d(512, 512, kernel_size=(3, 3), stride=(1, 1), padding=(1, 1))\n",
       "      (48): BatchNorm2d(512, eps=1e-05, momentum=0.1, affine=True, track_running_stats=True)\n",
       "      (49): ReLU(inplace)\n",
       "      (50): Conv2d(512, 512, kernel_size=(3, 3), stride=(1, 1), padding=(1, 1))\n",
       "      (51): BatchNorm2d(512, eps=1e-05, momentum=0.1, affine=True, track_running_stats=True)\n",
       "      (52): ReLU(inplace)\n",
       "      (53): Conv2d(512, 512, kernel_size=(3, 3), stride=(1, 1), padding=(1, 1))\n",
       "      (54): BatchNorm2d(512, eps=1e-05, momentum=0.1, affine=True, track_running_stats=True)\n",
       "      (55): ReLU(inplace)\n",
       "      (56): MaxPool2d(kernel_size=2, stride=2, padding=0, dilation=1, ceil_mode=False)\n",
       "      (57): AvgPool2d(kernel_size=1, stride=1, padding=0)\n",
       "    )\n",
       "    (linear): Sequential(\n",
       "      (0): Linear(in_features=512, out_features=10, bias=True)\n",
       "    )\n",
       "  )\n",
       ")"
      ]
     },
     "execution_count": 5,
     "metadata": {},
     "output_type": "execute_result"
    }
   ],
   "source": [
    "net"
   ]
  },
  {
   "cell_type": "code",
   "execution_count": null,
   "metadata": {},
   "outputs": [
    {
     "name": "stdout",
     "output_type": "stream",
     "text": [
      "----------------------------------------------------------------\n",
      "        Layer (type)               Output Shape         Param #\n",
      "================================================================\n",
      "            Conv2d-1           [-1, 64, 32, 32]           1,792\n",
      "            Conv2d-2           [-1, 64, 32, 32]           1,792\n",
      "       BatchNorm2d-3           [-1, 64, 32, 32]             128\n",
      "       BatchNorm2d-4           [-1, 64, 32, 32]             128\n",
      "              ReLU-5           [-1, 64, 32, 32]               0\n",
      "              ReLU-6           [-1, 64, 32, 32]               0\n",
      "            Conv2d-7           [-1, 64, 32, 32]          36,928\n",
      "            Conv2d-8           [-1, 64, 32, 32]          36,928\n",
      "       BatchNorm2d-9           [-1, 64, 32, 32]             128\n",
      "             ReLU-10           [-1, 64, 32, 32]               0\n",
      "      BatchNorm2d-11           [-1, 64, 32, 32]             128\n",
      "        MaxPool2d-12           [-1, 64, 16, 16]               0\n",
      "             ReLU-13           [-1, 64, 32, 32]               0\n",
      "        MaxPool2d-14           [-1, 64, 16, 16]               0\n",
      "           Conv2d-15          [-1, 128, 16, 16]          73,856\n",
      "      BatchNorm2d-16          [-1, 128, 16, 16]             256\n",
      "             ReLU-17          [-1, 128, 16, 16]               0\n",
      "          Dropout-18          [-1, 128, 16, 16]               0\n",
      "           Conv2d-19          [-1, 128, 16, 16]          73,856\n",
      "      BatchNorm2d-20          [-1, 128, 16, 16]             256\n",
      "             ReLU-21          [-1, 128, 16, 16]               0\n",
      "          Dropout-22          [-1, 128, 16, 16]               0\n",
      "           Conv2d-23          [-1, 128, 16, 16]         147,584\n",
      "      BatchNorm2d-24          [-1, 128, 16, 16]             256\n",
      "             ReLU-25          [-1, 128, 16, 16]               0\n",
      "        MaxPool2d-26            [-1, 128, 8, 8]               0\n",
      "           Conv2d-27          [-1, 128, 16, 16]         147,584\n",
      "      BatchNorm2d-28          [-1, 128, 16, 16]             256\n",
      "             ReLU-29          [-1, 128, 16, 16]               0\n",
      "        MaxPool2d-30            [-1, 128, 8, 8]               0\n",
      "           Conv2d-31            [-1, 256, 8, 8]         295,168\n",
      "           Conv2d-32            [-1, 256, 8, 8]         295,168\n",
      "      BatchNorm2d-33            [-1, 256, 8, 8]             512\n",
      "      BatchNorm2d-34            [-1, 256, 8, 8]             512\n",
      "             ReLU-35            [-1, 256, 8, 8]               0\n",
      "             ReLU-36            [-1, 256, 8, 8]               0\n",
      "          Dropout-37            [-1, 256, 8, 8]               0\n",
      "          Dropout-38            [-1, 256, 8, 8]               0\n",
      "           Conv2d-39            [-1, 256, 8, 8]         590,080\n",
      "           Conv2d-40            [-1, 256, 8, 8]         590,080\n",
      "      BatchNorm2d-41            [-1, 256, 8, 8]             512\n",
      "      BatchNorm2d-42            [-1, 256, 8, 8]             512\n",
      "             ReLU-43            [-1, 256, 8, 8]               0\n",
      "             ReLU-44            [-1, 256, 8, 8]               0\n",
      "           Conv2d-45            [-1, 256, 8, 8]         590,080\n",
      "           Conv2d-46            [-1, 256, 8, 8]         590,080\n",
      "      BatchNorm2d-47            [-1, 256, 8, 8]             512\n",
      "             ReLU-48            [-1, 256, 8, 8]               0\n",
      "      BatchNorm2d-49            [-1, 256, 8, 8]             512\n",
      "           Conv2d-50            [-1, 256, 8, 8]         590,080\n",
      "             ReLU-51            [-1, 256, 8, 8]               0\n",
      "      BatchNorm2d-52            [-1, 256, 8, 8]             512\n",
      "           Conv2d-53            [-1, 256, 8, 8]         590,080\n",
      "             ReLU-54            [-1, 256, 8, 8]               0\n",
      "        MaxPool2d-55            [-1, 256, 4, 4]               0\n",
      "      BatchNorm2d-56            [-1, 256, 8, 8]             512\n",
      "             ReLU-57            [-1, 256, 8, 8]               0\n",
      "        MaxPool2d-58            [-1, 256, 4, 4]               0\n",
      "           Conv2d-59            [-1, 512, 4, 4]       1,180,160\n",
      "           Conv2d-60            [-1, 512, 4, 4]       1,180,160\n",
      "      BatchNorm2d-61            [-1, 512, 4, 4]           1,024\n",
      "      BatchNorm2d-62            [-1, 512, 4, 4]           1,024\n",
      "             ReLU-63            [-1, 512, 4, 4]               0\n",
      "             ReLU-64            [-1, 512, 4, 4]               0\n",
      "          Dropout-65            [-1, 512, 4, 4]               0\n",
      "          Dropout-66            [-1, 512, 4, 4]               0\n",
      "           Conv2d-67            [-1, 512, 4, 4]       2,359,808\n",
      "           Conv2d-68            [-1, 512, 4, 4]       2,359,808\n",
      "      BatchNorm2d-69            [-1, 512, 4, 4]           1,024\n",
      "      BatchNorm2d-70            [-1, 512, 4, 4]           1,024\n",
      "             ReLU-71            [-1, 512, 4, 4]               0\n",
      "             ReLU-72            [-1, 512, 4, 4]               0\n",
      "           Conv2d-73            [-1, 512, 4, 4]       2,359,808\n",
      "           Conv2d-74            [-1, 512, 4, 4]       2,359,808\n",
      "      BatchNorm2d-75            [-1, 512, 4, 4]           1,024\n",
      "             ReLU-76            [-1, 512, 4, 4]               0\n",
      "      BatchNorm2d-77            [-1, 512, 4, 4]           1,024\n",
      "           Conv2d-78            [-1, 512, 4, 4]       2,359,808\n",
      "      BatchNorm2d-79            [-1, 512, 4, 4]           1,024\n",
      "             ReLU-80            [-1, 512, 4, 4]               0\n",
      "             ReLU-81            [-1, 512, 4, 4]               0\n",
      "        MaxPool2d-82            [-1, 512, 2, 2]               0\n",
      "           Conv2d-83            [-1, 512, 4, 4]       2,359,808\n",
      "      BatchNorm2d-84            [-1, 512, 4, 4]           1,024\n",
      "             ReLU-85            [-1, 512, 4, 4]               0\n",
      "        MaxPool2d-86            [-1, 512, 2, 2]               0\n",
      "           Conv2d-87            [-1, 512, 2, 2]       2,359,808\n",
      "           Conv2d-88            [-1, 512, 2, 2]       2,359,808\n",
      "      BatchNorm2d-89            [-1, 512, 2, 2]           1,024\n",
      "      BatchNorm2d-90            [-1, 512, 2, 2]           1,024\n",
      "             ReLU-91            [-1, 512, 2, 2]               0\n",
      "             ReLU-92            [-1, 512, 2, 2]               0\n",
      "          Dropout-93            [-1, 512, 2, 2]               0\n",
      "          Dropout-94            [-1, 512, 2, 2]               0\n",
      "           Conv2d-95            [-1, 512, 2, 2]       2,359,808\n",
      "           Conv2d-96            [-1, 512, 2, 2]       2,359,808\n",
      "      BatchNorm2d-97            [-1, 512, 2, 2]           1,024\n",
      "             ReLU-98            [-1, 512, 2, 2]               0\n",
      "           Conv2d-99            [-1, 512, 2, 2]       2,359,808\n",
      "     BatchNorm2d-100            [-1, 512, 2, 2]           1,024\n",
      "            ReLU-101            [-1, 512, 2, 2]               0\n",
      "     BatchNorm2d-102            [-1, 512, 2, 2]           1,024\n",
      "          Conv2d-103            [-1, 512, 2, 2]       2,359,808\n",
      "            ReLU-104            [-1, 512, 2, 2]               0\n",
      "          Conv2d-105            [-1, 512, 2, 2]       2,359,808\n",
      "     BatchNorm2d-106            [-1, 512, 2, 2]           1,024\n",
      "            ReLU-107            [-1, 512, 2, 2]               0\n",
      "          Conv2d-108            [-1, 512, 2, 2]       2,359,808\n",
      "     BatchNorm2d-109            [-1, 512, 2, 2]           1,024\n",
      "     BatchNorm2d-110            [-1, 512, 2, 2]           1,024\n",
      "            ReLU-111            [-1, 512, 2, 2]               0\n",
      "       MaxPool2d-112            [-1, 512, 1, 1]               0\n",
      "            ReLU-113            [-1, 512, 2, 2]               0\n",
      "       AvgPool2d-114            [-1, 512, 1, 1]               0\n",
      "       MaxPool2d-115            [-1, 512, 1, 1]               0\n",
      "       AvgPool2d-116            [-1, 512, 1, 1]               0\n",
      "          Linear-117                   [-1, 10]           5,130\n",
      "             VGG-118                   [-1, 10]               0\n",
      "          Linear-119                   [-1, 10]           5,130\n",
      "             VGG-120                   [-1, 10]               0\n",
      "================================================================\n",
      "Total params: 40,081,044\n",
      "Trainable params: 40,081,044\n",
      "Non-trainable params: 0\n",
      "----------------------------------------------------------------\n",
      "Input size (MB): 0.01\n",
      "Forward/backward pass size (MB): 15.27\n",
      "Params size (MB): 152.90\n",
      "Estimated Total Size (MB): 168.17\n",
      "----------------------------------------------------------------\n"
     ]
    }
   ],
   "source": [
    "# If want to get a summary of the network uncomment the below line as well as the one in importing libraries.\n",
    "summary(net,(3,32,32))"
   ]
  },
  {
   "cell_type": "markdown",
   "metadata": {},
   "source": [
    "## Explanations for Network Architecture"
   ]
  },
  {
   "cell_type": "markdown",
   "metadata": {},
   "source": [
    "* The Loss function used is cross entropy class as there are multiple classes (5)\n",
    "* The model architecture adopted was that of VGG 13. This is because: \n",
    "     * the accuracy was in the range of 64 – 71 percent with a 5 layer network (input – conv1 – conv2- linear - crossentropyloss) .\n",
    "    * Convolutions were used as the input is 2D images. \n",
    "    * Even after adding dropouts of 0.2 and 0.5 in between the convolution layers the accuracy did not improve.\n",
    "     * Conclusion: as the networks needs to learn RGB images and distinguish 5 labels, it will need more parameters to shatter the input space.  Also the images are very blurry, this adds on to the number of parameters needed as differentiating becomes more difficult.\n",
    "* VGG 11 also did not give accuracies above 75 percent. As I was able to get descent accuracy with Vgg 13, I did not experiment with this network.\n",
    "* The Optimizer with Vgg13 is taken as Adam, as it got me better accuracies than SGD. This may be because Adam is able to avoid local minima and does not get stuck. \n",
    "* Learning rate of 0.002 gets me a good error convergence graph. Increase the learning rate to 0.01 also gives similar results much faster, but then convergence graph is like a step function and therefore avoided.\n",
    "* Some other experimentation with dropouts and different activations like (swish, relu and Prelu) can be seen in the screen shot of the excel file I made in the Ipython Notebook.\n",
    "* Each filter or weights of the convolution layers is visualized, in the image shown below.\n",
    "    * The image is a representation of weights of the first kernel in each layer (only a depth size of 3 is visualized for each convolution layer)\n",
    "    * we can see that the weights initialized is different for each layer. ( as they have different colors).\n"
   ]
  },
  {
   "cell_type": "markdown",
   "metadata": {},
   "source": [
    "## Visualizaing Weights"
   ]
  },
  {
   "cell_type": "code",
   "execution_count": null,
   "metadata": {},
   "outputs": [],
   "source": [
    "def plot_kernels(tensor, num_cols=6):\n",
    "    if not tensor.ndim==4:\n",
    "        raise Exception(\"assumes a 4D tensor\")\n",
    "    if not tensor.shape[-1]==3:\n",
    "        raise Exception(\"last dim needs to be 3 to plot\")\n",
    "    num_kernels = tensor.shape[0]\n",
    "    num_rows = 1+ num_kernels // num_cols\n",
    "    fig = plt.figure(figsize=(num_cols,num_rows))\n",
    "    for i in range(tensor.shape[0]):\n",
    "        ax1 = fig.add_subplot(num_rows,num_cols,i+1)\n",
    "        ax1.imshow(tensor[i][0:3])\n",
    "        ax1.axis('off')\n",
    "        ax1.set_xticklabels([])\n",
    "        ax1.set_yticklabels([])\n",
    "        break\n",
    "\n",
    "    plt.subplots_adjust(wspace=0.1, hspace=0.1)\n",
    "    plt.show()"
   ]
  },
  {
   "cell_type": "code",
   "execution_count": null,
   "metadata": {
    "scrolled": false
   },
   "outputs": [
    {
     "name": "stdout",
     "output_type": "stream",
     "text": [
      "Showing the weights of the first kernel in each convolution layer\n",
      "(64, 3, 3, 3)\n"
     ]
    },
    {
     "data": {
      "image/png": "[encoded data removed]",
      "text/plain": [
       "<Figure size 432x792 with 1 Axes>"
      ]
     },
     "metadata": {
      "needs_background": "light"
     },
     "output_type": "display_data"
    },
    {
     "name": "stdout",
     "output_type": "stream",
     "text": [
      "(64, 64, 3, 3)\n"
     ]
    },
    {
     "data": {
      "image/png": "[encoded data removed]",
      "text/plain": [
       "<Figure size 432x792 with 1 Axes>"
      ]
     },
     "metadata": {
      "needs_background": "light"
     },
     "output_type": "display_data"
    },
    {
     "name": "stdout",
     "output_type": "stream",
     "text": [
      "(128, 64, 3, 3)\n"
     ]
    },
    {
     "data": {
      "image/png": "[encoded data removed]",
      "text/plain": [
       "<Figure size 432x1584 with 1 Axes>"
      ]
     },
     "metadata": {
      "needs_background": "light"
     },
     "output_type": "display_data"
    },
    {
     "name": "stdout",
     "output_type": "stream",
     "text": [
      "(128, 128, 3, 3)\n"
     ]
    },
    {
     "data": {
      "image/png": "[encoded data removed]",
      "text/plain": [
       "<Figure size 432x1584 with 1 Axes>"
      ]
     },
     "metadata": {
      "needs_background": "light"
     },
     "output_type": "display_data"
    },
    {
     "name": "stdout",
     "output_type": "stream",
     "text": [
      "(256, 128, 3, 3)\n"
     ]
    },
    {
     "data": {
      "image/png": "[encoded data removed]",
      "text/plain": [
       "<Figure size 432x3096 with 1 Axes>"
      ]
     },
     "metadata": {
      "needs_background": "light"
     },
     "output_type": "display_data"
    },
    {
     "name": "stdout",
     "output_type": "stream",
     "text": [
      "(256, 256, 3, 3)\n"
     ]
    },
    {
     "data": {
      "image/png": "[encoded data removed]",
      "text/plain": [
       "<Figure size 432x3096 with 1 Axes>"
      ]
     },
     "metadata": {
      "needs_background": "light"
     },
     "output_type": "display_data"
    },
    {
     "name": "stdout",
     "output_type": "stream",
     "text": [
      "(512, 256, 3, 3)\n"
     ]
    },
    {
     "data": {
      "image/png": "[encoded data removed]",
      "text/plain": [
       "<Figure size 432x6192 with 1 Axes>"
      ]
     },
     "metadata": {
      "needs_background": "light"
     },
     "output_type": "display_data"
    },
    {
     "name": "stdout",
     "output_type": "stream",
     "text": [
      "(512, 512, 3, 3)\n"
     ]
    },
    {
     "data": {
      "image/png": "[encoded data removed]",
      "text/plain": [
       "<Figure size 432x6192 with 1 Axes>"
      ]
     },
     "metadata": {
      "needs_background": "light"
     },
     "output_type": "display_data"
    },
    {
     "name": "stdout",
     "output_type": "stream",
     "text": [
      "(512, 512, 3, 3)\n"
     ]
    },
    {
     "data": {
      "image/png": "[encoded data removed]",
      "text/plain": [
       "<Figure size 432x6192 with 1 Axes>"
      ]
     },
     "metadata": {
      "needs_background": "light"
     },
     "output_type": "display_data"
    },
    {
     "name": "stdout",
     "output_type": "stream",
     "text": [
      "(512, 512, 3, 3)\n"
     ]
    },
    {
     "data": {
      "image/png": "[encoded data removed]",
      "text/plain": [
       "<Figure size 432x6192 with 1 Axes>"
      ]
     },
     "metadata": {
      "needs_background": "light"
     },
     "output_type": "display_data"
    }
   ],
   "source": [
    "visnet = VGG('VGG13')\n",
    "visnet = visnet.to('cpu').double()\n",
    "print(\"Showing the weights of the first kernel in each convolution layer\")\n",
    "for m in visnet.modules():\n",
    "    if isinstance(m, nn.Conv2d):   \n",
    "        a = m.weight.data.numpy()\n",
    "#         print(tensor.max())\n",
    "        c = (a - np.min(a))/np.ptp(a).astype(float)\n",
    "        print(c.shape)\n",
    "        plot_kernels(c)\n",
    "#         break\n"
   ]
  },
  {
   "attachments": {
    "image.png": {
     "image/png": "[encoded data removed]"
    }
   },
   "cell_type": "markdown",
   "metadata": {},
   "source": [
    "##  Define a Loss function and optimizer\n",
    "* Cross Entropy Loss is used as there are multiiple classes (5). \n",
    "* Different Permuation of the learning rate and optimizers were tried. The table I created for getting intition for accuracy and error can be found below or attached with homework sumission.\n",
    "![image.png](attachment:image.png)\n",
    "* After all the experimentation, the original vgg 13 network worked the best. Adding dropouts did not help, I guess this is due to not adding them at the right position. I also tried increasing the fully connected layers but it did not help.\n",
    "* The most significant discrepancy was found that, when not using softmax layer or log softmax layer, the testing accuracy actually came out to be more. I dont know why this happened!!! "
   ]
  },
  {
   "cell_type": "code",
   "execution_count": null,
   "metadata": {},
   "outputs": [],
   "source": [
    "import torch.optim as optim\n",
    "criterion = nn.CrossEntropyLoss() \n",
    "optimizer = optim.SGD(net.parameters(), lr=0.001, momentum=0.9,weight_decay = 5e-4)\n",
    "# optimizer = optim.Adam(net.parameters(), lr=0.002, betas=(0.9, 0.999), eps=1e-08, weight_decay= 5e-4)\n",
    "train_loss =[]\n",
    "val_loss = []\n",
    "train_accu = []\n",
    "test_accu=[]\n",
    "best_acc= 0  # best test accuracy\n"
   ]
  },
  {
   "cell_type": "code",
   "execution_count": null,
   "metadata": {},
   "outputs": [
    {
     "data": {
      "text/plain": [
       "'cuda'"
      ]
     },
     "execution_count": 10,
     "metadata": {},
     "output_type": "execute_result"
    }
   ],
   "source": [
    "device"
   ]
  },
  {
   "cell_type": "code",
   "execution_count": null,
   "metadata": {},
   "outputs": [],
   "source": [
    "# # For Debugging\n",
    "# for batch_idx, (data, target) in enumerate(train_loader):\n",
    "#     data, target = data.to(device), target.to(device)\n",
    "#     output = net(data)\n",
    "# # #         print(target.dtype,output.dtype)\n",
    "#     loss = criterion(output, target)\n",
    "#     loss.backward()\n",
    "#     optimizer.step()\n",
    "#     break\n",
    "# # target"
   ]
  },
  {
   "cell_type": "markdown",
   "metadata": {},
   "source": [
    "## Training and Testing Functions"
   ]
  },
  {
   "cell_type": "code",
   "execution_count": null,
   "metadata": {},
   "outputs": [],
   "source": [
    "def train(model, train_loader, optimizer, epoch,device):\n",
    "#     print(criterion)\n",
    "    training_loss = 0\n",
    "    train_correct = 0\n",
    "    lo = []\n",
    "    for batch_idx, (data, target) in enumerate(train_loader):\n",
    "        data, target = data.to(device), target.to(device)\n",
    "        optimizer.zero_grad()\n",
    "        #==== Forward Pass=====\n",
    "        output = model(data)\n",
    "        loss = criterion(output, target)\n",
    "        #=====Backward Pass=======\n",
    "        loss.backward()\n",
    "        optimizer.step()\n",
    "        #=== Loss Append to get loss of entire Batch====\n",
    "        lo.append(loss.item())\n",
    "        #==== Calculating Training Accuracy========= \n",
    "        train_pred = output.max(1, keepdim=True)[1] # get the index of the max log-probability\n",
    "        train_correct += train_pred.eq(target.view_as(train_pred)).sum().item()\n",
    "        #======= Logging results after every 20th batch============ \n",
    "        if batch_idx % 20 == 0:\n",
    "            print('Train Epoch: {} [{}/{} ({:.0f}%)]\\tLoss: {:.6f}'.format(\n",
    "                epoch, batch_idx * len(data), len(train_loader.dataset),\n",
    "                100. * batch_idx / len(train_loader), loss.item()))\n",
    "    #======== Getting Accuracy of the entire epoch by averaging of each batch===========    \n",
    "    train_accu.append(100. * train_correct / len(train_loader.dataset))\n",
    "    #======== Getting Training Loss of the epoch by averaging across each batch\n",
    "    train_loss.append(np.mean(lo))\n",
    "\n",
    "def test(model, test_loader,device):\n",
    "    global best_acc\n",
    "    test_loss = 0\n",
    "    correct = 0\n",
    "    testlo = []\n",
    "    with torch.no_grad(): # as we dont need to backpropogate when calculating testing error and accuracy\n",
    "        for data, target in test_loader:\n",
    "            data, target = data.to(device), target.to(device)\n",
    "            #==== Getting the Prediction======\n",
    "            output = model(data)\n",
    "            #===== Calculating the Loss=========\n",
    "            test_loss = criterion(output, target)\n",
    "            testlo.append(test_loss.item())\n",
    "            # Calculating Testing Accuracy for the all inputs=========\n",
    "            pred = output.max(1, keepdim=True)[1] # get the index of the max log-probability\n",
    "            correct += pred.eq(target.view_as(pred)).sum().item()\n",
    "    #======= Getting Testing Accuracy for the Epoch========\n",
    "    test_accu.append(100. * correct / len(test_loader.dataset))\n",
    "    #====== Getting Testing Error of Epoch========\n",
    "    val_loss.append(np.mean(testlo))\n",
    "   #======= Logging results after every epoch ============ \n",
    "    print('\\nTest set: Average loss: {:.4f}, Accuracy: {}/{} ({:.0f}%)\\n'.format(\n",
    "        np.mean(testlo), correct, len(test_loader.dataset),\n",
    "        100. * correct / len(test_loader.dataset)))\n",
    "    \n",
    "    # Save checkpoint.\n",
    "    acc = 100.*correct/len(test_loader.dataset)\n",
    "    if acc > best_acc:\n",
    "        print('Saving..')\n",
    "        state = {\n",
    "            'net': model.state_dict(),\n",
    "            'acc': acc,\n",
    "            'epoch': epoch,\n",
    "            'val_loss': val_loss,\n",
    "            'test_accu': test_accu, \n",
    "        }\n",
    "        if not os.path.isdir('checkpoint'):\n",
    "            os.mkdir('checkpoint')\n",
    "        torch.save(state, './checkpoint/ckpt.t7')\n",
    "    best_acc = acc"
   ]
  },
  {
   "cell_type": "markdown",
   "metadata": {},
   "source": [
    "## Resume trained network if needed "
   ]
  },
  {
   "cell_type": "code",
   "execution_count": null,
   "metadata": {},
   "outputs": [],
   "source": [
    "start_epoch = 0 # start from epoch 0 or last checkpoint epoch\n",
    "\n",
    "# print('==> Resuming from checkpoint..')\n",
    "# assert os.path.isdir('checkpoint'), 'Error: no checkpoint directory found!'\n",
    "# checkpoint = torch.load('./checkpoint/ckpt.t7')\n",
    "# net.load_state_dict(checkpoint['net'])\n",
    "# best_acc = checkpoint['acc']\n",
    "# start_epoch = checkpoint['epoch']"
   ]
  },
  {
   "cell_type": "code",
   "execution_count": null,
   "metadata": {},
   "outputs": [],
   "source": [
    "# a= net.state_dict(checkpoint['val_loss'])"
   ]
  },
  {
   "cell_type": "markdown",
   "metadata": {},
   "source": [
    "# Training the Model"
   ]
  },
  {
   "cell_type": "code",
   "execution_count": null,
   "metadata": {
    "scrolled": true
   },
   "outputs": [
    {
     "name": "stdout",
     "output_type": "stream",
     "text": [
      "Train Epoch: 0 [0/50000 (0%)]\tLoss: 2.297843\n",
      "Train Epoch: 0 [2560/50000 (5%)]\tLoss: 2.272731\n",
      "Train Epoch: 0 [5120/50000 (10%)]\tLoss: 2.212531\n",
      "Train Epoch: 0 [7680/50000 (15%)]\tLoss: 2.048845\n",
      "Train Epoch: 0 [10240/50000 (20%)]\tLoss: 2.060076\n",
      "Train Epoch: 0 [12800/50000 (26%)]\tLoss: 2.053138\n",
      "Train Epoch: 0 [15360/50000 (31%)]\tLoss: 1.916442\n",
      "Train Epoch: 0 [17920/50000 (36%)]\tLoss: 1.885529\n",
      "Train Epoch: 0 [20480/50000 (41%)]\tLoss: 1.857259\n",
      "Train Epoch: 0 [23040/50000 (46%)]\tLoss: 1.947439\n",
      "Train Epoch: 0 [25600/50000 (51%)]\tLoss: 1.804414\n",
      "Train Epoch: 0 [28160/50000 (56%)]\tLoss: 1.748366\n",
      "Train Epoch: 0 [30720/50000 (61%)]\tLoss: 1.873536\n",
      "Train Epoch: 0 [33280/50000 (66%)]\tLoss: 1.797990\n",
      "Train Epoch: 0 [35840/50000 (72%)]\tLoss: 1.751790\n",
      "Train Epoch: 0 [38400/50000 (77%)]\tLoss: 1.757186\n",
      "Train Epoch: 0 [40960/50000 (82%)]\tLoss: 1.789122\n",
      "Train Epoch: 0 [43520/50000 (87%)]\tLoss: 1.627507\n",
      "Train Epoch: 0 [46080/50000 (92%)]\tLoss: 1.725976\n",
      "Train Epoch: 0 [48640/50000 (97%)]\tLoss: 1.571741\n",
      "\n",
      "Test set: Average loss: 1.6686, Accuracy: 3602/10000 (36%)\n",
      "\n",
      "Saving..\n",
      "Train Epoch: 1 [0/50000 (0%)]\tLoss: 1.639801\n",
      "Train Epoch: 1 [2560/50000 (5%)]\tLoss: 1.628897\n",
      "Train Epoch: 1 [5120/50000 (10%)]\tLoss: 1.811973\n",
      "Train Epoch: 1 [7680/50000 (15%)]\tLoss: 1.744522\n",
      "Train Epoch: 1 [10240/50000 (20%)]\tLoss: 1.547149\n",
      "Train Epoch: 1 [12800/50000 (26%)]\tLoss: 1.620962\n",
      "Train Epoch: 1 [15360/50000 (31%)]\tLoss: 1.643260\n",
      "Train Epoch: 1 [17920/50000 (36%)]\tLoss: 1.659326\n",
      "Train Epoch: 1 [20480/50000 (41%)]\tLoss: 1.432463\n",
      "Train Epoch: 1 [23040/50000 (46%)]\tLoss: 1.487415\n",
      "Train Epoch: 1 [25600/50000 (51%)]\tLoss: 1.691290\n",
      "Train Epoch: 1 [28160/50000 (56%)]\tLoss: 1.468296\n",
      "Train Epoch: 1 [30720/50000 (61%)]\tLoss: 1.674925\n",
      "Train Epoch: 1 [33280/50000 (66%)]\tLoss: 1.586203\n"
     ]
    }
   ],
   "source": [
    "for epoch in range(start_epoch, 100):\n",
    "        train(net, train_loader, optimizer, epoch,device)\n",
    "        test(net, test_loader,device)"
   ]
  },
  {
   "cell_type": "markdown",
   "metadata": {},
   "source": [
    "## Resume trained network"
   ]
  },
  {
   "cell_type": "code",
   "execution_count": null,
   "metadata": {},
   "outputs": [],
   "source": [
    "# print('==> Resuming from checkpoint..')\n",
    "# assert os.path.isdir('checkpoint'), 'Error: no checkpoint directory found!'\n",
    "# checkpoint = torch.load('./checkpoint/ckpt.t7')\n",
    "# net.load_state_dict(checkpoint['net'])\n",
    "# best_acc = checkpoint['acc']\n",
    "# start_epoch = checkpoint['epoch']"
   ]
  },
  {
   "cell_type": "code",
   "execution_count": null,
   "metadata": {},
   "outputs": [],
   "source": [
    "start_epoch"
   ]
  },
  {
   "cell_type": "code",
   "execution_count": null,
   "metadata": {
    "scrolled": false
   },
   "outputs": [],
   "source": [
    "# Evaluate Accuracy\n",
    "print('Training Loss:', train_loss[-1])\n",
    "print('Training Accuracy:', train_accu[-1])\n",
    "print()\n",
    "print('Test Loss:', np.mean(val_loss))\n",
    "print('Testing Accuracy:', np.max(test_accu))\n",
    "print()\n",
    "\n",
    "plt.plot(train_loss,'r', label='Training Loss')\n",
    "plt.plot(val_loss,'b', label='Testing Loss')\n",
    "plt.title('Test Loss ' + str(val_loss[-1]))\n",
    "plt.legend()\n",
    "plt.show()\n",
    "plt.plot(train_accu,'r', label='Training accuracy')\n",
    "plt.plot(test_accu,'b', label='Testing accuracy')\n",
    "plt.title('Test Accuracy : '+ str(np.max(test_accu)))\n",
    "plt.legend()\n",
    "plt.show()"
   ]
  },
  {
   "cell_type": "markdown",
   "metadata": {},
   "source": [
    "## Inferences\n",
    "* It is clear from the abive graph that, there is overfitting in the network.\n",
    "* I tried different menthods like changing dropouts and actiavtion functions to do address this.\n",
    "* This did not help as, even though the overfitting decreased the final test accuracy always decreased.\n",
    "* Adam gave beteer performance than SGD.\n",
    "* The haphazard motion of both error and accuracy is due to the random shuffling of data in minibatches after each epoch."
   ]
  },
  {
   "cell_type": "markdown",
   "metadata": {},
   "source": [
    "# Incorrect Predictions\n"
   ]
  },
  {
   "cell_type": "code",
   "execution_count": null,
   "metadata": {},
   "outputs": [],
   "source": [
    "err=[]\n",
    "ind=[]\n",
    "predictedlabel=[]\n",
    "targetlabel=[]\n",
    "n = 6   # Number of False predictions to output\n",
    "\n",
    "vis_loader = torch.utils.data.DataLoader(testset, shuffle=False, num_workers=2)\n",
    "\n",
    "\n",
    "# vis_loader = torch.utils.data.DataLoader(\n",
    "#     FlowerLoader(x_test, y_test, transforms.Compose([\n",
    "#         transforms.ToPILImage(),\n",
    "#         transforms.ToTensor(),\n",
    "#         normalize,\n",
    "#     ])), shuffle=False)\n",
    "\n",
    "for data, target in vis_loader:\n",
    "    data, target = data.to(device), target.to(device)\n",
    "    #==== Getting the Prediction======\n",
    "    output = net(data)\n",
    "    #===== Calculating the Loss=========\n",
    "    test_loss = criterion(output, target)\n",
    "    err.append(test_loss.item())\n",
    "    # Checking what predictions are correct========\n",
    "    pred = output.max(1, keepdim=True)[1] # get the index of the max log-probability\n",
    "    predictedlabel.append(pred.item())\n",
    "    targetlabel.append(target.item())\n",
    "    neg = ~pred.eq(target.view_as(pred))\n",
    "    ind.append(neg.item())\n",
    "    \n",
    "    \n",
    "ind,err,predictedlabel,targetlabel =np.asarray(ind), np.asarray(err), np.asarray(predictedlabel),np.asarray(targetlabel)\n",
    "incorrecterrors=ind*err\n",
    "maxerrorind = np.argpartition(incorrecterrors, -n)[-n:]\n",
    "\n",
    "#======= Plotting Incorrect=======\n",
    "nrows,ncols = 2 ,3\n",
    "fig, ax = plt.subplots(nrows,ncols,sharex=True,sharey=True)\n",
    "for row in range(nrows):\n",
    "    for col in range(ncols):\n",
    "        ax[row,col].imshow(x_test[maxerrorind[row+col]])\n",
    "        ax[row,col].set_title(\"Predicted label :{}\\nTrue label :{}\".format(predictedlabel[[maxerrorind[row+col]]],\n",
    "                                                                               targetlabel[[maxerrorind[row+col]]]))\n",
    "fig.tight_layout()\n"
   ]
  },
  {
   "cell_type": "markdown",
   "metadata": {},
   "source": [
    "## Correct Predictions"
   ]
  },
  {
   "cell_type": "code",
   "execution_count": null,
   "metadata": {},
   "outputs": [],
   "source": [
    "#======= Plotting Correct=======\n",
    "\n",
    "ind,err,predictedlabel,targetlabel =np.asarray(~ind), np.asarray(err), np.asarray(predictedlabel),np.asarray(targetlabel)\n",
    "incorrecterrors=ind*err\n",
    "maxerrorind = np.argpartition(incorrecterrors, -n)[-n:]\n",
    "\n",
    "\n",
    "nrows,ncols = 2 ,3\n",
    "fig, ax = plt.subplots(nrows,ncols,sharex=True,sharey=True)\n",
    "for row in range(nrows):\n",
    "    for col in range(ncols):\n",
    "        ax[row,col].imshow(x_test[maxerrorind[row+col]])\n",
    "        ax[row,col].set_title(\"Predicted label :{}\\nTrue label :{}\".format(predictedlabel[[maxerrorind[row+col]]],\n",
    "                                                                               targetlabel[[maxerrorind[row+col]]]))\n",
    "fig.tight_layout()"
   ]
  },
  {
   "cell_type": "code",
   "execution_count": null,
   "metadata": {},
   "outputs": [],
   "source": []
  }
 ],
 "metadata": {
  "kernelspec": {
   "display_name": "Python 3",
   "language": "python",
   "name": "python3"
  },
  "language_info": {
   "codemirror_mode": {
    "name": "ipython",
    "version": 3
   },
   "file_extension": ".py",
   "mimetype": "text/x-python",
   "name": "python",
   "nbconvert_exporter": "python",
   "pygments_lexer": "ipython3",
   "version": "3.5.2"
  }
 },
 "nbformat": 4,
 "nbformat_minor": 2
}
