{
 "cells": [
  {
   "cell_type": "markdown",
   "metadata": {},
   "source": [
    "## Question 2: Implementation of shalow neural netwrok with 1 hidden layer.\n",
    "\n",
    "(a) 1D. Generate training data from a simple 1D function, such as a sine wave. You do not need to add noise to the function. Train your network to fit this data. Turn in a plot that shows the training data, along with a curve showing the function that your network computes."
   ]
  },
  {
   "cell_type": "markdown",
   "metadata": {},
   "source": [
    "**Sol:** Here we implement designing a neural network which will take arbitary number of inputs for arbitary dimensions. This network also has 1 hidden layer with arbitary number of hissen units in it. \n",
    "#### Loss Function\n",
    "Regression loss function as given in the question.\n",
    "\n",
    "#### Input \n",
    "Inputs are generated randomly by setting the number of training inputs and the dimensions.\n",
    "\n",
    "#### Outputs \n",
    "The oputputs are limited to a single output. Here I have used **y=sin(x)** function to produce the ouputs.\n",
    "If the there is a n dimensional input, output is a function of sin() for the first dimension and an summation of all the other subsequent dimensions.\n",
    "\n",
    "#### Hyper Paramters\n",
    "For this function there are three hyper paramters, that is the **Learning Rate** (Step Size), the number of **epochs** and the number of **hidden units**.\n",
    "\n",
    "\n",
    "#### The Netwrok has 6 main Functions\n",
    "1) Network Initialization\n",
    "2) nonlin \n",
    "3) feed_forward\n",
    "4) back_prop\n",
    "5) update_network \n",
    "6) train\n",
    "\n",
    "**Now lets got thorugh each function**\n"
   ]
  },
  {
   "cell_type": "code",
   "execution_count": 1,
   "metadata": {},
   "outputs": [],
   "source": [
    "## Initialize the Network\n",
    "def initialize_network(n_inputs, dimensions, n_hidden):\n",
    "    if (dimensions==1):\n",
    "        x= np.random.randn(n_inputs,1) ## Randomly Genrated Inputs\n",
    "        y= np.sin(x)                   ## Generating Outputs\n",
    "    else:\n",
    "## Breaking the inputs such that, the first input goes to the sin curve and the rest, adds on as linear functions.        \n",
    "        x= np.random.randn(n_inputs,dimensions) ## Randomly Genrated Inputs\n",
    "        x1=np.reshape(x[:,0],(n_inputs,1)) \n",
    "        x2 = np.sum(x[:,1:],axis=1,keepdims= True) \n",
    "        y= np.sin(x1) + x2\n",
    "    wts1= np.random.randn(dimensions,n_hidden)       ## Weight Initialization\n",
    "    wts2= np.random.randn(n_hidden,1)                ## Weight Initialization\n",
    "    b1 =  np.random.randn(n_hidden,1)                ## Bias Initialization\n",
    "    b2 =  np.random.randn(1)                         ## Bias Initialization\n",
    "    return x,y,wts1,wts2,b1,b2\n",
    "\n",
    "## Non Linear Function RELU\n",
    "def nonlin(x, deriv = False):\n",
    "    if (deriv == True):\n",
    "        return 1*(x>0)\n",
    "    return np.maximum(0,x)\n",
    "\n",
    "## Feed Forward Function\n",
    "def feed_forward(x,wts1,wts2,b1,b2):\n",
    "    a1= x.dot(wts1).transpose()+b1         ## calculating the Output\n",
    "    a1_relu= nonlin(a1)\n",
    "    a2 = a1_relu.T.dot(wts2)+ b2 \n",
    "    return a1,a2\n",
    "\n",
    "## Back Propogation by appling the four main formulas of back propogation\n",
    "def back_prop(x,y,a1,a2,wts1,wts2):\n",
    "    error = (((y-a2)**2).sum())                     ## Calculating the error\n",
    "    d2 = a2 - y                                     ## Delta for final layer\n",
    "    wt2_err = a1.dot(d2)                            ## Weight delta\n",
    "    b2_err = (d2).sum()                             ## Bias delta\n",
    "    d1= wts2.dot(d2.transpose())*(nonlin(a1,True))  ## delta for previous layer or first layer in our case\n",
    "    wt1_err = x.T.dot(d1.transpose())               ## Weight delta\n",
    "    b1_err = np.sum(d1,axis=1,keepdims= True)       ## Bias delta\n",
    "    return wt2_err, wt1_err, b2_err, b1_err, error\n",
    "\n",
    "## Updating the Network\n",
    "def update_network(wts1,wts2,b1,b2,wt2_err,wt1_err,b2_err,b1_err,lr):\n",
    "    wts2 -= lr*wt2_err                        ## Updating weights \n",
    "    b2 -= lr*b2_err                           ## Updating b\n",
    "    wts1 -= lr*wt1_err                        ## Updating weights \n",
    "    b1 -= lr*b1_err                           ## Updating b\n",
    "    return wts1,wts2,b1,b2\n",
    "\n",
    "## Training the Network\n",
    "def train(net,epochs,lr):\n",
    "    error = []\n",
    "    (wts1,wts2,b1,b2) = (net[2],net[3],net[4],net[5])\n",
    "    for i in range(epochs):\n",
    "        a= feed_forward(net[0],wts1,wts2,b1,b2)\n",
    "        err= back_prop(net[0], net[1],a[0],a[1],net[2],net[3])\n",
    "        error.append(err[4])\n",
    "        update = update_network(net[2], net[3],net[4],net[5], err[0], err[1],err[2],err[3],lr)\n",
    "        (wts1,wts2,b1,b2)= (update[0],update[1],update[2],update[3])\n",
    "    return error, update[0], update[1],update[2],update[3]"
   ]
  },
  {
   "cell_type": "markdown",
   "metadata": {},
   "source": [
    "## (a)Defining the Main Function and Implementing for 1D input"
   ]
  },
  {
   "cell_type": "code",
   "execution_count": 2,
   "metadata": {},
   "outputs": [],
   "source": [
    "# Importing the Libraries\n",
    "import numpy as np\n",
    "from matplotlib import pyplot as plt\n",
    "from math import exp\n",
    "(n_inputs,dimensions,n_hidden)= (100,1,20) ## n_hidden = number of hidden units\n",
    "np.random.seed(1)\n",
    "\n",
    "# Initializing the Network\n",
    "net=initialize_network(n_inputs,dimensions,n_hidden)\n",
    "\n",
    "## Hyper Parameter Initialization\n",
    "epochs= 1000\n",
    "lr = 0.001\n",
    "# net[0]\n",
    "# print(net[1])\n",
    "\n",
    "## Train\n",
    "tr = train (net,epochs,lr)"
   ]
  },
  {
   "cell_type": "markdown",
   "metadata": {},
   "source": [
    "### Plotting the Graphs \n",
    "<span style=\"color:red\"></style>\n",
    "**Red: Ground Truth Values **\n",
    "\n",
    "<span style=\"color:blue\"></style>\n",
    "**Blue: Predicted Values**"
   ]
  },
  {
   "cell_type": "code",
   "execution_count": 6,
   "metadata": {},
   "outputs": [
    {
     "data": {
      "image/png": "[encoded data removed]",
      "text/plain": [
       "<Figure size 432x288 with 1 Axes>"
      ]
     },
     "metadata": {},
     "output_type": "display_data"
    },
    {
     "data": {
      "image/png": "[encoded data removed]",
      "text/plain": [
       "<Figure size 432x288 with 1 Axes>"
      ]
     },
     "metadata": {},
     "output_type": "display_data"
    }
   ],
   "source": [
    "n_test = 500\n",
    "dimension=1\n",
    "# Plotting the Outputs vs Inputs\n",
    "if (dimensions==1):\n",
    "    test_input= np.random.randn(n_test,1) ## Randomly Genrated Inputs\n",
    "    gtruth = np.sin(test_input)\n",
    "else:\n",
    "## Breaking the inputs such that, the first input goes to the sin curve and the rest adds on as linear functions        \n",
    "        x= np.random.randn(n_inputs,dimensions) ## Randomly Genrated Inputs\n",
    "        x1=np.reshape(x[:,0],(n_inputs,1)) \n",
    "        x2 = np.sum(x[:,1:],axis=1,keepdims= True) \n",
    "        y= np.sin(x1) + x2\n",
    "plt.plot(test_input,gtruth,'r.')\n",
    "\n",
    "# Caluclating Predictions from the network\n",
    "predict = feed_forward(test_input,tr[1],tr[2],tr[3],tr[4])[1]\n",
    "plt.plot(test_input,predict,'b.')\n",
    "plt.show()\n",
    "\n",
    "# Plotting the Error\n",
    "plt.title('Final Error  ' + str(tr[0][-1]))\n",
    "plt.plot(tr[0])\n",
    "plt.show()\n",
    "\n",
    "\n",
    "\n",
    "\n"
   ]
  },
  {
   "cell_type": "markdown",
   "metadata": {},
   "source": [
    "### Important Inferences\n",
    "1. For 1D input of sin() function, and keeping the n_inputs = 100, the hidden units have a proportional relation to accuracy uptil a certain extent. That is the more the hidden units the better the accuracy.\n",
    "    * The accuracy continues to improve until n_hidden = 20, then it gradually starts decresing.\n",
    "2. A learning rate of 0.001 is ideal. Anything higher than that, increases the weights significantly and anything lower than that will need significantly more epochs to get good accuracy. "
   ]
  },
  {
   "cell_type": "markdown",
   "metadata": {},
   "source": [
    "## (b)Defining the Main Function and Implementing for nD input"
   ]
  },
  {
   "cell_type": "code",
   "execution_count": null,
   "metadata": {},
   "outputs": [],
   "source": [
    "# Importing the Libraries\n",
    "import numpy as np\n",
    "from matplotlib import pyplot as plt\n",
    "from math import exp\n",
    "(n_inputs,dimensions,n_hidden)= (100,2,25) ## n_hidden = number of hidden units\n",
    "\n",
    "# Initializing the Network\n",
    "net=initialize_network(n_inputs,dimensions,n_hidden)\n",
    "\n",
    "## Hyper Parameter Initialization\n",
    "epochs= 1000\n",
    "lr = 0.001\n",
    "np.random.seed(1)\n",
    "# net[0]\n",
    "# print(net[1])\n",
    "\n",
    "## Train\n",
    "tr = train (net,epochs,lr)"
   ]
  },
  {
   "cell_type": "markdown",
   "metadata": {},
   "source": [
    "### Plotting the Graphs \n",
    "<span style=\"color:red\"></style>\n",
    "**Red: Ground Truth Values **\n",
    "\n",
    "<span style=\"color:blue\"></style>\n",
    "**Blue: Predicted Values**"
   ]
  },
  {
   "cell_type": "code",
   "execution_count": 4,
   "metadata": {},
   "outputs": [
    {
     "data": {
      "image/png": "[encoded data removed]",
      "text/plain": [
       "<Figure size 432x288 with 1 Axes>"
      ]
     },
     "metadata": {},
     "output_type": "display_data"
    },
    {
     "data": {
      "image/png": "[encoded data removed]",
      "text/plain": [
       "<Figure size 432x288 with 1 Axes>"
      ]
     },
     "metadata": {},
     "output_type": "display_data"
    }
   ],
   "source": [
    "## Plotting the Outputs vs Inputs\n",
    "if (dimensions==1):\n",
    "        x= np.random.randn(n_inputs,1) ## Randomly Genrated Inputs\n",
    "        y= np.sin(x)\n",
    "else:\n",
    "## Breaking the inputs such that, the first input goes to the sin curve and the rest adds on as linear functions        \n",
    "        x= np.random.randn(n_inputs,dimensions) ## Randomly Genrated Inputs\n",
    "        x1=np.reshape(x[:,0],(n_inputs,1)) \n",
    "        x2 = np.sum(x[:,1:],axis=1,keepdims= True) \n",
    "        y= np.sin(x1) + x2\n",
    "plt.plot(x,y,'r.')\n",
    "\n",
    "# Caluclating Predictions from the network\n",
    "plt.plot(net[0], feed_forward(net[0],tr[1],tr[2],tr[3],tr[4])[1],'b.')\n",
    "plt.show()\n",
    "\n",
    "# Plotting the Error\n",
    "plt.plot(tr[0])\n",
    "plt.show()\n"
   ]
  },
  {
   "cell_type": "markdown",
   "metadata": {},
   "source": [
    "### Important Inferences\n",
    "1. Increasing the number of hidden units helps converge faster and increase in the number of dimensions has the opposite effect.\n",
    "2. Even after trying varied amount of hyperparamters I was unable to get a good predictive function.\n",
    "3. Keeping the dimensions and number of inputs fixed, and playing with the learning rate,epochs and the hidden units I was not able to find any value of hidden units that was able to give a an accurate predicitve function."
   ]
  },
  {
   "cell_type": "markdown",
   "metadata": {},
   "source": [
    "## (c) Hyperparameter tuning comparison for 1D and nD\n",
    "\n",
    "* As the number of hyperparamters increased, getting the right set of hyper paramters became equally difficult.\n",
    "* For the 1D case,I was able to get a good predictive function by adjusting the number of hidden units.\n",
    "* but for nD, any number of tweaks in the hyper parameters did not result in a good predictive function.\n",
    "* Therefore, for the nD case, a deeper network might sove this issue. "
   ]
  },
  {
   "cell_type": "code",
   "execution_count": null,
   "metadata": {},
   "outputs": [],
   "source": []
  }
 ],
 "metadata": {
  "kernelspec": {
   "display_name": "Python 3",
   "language": "python",
   "name": "python3"
  },
  "language_info": {
   "codemirror_mode": {
    "name": "ipython",
    "version": 3
   },
   "file_extension": ".py",
   "mimetype": "text/x-python",
   "name": "python",
   "nbconvert_exporter": "python",
   "pygments_lexer": "ipython3",
   "version": "3.6.5"
  }
 },
 "nbformat": 4,
 "nbformat_minor": 2
}
