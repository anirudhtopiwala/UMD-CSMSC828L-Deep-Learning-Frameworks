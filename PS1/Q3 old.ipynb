{
 "cells": [
  {
   "cell_type": "markdown",
   "metadata": {},
   "source": [
    "## Question 1: Implementation of basic neural netwrok without any hidden layer."
   ]
  },
  {
   "cell_type": "code",
   "execution_count": 264,
   "metadata": {},
   "outputs": [],
   "source": [
    "#Network Setup\n",
    "from math import exp\n",
    "from random import seed\n",
    "from random import random\n",
    "import numpy as np\n",
    "# Initialize a network\n",
    "def initialize_network(n_inputs, n_hidden, n_outputs):\n",
    "    network = list()\n",
    "    hidden_layer = [{'weights':[random() for i in range(n_inputs + 1)]} for i in range(n_hidden)]\n",
    "    network.append(hidden_layer)\n",
    "    output_layer = [{'weights':[random() for i in range(n_hidden + 1)]} for i in range(n_outputs)] #n_inputs\n",
    "    network.append(output_layer)\n",
    "    return network\n",
    "\n",
    "# Calculate neuron activation for an input\n",
    "def activate(weights, inputs):\n",
    "    activation = weights[-1]\n",
    "    for i in range(len(weights)-1): # Taking Assumption that the number of inputs and number of neurons in each layer are eqaul\n",
    "        activation += weights[i] * inputs[i]\n",
    "    return activation\n",
    "\n",
    "# Applying Activation Function\n",
    "# def transfer(activation):\n",
    "#     return np.maximum(0,activation)\n",
    "\n",
    "def transfer(activation):\n",
    "    return 1.0 / (1.0 + exp(-activation))\n",
    "\n",
    "# Forward propagation\n",
    "\n",
    "def forward_propagate(network, row):\n",
    "    inputs = row\n",
    "    for layer in network:\n",
    "        new_inputs = []\n",
    "        for neuron in layer:\n",
    "            activation = activate(neuron['weights'], inputs)\n",
    "            neuron['output'] = transfer(activation)\n",
    "            new_inputs.append(neuron['output'])\n",
    "        inputs = new_inputs\n",
    "    return inputs\n",
    "\n",
    "# Calculate the derivative of an neuron output\n",
    "\n",
    "# def transfer_derivative(output):\n",
    "#     return max(0,output)\n",
    "\n",
    "def transfer_derivative(output):\n",
    "    return output * (1.0 - output)\n",
    "\n",
    "# def transfer_derivative(output):\n",
    "#     output[output<=0] = 0\n",
    "#     output[output>0] = 1\n",
    "#     return output\n",
    "    \n",
    "# Backpropagate error and store in neurons\n",
    "def backward_propagate_error(network, expected):\n",
    "    for i in reversed(range(len(network))):\n",
    "        layer = network[i]\n",
    "        errors = list()\n",
    "        if i != len(network)-1:\n",
    "            for j in range(len(layer)):\n",
    "                error = 0.0\n",
    "                for neuron in network[i + 1]:\n",
    "                    error += (neuron['weights'][j] * neuron['delta'])\n",
    "                errors.append(error)\n",
    "        else:\n",
    "            for j in range(len(layer)):\n",
    "                neuron = layer[j]\n",
    "                errors.append(expected[j] - neuron['output'])\n",
    "        for j in range(len(layer)):\n",
    "            neuron = layer[j]\n",
    "            neuron['delta'] = errors[j] * transfer_derivative(neuron['output'])\n",
    "    \n",
    "\n",
    "# Update network weights with error\n",
    "def update_weights(network, row, l_rate):\n",
    "    for i in range(len(network)):\n",
    "        inputs = row[:-1]\n",
    "        if i != 0:\n",
    "            inputs = [neuron['output'] for neuron in network[i - 1]]\n",
    "        for neuron in network[i]:\n",
    "            for j in range(len(inputs)):\n",
    "                neuron['weights'][j] += l_rate * neuron['delta'] * inputs[j]\n",
    "            neuron['weights'][-1] += l_rate * neuron['delta']\n",
    "            \n",
    "# Train a network for a fixed number of epochs\n",
    "def train_network(network, train, l_rate, n_epoch, n_outputs):\n",
    "    for epoch in range(n_epoch):\n",
    "        sum_error = 0\n",
    "        for row in train:\n",
    "            outputs = forward_propagate(network, row)\n",
    "#             expected = [0 for i in range(n_outputs)]\n",
    "#             expected[row[-1]] = 1\n",
    "            expected = [row[-1]]\n",
    "            sum_error += sum([(expected[i]-outputs[i])**2 for i in range(len(expected))])\n",
    "            backward_propagate_error(network, expected)\n",
    "            update_weights(network, row, l_rate)\n",
    "        print('>epoch=%d, lrate=%.3f, error=%.3f' % (epoch, l_rate, sum_error))"
   ]
  },
  {
   "cell_type": "code",
   "execution_count": 281,
   "metadata": {},
   "outputs": [
    {
     "name": "stdout",
     "output_type": "stream",
     "text": [
      "[0.9996026298651256]\n"
     ]
    },
    {
     "ename": "TypeError",
     "evalue": "list indices must be integers or slices, not tuple",
     "output_type": "error",
     "traceback": [
      "\u001b[0;31m---------------------------------------------------------------------------\u001b[0m",
      "\u001b[0;31mTypeError\u001b[0m                                 Traceback (most recent call last)",
      "\u001b[0;32m<ipython-input-281-a369448fe53f>\u001b[0m in \u001b[0;36m<module>\u001b[0;34m()\u001b[0m\n\u001b[1;32m      2\u001b[0m \u001b[0mprint\u001b[0m\u001b[0;34m(\u001b[0m\u001b[0moutputs\u001b[0m\u001b[0;34m)\u001b[0m\u001b[0;34m\u001b[0m\u001b[0m\n\u001b[1;32m      3\u001b[0m \u001b[0;34m\u001b[0m\u001b[0m\n\u001b[0;32m----> 4\u001b[0;31m \u001b[0mdataset\u001b[0m\u001b[0;34m[\u001b[0m\u001b[0;34m:\u001b[0m\u001b[0;34m,\u001b[0m\u001b[0;36m0\u001b[0m\u001b[0;34m]\u001b[0m\u001b[0;34m\u001b[0m\u001b[0m\n\u001b[0m",
      "\u001b[0;31mTypeError\u001b[0m: list indices must be integers or slices, not tuple"
     ]
    }
   ],
   "source": [
    "outputs = forward_propagate(network, dataset[1])\n",
    "print(outputs)\n",
    "\n",
    "dataset[:,0]"
   ]
  },
  {
   "cell_type": "code",
   "execution_count": 269,
   "metadata": {},
   "outputs": [
    {
     "name": "stdout",
     "output_type": "stream",
     "text": [
      ">epoch=0, lrate=0.500, error=891.220\n",
      ">epoch=1, lrate=0.500, error=876.614\n",
      ">epoch=2, lrate=0.500, error=875.539\n",
      ">epoch=3, lrate=0.500, error=875.099\n",
      ">epoch=4, lrate=0.500, error=874.857\n",
      ">epoch=5, lrate=0.500, error=874.703\n",
      ">epoch=6, lrate=0.500, error=874.596\n",
      ">epoch=7, lrate=0.500, error=874.518\n",
      ">epoch=8, lrate=0.500, error=874.458\n",
      ">epoch=9, lrate=0.500, error=874.410\n",
      ">epoch=10, lrate=0.500, error=874.372\n",
      ">epoch=11, lrate=0.500, error=874.340\n",
      ">epoch=12, lrate=0.500, error=874.313\n",
      ">epoch=13, lrate=0.500, error=874.290\n",
      ">epoch=14, lrate=0.500, error=874.270\n",
      ">epoch=15, lrate=0.500, error=874.253\n",
      ">epoch=16, lrate=0.500, error=874.238\n",
      ">epoch=17, lrate=0.500, error=874.225\n",
      ">epoch=18, lrate=0.500, error=874.213\n",
      ">epoch=19, lrate=0.500, error=874.202\n",
      ">epoch=20, lrate=0.500, error=874.192\n",
      ">epoch=21, lrate=0.500, error=874.183\n",
      ">epoch=22, lrate=0.500, error=874.175\n",
      ">epoch=23, lrate=0.500, error=874.168\n",
      ">epoch=24, lrate=0.500, error=874.161\n",
      ">epoch=25, lrate=0.500, error=874.155\n",
      ">epoch=26, lrate=0.500, error=874.149\n",
      ">epoch=27, lrate=0.500, error=874.144\n",
      ">epoch=28, lrate=0.500, error=874.139\n",
      ">epoch=29, lrate=0.500, error=874.134\n",
      ">epoch=30, lrate=0.500, error=874.130\n",
      ">epoch=31, lrate=0.500, error=874.126\n",
      ">epoch=32, lrate=0.500, error=874.122\n",
      ">epoch=33, lrate=0.500, error=874.118\n",
      ">epoch=34, lrate=0.500, error=874.115\n",
      ">epoch=35, lrate=0.500, error=874.111\n",
      ">epoch=36, lrate=0.500, error=874.108\n",
      ">epoch=37, lrate=0.500, error=874.106\n",
      ">epoch=38, lrate=0.500, error=874.103\n",
      ">epoch=39, lrate=0.500, error=874.100\n",
      ">epoch=40, lrate=0.500, error=874.098\n",
      ">epoch=41, lrate=0.500, error=874.095\n",
      ">epoch=42, lrate=0.500, error=874.093\n",
      ">epoch=43, lrate=0.500, error=874.091\n",
      ">epoch=44, lrate=0.500, error=874.089\n",
      ">epoch=45, lrate=0.500, error=874.087\n",
      ">epoch=46, lrate=0.500, error=874.085\n",
      ">epoch=47, lrate=0.500, error=874.083\n",
      ">epoch=48, lrate=0.500, error=874.082\n",
      ">epoch=49, lrate=0.500, error=874.080\n",
      ">epoch=50, lrate=0.500, error=874.079\n",
      ">epoch=51, lrate=0.500, error=874.077\n",
      ">epoch=52, lrate=0.500, error=874.076\n",
      ">epoch=53, lrate=0.500, error=874.074\n",
      ">epoch=54, lrate=0.500, error=874.073\n",
      ">epoch=55, lrate=0.500, error=874.072\n",
      ">epoch=56, lrate=0.500, error=874.070\n",
      ">epoch=57, lrate=0.500, error=874.069\n",
      ">epoch=58, lrate=0.500, error=874.068\n",
      ">epoch=59, lrate=0.500, error=874.067\n",
      ">epoch=60, lrate=0.500, error=874.066\n",
      ">epoch=61, lrate=0.500, error=874.065\n",
      ">epoch=62, lrate=0.500, error=874.064\n",
      ">epoch=63, lrate=0.500, error=874.063\n",
      ">epoch=64, lrate=0.500, error=874.062\n",
      ">epoch=65, lrate=0.500, error=874.061\n",
      ">epoch=66, lrate=0.500, error=874.060\n",
      ">epoch=67, lrate=0.500, error=874.059\n",
      ">epoch=68, lrate=0.500, error=874.058\n",
      ">epoch=69, lrate=0.500, error=874.057\n",
      ">epoch=70, lrate=0.500, error=874.056\n",
      ">epoch=71, lrate=0.500, error=874.056\n",
      ">epoch=72, lrate=0.500, error=874.055\n",
      ">epoch=73, lrate=0.500, error=874.054\n",
      ">epoch=74, lrate=0.500, error=874.053\n",
      ">epoch=75, lrate=0.500, error=874.053\n",
      ">epoch=76, lrate=0.500, error=874.052\n",
      ">epoch=77, lrate=0.500, error=874.051\n",
      ">epoch=78, lrate=0.500, error=874.051\n",
      ">epoch=79, lrate=0.500, error=874.050\n",
      ">epoch=80, lrate=0.500, error=874.049\n",
      ">epoch=81, lrate=0.500, error=874.049\n",
      ">epoch=82, lrate=0.500, error=874.048\n",
      ">epoch=83, lrate=0.500, error=874.048\n",
      ">epoch=84, lrate=0.500, error=874.047\n",
      ">epoch=85, lrate=0.500, error=874.047\n",
      ">epoch=86, lrate=0.500, error=874.046\n",
      ">epoch=87, lrate=0.500, error=874.045\n",
      ">epoch=88, lrate=0.500, error=874.045\n",
      ">epoch=89, lrate=0.500, error=874.044\n",
      ">epoch=90, lrate=0.500, error=874.044\n",
      ">epoch=91, lrate=0.500, error=874.043\n",
      ">epoch=92, lrate=0.500, error=874.043\n",
      ">epoch=93, lrate=0.500, error=874.043\n",
      ">epoch=94, lrate=0.500, error=874.042\n",
      ">epoch=95, lrate=0.500, error=874.042\n",
      ">epoch=96, lrate=0.500, error=874.041\n",
      ">epoch=97, lrate=0.500, error=874.041\n",
      ">epoch=98, lrate=0.500, error=874.040\n",
      ">epoch=99, lrate=0.500, error=874.040\n",
      "[]\n",
      "[{'weights': [7.830244932860792], 'output': 0.9996007228606892, 'delta': 0.009578984568423154}]\n"
     ]
    }
   ],
   "source": [
    "# Test training backprop algorithm\n",
    "seed(1)\n",
    "dataset = [[1,1],\n",
    "\t[2,4],\n",
    "\t[3,9],\n",
    "\t[4,16],\n",
    "\t[5,25]]\n",
    "n_inputs = len(dataset[0]) - 1\n",
    "n_outputs = len(set([row[-1] for row in dataset]))\n",
    "n_outputs =1\n",
    "network = initialize_network(n_inputs, 0, n_outputs)\n",
    "train_network(network, dataset, 0.5, 100, n_outputs)\n",
    "for layer in network:\n",
    "\tprint(layer)"
   ]
  },
  {
   "cell_type": "code",
   "execution_count": 263,
   "metadata": {},
   "outputs": [
    {
     "data": {
      "text/plain": [
       "2"
      ]
     },
     "execution_count": 263,
     "metadata": {},
     "output_type": "execute_result"
    }
   ],
   "source": [
    "dataset = [[1,1],\n",
    "\t[2,4],\n",
    "\t[3,9],\n",
    "\t[4,16],\n",
    "\t[5,25]]\n",
    "\n",
    "len(dataset[0])"
   ]
  },
  {
   "cell_type": "code",
   "execution_count": 234,
   "metadata": {},
   "outputs": [
    {
     "name": "stdout",
     "output_type": "stream",
     "text": [
      "range(0, 2)\n",
      "[{'weights': [0.13436424411240122, 0.8474337369372327]}, {'weights': [0.763774618976614, 0.2550690257394217]}]\n",
      "[{'weights': [0.49543508709194095, 0.4494910647887381, 0.651592972722763]}]\n"
     ]
    }
   ],
   "source": [
    "# To print and check the Network Weig\n",
    "seed(1)\n",
    "network = initialize_network(1, 2, 1)\n",
    "print(range(len(network)))\n",
    "for layer in network:\n",
    "    print(layer)\n"
   ]
  },
  {
   "cell_type": "code",
   "execution_count": 176,
   "metadata": {},
   "outputs": [
    {
     "name": "stdout",
     "output_type": "stream",
     "text": [
      "[8.94108688991349, 15.534799628961082]\n"
     ]
    }
   ],
   "source": [
    "# test forward propagation\n",
    "network = [[{'weights': [0.13436424411240122, 0.8474337369372327, 0.763774618976614]}],\n",
    "\t\t[{'weights': [0.2550690257394217, 0.49543508709194095]}, {'weights': [0.4494910647887381, 0.651592972722763]}]]\n",
    "row = [20, 35, 100,23]\n",
    "output = forward_propagate(network, row)\n",
    "print(output)\n"
   ]
  },
  {
   "cell_type": "code",
   "execution_count": 190,
   "metadata": {},
   "outputs": [
    {
     "name": "stdout",
     "output_type": "stream",
     "text": [
      "[{'output': 0.7105668883115941, 'weights': [0.13436424411240122, 0.8474337369372327, 0.763774618976614], 'delta': 0.001956678795287801}]\n",
      "[{'output': 0.6213859615555266, 'weights': [0.2550690257394217, 0.49543508709194095], 'delta': -0.3861205132182864}, {'output': 0.6573693455986976, 'weights': [0.4494910647887381, 0.651592972722763], 'delta': 0.22523488906583766}]\n"
     ]
    }
   ],
   "source": [
    "# test backpropagation of error\n",
    "network = [[{'output': 0.7105668883115941, 'weights': [0.13436424411240122, 0.8474337369372327, 0.763774618976614]}],\n",
    "        [{'output': 0.6213859615555266, 'weights': [0.2550690257394217, 0.49543508709194095]}, {'output': 0.6573693455986976, 'weights': [0.4494910647887381, 0.651592972722763]}]]\n",
    "expected = [0, 1]\n",
    "backward_propagate_error(network, expected)\n",
    "for layer in network:\n",
    "    print(layer)"
   ]
  },
  {
   "cell_type": "code",
   "execution_count": null,
   "metadata": {},
   "outputs": [],
   "source": []
  },
  {
   "cell_type": "code",
   "execution_count": null,
   "metadata": {},
   "outputs": [],
   "source": []
  }
 ],
 "metadata": {
  "kernelspec": {
   "display_name": "Python 3",
   "language": "python",
   "name": "python3"
  },
  "language_info": {
   "codemirror_mode": {
    "name": "ipython",
    "version": 3
   },
   "file_extension": ".py",
   "mimetype": "text/x-python",
   "name": "python",
   "nbconvert_exporter": "python",
   "pygments_lexer": "ipython3",
   "version": "3.6.5"
  }
 },
 "nbformat": 4,
 "nbformat_minor": 2
}
