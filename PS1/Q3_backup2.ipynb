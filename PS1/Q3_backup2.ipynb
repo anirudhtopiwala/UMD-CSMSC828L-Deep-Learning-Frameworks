{
 "cells": [
  {
   "cell_type": "markdown",
   "metadata": {},
   "source": [
    "## Question 3: Implementation of Deep  neural netwrok with arbitary hidden layers and units.\n",
    "\n",
    "(a) Test your network with the same training data that you used in Problem 2, using both 1D and higher dimensional data. Experiment with using 3 and 5 hidden layers. Evaluate the accuracy of your solutions in the same way as Problem 2."
   ]
  },
  {
   "cell_type": "markdown",
   "metadata": {},
   "source": [
    "**Sol:** Here we implement designing a deep neural network which can handle arbitary inputs,dimensions, hidden layer and hidden units.  \n",
    "#### Loss Function\n",
    "Regression loss function as given in the question.\n",
    "\n",
    "#### Input \n",
    "Inputs are generated randomly by setting the number of training inputs and the dimensions.\n",
    "\n",
    "#### Outputs \n",
    "The oputputs are limited to a single output. Here I have used **y=sin(x)** function to produce the ouputs.\n",
    "If the there is a n dimensional input, output is a function of sin() for the first dimension and an summation of all the other subsequent dimensions.\n",
    "\n",
    "#### Hyper Paramters\n",
    "For this function there are four hyper paramters, that is the **Learning Rate** (Step Size), the number of **epochs** , the number of **hidden layers** and the number of **hidden units** in each hidden layer.\n",
    "\n",
    "\n",
    "#### The Netwrok has 6 main Functions\n",
    "1) Network Initialization\n",
    "2) nonlin \n",
    "3) feed_forward\n",
    "4) back_prop\n",
    "5) update_network \n",
    "6) train\n",
    "\n",
    "**Now lets got thorugh each function**\n"
   ]
  },
  {
   "cell_type": "code",
   "execution_count": 1,
   "metadata": {},
   "outputs": [],
   "source": [
    "## Initialize the Network\n",
    "def initialize_network(n_inputs,dimension, hidden_in_each_layer):\n",
    "    if (dimension==1):\n",
    "        x= np.random.randn(n_inputs,1) ## Randomly Genrated Inputs\n",
    "        y= np.sin(x)                   ## Generating Outputs\n",
    "    else:\n",
    "## Breaking the inputs such that, the first input goes to the sin curve and the rest, adds on as linear functions.        \n",
    "        x= np.random.randn(n_inputs,dimension) ## Randomly Genrated Inputs\n",
    "        x1=np.reshape(x[:,0],(n_inputs,1)) \n",
    "        x2 = np.sum(x[:,1:],axis=1,keepdims= True) \n",
    "        y= np.sin(x1) + x2\n",
    "## Initializing Weights and Biases\n",
    "    n_hidden_layers = len(hidden_in_each_layer)\n",
    "    wts={'w1':np.random.randn(dimension,hidden_in_each_layer[0]) }\n",
    "    b = {'b1':np.random.randn(hidden_in_each_layer[0],1)}\n",
    "    for i in range(n_hidden_layers-1):\n",
    "        wts['w'+str(i+2)]= np.random.randn(hidden_in_each_layer[i],hidden_in_each_layer[i+1])      \n",
    "        b['b'+str(i+2)] = np.random.randn(hidden_in_each_layer[i+1],1)\n",
    "    wts['w'+str(n_hidden_layers+1)] = np.random.randn(hidden_in_each_layer[-1],1) \n",
    "    b['b'+str(n_hidden_layers+1)] = np.random.randn(1)\n",
    "    return x,y,wts,b\n",
    "\n",
    "## Non Linear Function RELU\n",
    "def nonlin(x, deriv = False):\n",
    "    if (deriv == True):\n",
    "        return 1*(x>0)\n",
    "    return np.maximum(0,x)\n",
    "\n",
    "## Feed Forward Function\n",
    "def feed_forward(x,wts,b):\n",
    "    a = {'a1':(x.dot(wts['w1']).transpose() + b['b1']).transpose()}\n",
    "    for i in range(len(wts)-2):\n",
    "#         print(len(wts))\n",
    "#         print('shape of x'+str(x.shape))\n",
    "#         print('shape of w'+str(i+1)+str(wts['w'+str(i+1)].shape))\n",
    "#         print('shape of b'+str(i+1)+str(b['b'+str(i+1)].shape))\n",
    "        a['a'+str(i+2)] = nonlin((a['a'+str(i+1)].dot(wts['w'+str(i+2)]).transpose() + b['b'+str(i+2)]).transpose())\n",
    "#     print('shape of a'+str(len(wts)-1)+str(a['a'+str(len(wts)-1)].shape))\n",
    "#     print('shape of w'+str(len(wts))+str(wts['w'+str(len(wts))].shape))\n",
    "    a['al'] = a['a'+str(len(wts)-1)].dot(wts['w'+str(len(wts))])+ b['b'+str(len(wts))] \n",
    "    return a\n",
    "\n",
    "## Back Propogation by appling the four main formulas of back propogation\n",
    "def back_prop(x,y,a,wts):\n",
    "    error = (((y-a['al'])**2).sum())                     ## Calculating the error\n",
    "    d = {'d'+str(len(wts)): a['al'] - y}                                     ## Delta for final layer\n",
    "#     print()\n",
    "    wt_err = {'wr'+str(len(wts)):a['a'+str(len(wts)-1)].T.dot(d['d'+str(len(wts))]) }\n",
    "#     print('shape of wr'+str(len(wts))+str(wt_err['wr'+str(len(wts))].shape))\n",
    "    b_err = {'br'+str(len(wts)):d['d'+str(len(wts))].sum()} \n",
    "    for i in reversed(range(1,len(wts))):\n",
    "#         print(i)\n",
    "#         print('shape of w'+str(i+1)+str(wts['w'+str(i+1)].shape))\n",
    "#         print('shape of d'+str(i+1)+str(d['d'+str(i+1)].shape))\n",
    "#         print('shape of nonlina'+str(i)+str(nonlin(a['a'+str(i)],True).shape))\n",
    "        d ['d'+str(i)] = (wts['w'+ str(i+1)].dot(d['d'+str(i+1)].transpose())).transpose()*((nonlin(a['a'+str(i)],True)))\n",
    "        if (i==1):\n",
    "#             print('shape of d'+str(i)+str(d['d'+str(i)].shape))\n",
    "            wt_err['wr'+str(i)] = x.T.dot(d['d'+str(i)])\n",
    "            b_err['br'+str(i)] = np.sum(d['d'+str(i)].transpose(),axis=1,keepdims= True) \n",
    "#             print('shape of br'+str(i)+str(b_err['br'+str(i)].shape))\n",
    "#             print('shape of d'+str(i)+str(d['d'+str(i)].shape))\n",
    "        else:\n",
    "#             print('shape of a'+str(i-1)+str(a['a'+str(i-1)].shape))\n",
    "#             print('shape of d'+str(i)+str(d['d'+str(i)].shape))\n",
    "            wt_err['wr'+str(i)] = a['a'+str(i-1)].T.dot(d['d'+str(i)])\n",
    "            b_err['br'+str(i)] = np.sum(d['d'+str(i)].transpose(),axis=1,keepdims= True) \n",
    "#             print('shape of br'+str(i)+str(b_err['br'+str(i)].shape))\n",
    "#             print('shape of d'+str(i)+str(d['d'+str(i)].shape))\n",
    "\n",
    "\n",
    "    return wt_err, b_err, d, error\n",
    "\n",
    "## Updating the Network\n",
    "def update_network(wts,b,wt_err,b_err,lr):\n",
    "    for i in range(0,len(wts)):\n",
    "        wts['w'+str(i+1)] -= lr * wt_err['wr'+str(i+1)]\n",
    "#         print('shape of b'+str(i+1)+str(b['b'+str(i+1)].shape))\n",
    "#         print('shape of br'+str(i+1)+str(b_err['br'+str(i+1)].shape))\n",
    "        b['b'+str(i+1)] -= lr * b_err['br'+str(i+1)]\n",
    "    return wts,b\n",
    "\n",
    "## Training the Network\n",
    "def train(net,epochs,lr):\n",
    "    error = []\n",
    "    (wts,b) = (net[2],net[3])\n",
    "    for i in range(epochs):\n",
    "        a = feed_forward(net[0],wts,b)\n",
    "        err = back_prop(net[0], net[1],a,wts)\n",
    "        error.append(err[3])\n",
    "        update = update_network(wts,b,err[0],err[1],lr)\n",
    "        (wts,b)= (update[0],update[1])\n",
    "    return error, update[0], update[1]"
   ]
  },
  {
   "cell_type": "markdown",
   "metadata": {},
   "source": [
    "## (a)Defining the Main Function and Implementing for 1D input"
   ]
  },
  {
   "cell_type": "code",
   "execution_count": 2,
   "metadata": {},
   "outputs": [],
   "source": [
    "# Importing the Libraries\n",
    "import numpy as np\n",
    "from matplotlib import pyplot as plt\n",
    "from math import exp\n",
    "(n_inputs,dimension,hidden_in_each_layer) =(100,1,[4,6,7,2,3])  ## n_hidden = number of hidden units\n",
    "\n",
    "# Initializing the Network\n",
    "net = initialize_network(n_inputs,dimension, hidden_in_each_layer)\n",
    "\n",
    "## Hyper Parameter Initialization\n",
    "epochs= 1000\n",
    "lr = 0.001\n",
    "np.random.seed(1)\n",
    "# net[0]\n",
    "# print(net[1])\n",
    "\n",
    "## Train\n",
    "tr = train (net,epochs,lr)"
   ]
  },
  {
   "cell_type": "markdown",
   "metadata": {},
   "source": [
    "### Plotting the Graphs \n",
    "<span style=\"color:red\"></style>\n",
    "**Red: Ground Truth Values **\n",
    "\n",
    "<span style=\"color:blue\"></style>\n",
    "**Blue: Predicted Values**"
   ]
  },
  {
   "cell_type": "code",
   "execution_count": 3,
   "metadata": {},
   "outputs": [
    {
     "data": {
      "image/png": "[encoded data removed]",
      "text/plain": [
       "<Figure size 432x288 with 1 Axes>"
      ]
     },
     "metadata": {},
     "output_type": "display_data"
    },
    {
     "data": {
      "image/png": "[encoded data removed]",
      "text/plain": [
       "<Figure size 432x288 with 1 Axes>"
      ]
     },
     "metadata": {},
     "output_type": "display_data"
    }
   ],
   "source": [
    "## Plotting the Outputs vs Inputs\n",
    "if (dimension==1):\n",
    "        x= np.random.randn(n_inputs,1) ## Randomly Genrated Inputs\n",
    "        y= np.sin(x)\n",
    "else:\n",
    "## Breaking the inputs such that, the first input goes to the sin curve and the rest adds on as linear functions        \n",
    "        x= np.random.randn(n_inputs,dimension) ## Randomly Genrated Inputs\n",
    "        x1=np.reshape(x[:,0],(n_inputs,1)) \n",
    "        x2 = np.sum(x[:,1:],axis=1,keepdims= True) \n",
    "        y= np.sin(x1) + x2\n",
    "plt.plot(x,y,'r.')\n",
    "\n",
    "# Caluclating Predictions from the network\n",
    "plt.plot(net[0], feed_forward(net[0],tr[1],tr[2])['al'],'b.')\n",
    "plt.show()\n",
    "\n",
    "# Plotting the Error\n",
    "plt.plot(tr[0])\n",
    "plt.show()\n"
   ]
  },
  {
   "cell_type": "markdown",
   "metadata": {},
   "source": [
    "### Important Inferences\n",
    "1. For 1D input of sin() function, and keeping the n_inputs = 100, the hidden units have a proportional relation to accuracy uptil a certain extent. That is the more the hidden units the better the accuracy.\n",
    "    * The accuracy continues to improve until n_hidden = 20, then it gradually starts decresing.\n",
    "2. A learning rate of 0.001 is ideal. Anything higher than that, increases the weights significantly and anything lower than that will need significantly more epochs to get good accuracy. "
   ]
  },
  {
   "cell_type": "markdown",
   "metadata": {},
   "source": [
    "## (a)Defining the Main Function and Implementing for nD input"
   ]
  },
  {
   "cell_type": "code",
   "execution_count": 4,
   "metadata": {},
   "outputs": [],
   "source": [
    "# Importing the Libraries\n",
    "import numpy as np\n",
    "from matplotlib import pyplot as plt\n",
    "from math import exp\n",
    "(n_inputs,dimension,hidden_in_each_layer) =(100,4,[4,6,2,3])  ## n_hidden = number of hidden units\n",
    "\n",
    "# Initializing the Network\n",
    "net = initialize_network(n_inputs,dimension, hidden_in_each_layer)\n",
    "\n",
    "## Hyper Parameter Initialization\n",
    "epochs= 1000\n",
    "lr = 0.001\n",
    "np.random.seed(1)\n",
    "# net[0]\n",
    "# print(net[1])\n",
    "\n",
    "## Train\n",
    "tr = train (net,epochs,lr)"
   ]
  },
  {
   "cell_type": "markdown",
   "metadata": {},
   "source": [
    "### Plotting the Graphs \n",
    "<span style=\"color:red\"></style>\n",
    "**Red: Ground Truth Values **\n",
    "\n",
    "<span style=\"color:blue\"></style>\n",
    "**Blue: Predicted Values**"
   ]
  },
  {
   "cell_type": "code",
   "execution_count": 5,
   "metadata": {},
   "outputs": [
    {
     "data": {
      "image/png": "[encoded data removed]",
      "text/plain": [
       "<Figure size 432x288 with 1 Axes>"
      ]
     },
     "metadata": {},
     "output_type": "display_data"
    },
    {
     "data": {
      "image/png": "[encoded data removed]",
      "text/plain": [
       "<Figure size 432x288 with 1 Axes>"
      ]
     },
     "metadata": {},
     "output_type": "display_data"
    }
   ],
   "source": [
    "## Plotting the Outputs vs Inputs\n",
    "if (dimension==1):\n",
    "        x= np.random.randn(n_inputs,1) ## Randomly Genrated Inputs\n",
    "        y= np.sin(x)\n",
    "else:\n",
    "## Breaking the inputs such that, the first input goes to the sin curve and the rest adds on as linear functions        \n",
    "        x= np.random.randn(n_inputs,dimension) ## Randomly Genrated Inputs\n",
    "        x1=np.reshape(x[:,0],(n_inputs,1)) \n",
    "        x2 = np.sum(x[:,1:],axis=1,keepdims= True) \n",
    "        y= np.sin(x1) + x2\n",
    "plt.plot(x,y,'r.')\n",
    "\n",
    "# Caluclating Predictions from the network\n",
    "plt.plot(net[0], feed_forward(net[0],tr[1],tr[2])['al'],'b.')\n",
    "plt.show()\n",
    "\n",
    "# Plotting the Error\n",
    "plt.plot(tr[0])\n",
    "plt.show()\n"
   ]
  },
  {
   "cell_type": "markdown",
   "metadata": {},
   "source": [
    "### Important Inferences\n",
    "1. Increasing the number of hidden units helps converge faster and increase in the number of dimensions has the opposite effect.\n",
    "2. Even after trying varied amount of hyperparamters I was unable to get a good predictive function.\n",
    "3. Keeping the dimensions and number of inputs fixed, and playing with the learning rate,epochs and the hidden units I was not able to find any value of hidden units that was able to give a an accurate predicitve function."
   ]
  },
  {
   "cell_type": "markdown",
   "metadata": {},
   "source": [
    "## (c) Hyperparameter tuning comparison for 1D and nD\n",
    "\n",
    "* As the number of hyperparamters increased, getting the right set of hyper paramters became equally difficult.\n",
    "* For the 1D case,I was able to get a good predictive function by adjusting the number of hidden units.\n",
    "* but for nD, any number of tweaks in the hyper parameters did not result in a good predictive function.\n",
    "* Therefore, for the nD case, a deeper network might sove this issue. "
   ]
  },
  {
   "cell_type": "code",
   "execution_count": null,
   "metadata": {},
   "outputs": [],
   "source": []
  },
  {
   "cell_type": "code",
   "execution_count": 6,
   "metadata": {},
   "outputs": [],
   "source": [
    "import numpy as np\n",
    "(n_inputs,dimension,hidden_in_each_layer) =(2,1,[6])\n",
    "lr = 0.001\n",
    "error=[]\n",
    "net = initialize_network(n_inputs,dimension, hidden_in_each_layer)\n",
    "(wts,b) = (net[2],net[3])\n",
    "a = feed_forward(net[0],wts,b)\n",
    "err = back_prop(net[0], net[1],a,wts)\n",
    "error.append(err[3])\n",
    "err[1]['br2'].shape\n",
    "# net[3]\n",
    "update = update_network(wts,b,err[0],err[1],lr)\n",
    "\n",
    "# err[2]\n",
    "# a['al'].shape\n",
    "# err[1]['br3']\n",
    "# a\n",
    "# a_relu['a1'].shape\n",
    "# net[0].shape\n",
    "# net[2]['w1'].shape\n",
    "# net[2]\n",
    "# net[0].shape\n"
   ]
  },
  {
   "cell_type": "code",
   "execution_count": 7,
   "metadata": {},
   "outputs": [],
   "source": [
    "n_input=5\n",
    "dimensions=3\n",
    "n_hidden_layers = len(hidden_in_each_layer)\n",
    "wts={'w1':np.random.randn(n_input,dimensions) }\n",
    "b = {'b1':np.random.randn(hidden_in_each_layer[0],1)}\n",
    "for i in range(n_hidden_layers-1):\n",
    "    wts['w'+str(i+2)]= np.random.randn(hidden_in_each_layer[i],hidden_in_each_layer[i+1])       ## Weight Initialization\n",
    "    b['b'+str(i+2)] = np.random.randn(hidden_in_each_layer[i+1],1)\n",
    "wts['w'+str(n_hidden_layers+1)] = np.random.randn(hidden_in_each_layer[-1],1) \n",
    "b ['b'+str(n_hidden_layers+1)] = np.random.randn(1)\n",
    "\n",
    "\n",
    "    "
   ]
  },
  {
   "cell_type": "markdown",
   "metadata": {},
   "source": [
    "## (a)Defining the Main Function and Implementing for 1D input"
   ]
  }
 ],
 "metadata": {
  "kernelspec": {
   "display_name": "Python 3",
   "language": "python",
   "name": "python3"
  },
  "language_info": {
   "codemirror_mode": {
    "name": "ipython",
    "version": 3
   },
   "file_extension": ".py",
   "mimetype": "text/x-python",
   "name": "python",
   "nbconvert_exporter": "python",
   "pygments_lexer": "ipython3",
   "version": "3.6.5"
  }
 },
 "nbformat": 4,
 "nbformat_minor": 2
}
