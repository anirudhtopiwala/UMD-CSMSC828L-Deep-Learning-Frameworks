{
 "cells": [
  {
   "cell_type": "markdown",
   "metadata": {},
   "source": [
    "## Question 1: Implementation of basic neural netwrok without any hidden layer.\n",
    "\n",
    "(a) Generate some random 1D test data according to a simple linear function, with Gaussian noise added. For example, your data might be generated with: y = 7x + 3 + ξ, where ξ is a Gaussian random variable. Include a plot showing the training data and the function that your network computes. (You can plot the function by evaluating it on a range of different inputs). This is all 1D, so easy to visualize."
   ]
  },
  {
   "cell_type": "markdown",
   "metadata": {},
   "source": [
    "**Sol:** Here we implement designing a neural network which will take arbitary number of inputs for arbitary dimensions. This network has no hidden layers. \n",
    "#### Loss Function\n",
    "Regression loss function as given in the question.\n",
    "\n",
    "#### Input \n",
    "Inputs are generated randomly by setting the number of training inputs and the dimensions.\n",
    "\n",
    "#### Outputs \n",
    "The oputputs are limited to a single output. If the there is an n dimensional input, output is a function of these n inputs to produce a single value. (Here I have considered summation as the function for n dimensions).\n",
    "I have used the function y = 7x + 3 + ξ to produce the outputs.\n",
    "\n",
    "#### Hyper Paramters\n",
    "For this function there are only two Hyper paramters, that is the **Learning Rate** (Step Size) and the number of **epochs** \n",
    "\n",
    "\n",
    "\n",
    "#### The Netwrok has 5 main Functions\n",
    "1) Network Initialization\n",
    "2) feed_forward\n",
    "3) back_prop\n",
    "4) update_network \n",
    "5) train\n",
    "\n",
    "**Now lets got thorugh each function**\n"
   ]
  },
  {
   "cell_type": "code",
   "execution_count": 60,
   "metadata": {},
   "outputs": [],
   "source": [
    "## Initialize the Network\n",
    "def initialize_network(n_inputs, dimensions):\n",
    "    x= np.random.rand(n_inputs,dimensions) ## Randomly Genrated Inputs\n",
    "    y= 7*x + 3 + np.random.randn(1)        ## Output function of x\n",
    "    y = np.sum(y,axis=1,keepdims= True)    ## To produce a single output\n",
    "    wts= np.random.randn(dimensions,1)     ## Weight Initialization\n",
    "    b =  np.random.randn(1)                ## Bias Initialization\n",
    "    return x,y,wts,b\n",
    "\n",
    "## Feed Forward Function\n",
    "def feed_forward(x,wts,b):\n",
    "    a1= np.dot(x,wts)+b                     ## calculating the Output\n",
    "    return a1\n",
    "\n",
    "## Back Propogation\n",
    "def back_prop(x,y,a1):\n",
    "    error = (((y-a1)**2).sum())             ## Calculating the error\n",
    "    wt_err = -x.T.dot(y-a1)                 ## \n",
    "    b_err = (a1-y).sum()\n",
    "    return wt_err, b_err, error\n",
    "\n",
    "def update_network(wts, b, wt_err, b_err,lr):\n",
    "    wts -= lr*wt_err\n",
    "    b -= lr*b_err\n",
    "    return wts,b\n",
    "\n",
    "def train(net,epochs,lr):\n",
    "    error = []\n",
    "    for i in range(epochs):\n",
    "        a1 = feed_forward(net[0],net[2],net[3])\n",
    "        err= back_prop(net[0], net[1],a1)\n",
    "        error.append(err[2])\n",
    "        update = update_network(net[2], net[3], err[0], err[1],lr)\n",
    "#         print(\"error in epoch\"+ str(i)+\"is\"+str(err[2]))\n",
    "#         print(\"wts=\"+ str(update[0]))\n",
    "    return error"
   ]
  },
  {
   "cell_type": "code",
   "execution_count": 59,
   "metadata": {},
   "outputs": [
    {
     "name": "stdout",
     "output_type": "stream",
     "text": [
      "[[126.71525394]\n",
      " [123.14765748]\n",
      " [124.40695279]\n",
      " [108.95004003]\n",
      " [137.87250013]\n",
      " [126.13591916]\n",
      " [134.11488491]\n",
      " [127.11540082]\n",
      " [127.87769025]\n",
      " [137.12305414]]\n"
     ]
    },
    {
     "data": {
      "text/plain": [
       "[<matplotlib.lines.Line2D at 0x7fd10bbf5080>]"
      ]
     },
     "execution_count": 59,
     "metadata": {},
     "output_type": "execute_result"
    },
    {
     "data": {
      "image/png": "[encoded data removed]",
      "text/plain": [
       "<Figure size 432x288 with 1 Axes>"
      ]
     },
     "metadata": {},
     "output_type": "display_data"
    }
   ],
   "source": [
    "import numpy as np\n",
    "from matplotlib import pyplot as plt\n",
    "from math import exp\n",
    "\n",
    "net=initialize_network(10,20)\n",
    "epochs= 1000\n",
    "lr = 0.001\n",
    "np.random.seed(1)\n",
    "# net[0]\n",
    "print(net[1])\n",
    "error = train (net,epochs,lr)\n",
    "\n",
    "# Plotting the Error\n",
    "x= np.linspace(0,1000,1000)\n",
    "plt.plot(x,error)\n",
    "\n"
   ]
  },
  {
   "cell_type": "code",
   "execution_count": null,
   "metadata": {},
   "outputs": [],
   "source": [
    "# Debug\n",
    "a1 = feed_forward(net[0],net[2],net[3])\n",
    "err= back_prop(net[0], net[1],a1)\n",
    "# print(a1)\n",
    "# net[1]\n",
    "update = update_network(net[2], net[3], err[0], err[1],lr)"
   ]
  },
  {
   "cell_type": "code",
   "execution_count": null,
   "metadata": {},
   "outputs": [],
   "source": [
    "import numpy as np\n",
    "from matplotlib import pyplot as plt\n",
    "from math import exp\n",
    "\n",
    "# def nonlin(x, deriv = False):\n",
    "#     if (deriv == True):\n",
    "#         return 1 if (x>0) else 0\n",
    "#     return np.maximum(0,x)\n",
    "\n",
    "def nonlin(x, deriv = False):\n",
    "    if (deriv == True):\n",
    "        return x*(1-x)\n",
    "    return 1/(1+np.exp(-x))\n",
    "\n",
    "def train (dataset):\n",
    "    # Weights for the first and only layer \n",
    "    lr= 0.001\n",
    "    wts = np.random.random((1,1))\n",
    "    b=np.random.random((1))\n",
    "    err = []\n",
    "    for j in range(1000):\n",
    "        er=0\n",
    "        for i in range(len(dataset)):\n",
    "            row = np.reshape(dataset[i,:],(1,2))\n",
    "            inp = np.reshape(row[0,0:row.size-1],(1,1))\n",
    "#             print(\"inp shape\"+ str(inp.shape))\n",
    "            target = row[0,row.size-1]\n",
    "#             print(\"target shape\"+ str(target.shape))\n",
    "            a1= np.dot(inp,wts)+b\n",
    "#             print(\"a1 shape\"+ str(a1.shape))\n",
    "            a1_error = target - a1 \n",
    "            err.append(a1_error)\n",
    "            er=er+ a1_error\n",
    "#             print(\"a1_error shape\"+ str(a1_error.shape))\n",
    "            wts = wts - lr*a1_error*inp\n",
    "#             b = b - lr*a1_error\n",
    "#             print(a1_error)\n",
    "#             print(wts)\n",
    "#             print(\"end of row\"+ str(i))\n",
    "        print(\"end of iteration\"+ str(j))\n",
    "        print(\"er\"+ str(er))\n",
    "        \n",
    "    print (\"Output after Training\")\n",
    "    print (a1_error)\n",
    "    return err"
   ]
  },
  {
   "cell_type": "code",
   "execution_count": null,
   "metadata": {},
   "outputs": [],
   "source": [
    "wts = np.random.random((2,1))\n",
    "b=np.random.random((1))"
   ]
  },
  {
   "cell_type": "code",
   "execution_count": null,
   "metadata": {},
   "outputs": [],
   "source": [
    "import numpy as np\n",
    "from matplotlib import pyplot as plt\n",
    "from math import exp\n",
    "seed(1)\n",
    "err= train(dataset)\n",
    "x= np.linspace(0,100,100)\n",
    "# plt.plot(x,err,'ro')\n",
    "print(err)\n"
   ]
  },
  {
   "cell_type": "code",
   "execution_count": null,
   "metadata": {},
   "outputs": [],
   "source": [
    "wts = np.random.random((2,1))\n",
    "b=np.random.random((1))\n",
    "lr= 0.0001\n",
    "for i in range(len(dataset)):\n",
    "    row = np.reshape(dataset[i,:],(1,3))\n",
    "    inp = np.reshape(row[0,0:row.size-1],(1,2))\n",
    "#   print(\"inp shape\"+ str(inp.shape))\n",
    "    target = row[0,row.size-1]\n",
    "#   print(\"target shape\"+ str(target.shape))\n",
    "    a1= np.dot(inp,wts)+b\n",
    "#   print(\"a1 shape\"+ str(a1.shape))\n",
    "    a1_error = target - a1\n",
    "#   print(\"a1_error shape\"+ str(a1_error.shape))\n",
    "    wts = wts + lr*a1_error\n",
    "    b = b + lr*a1_error\n",
    "#     print(a1_error.sum())\n",
    "    print(wts)\n",
    "#     print(target)\n",
    "    print(\"end of row\"+ str(i))\n",
    "print(\"end of iteration\"+ str(i))"
   ]
  },
  {
   "cell_type": "code",
   "execution_count": null,
   "metadata": {},
   "outputs": [],
   "source": [
    "inp = np.reshape(row[0,0:row.size-1],(1,inp.size))\n",
    "print(\"inp shape\"+ str(inp.shape))\n",
    "target = row[0,row.size-1]\n",
    "print(\"target shape\"+ str(target.shape))\n",
    "wts = np.random.random((inp.size,1))\n",
    "b=np.random.random((1))\n",
    "a1= np.dot(inp,wts)+b\n",
    "print(\"a1 shape\"+ str(a1.shape))\n",
    "a1_error = target - a1 * inp\n",
    "print(\"a1_error shape\"+ str(a1_error.shape))\n",
    "wts = wts + a1_error\n",
    "b = b + a1_error.sum()\n",
    "\n",
    "\n",
    "# syn.shape\n",
    "\n",
    "# assert(inputs.shape==targets.shape)\n",
    "# inputs.shape\n",
    "# inputs.size\n",
    "\n",
    "# len(inputs)\n",
    "# syn.shape\n",
    "# print(syn)"
   ]
  },
  {
   "cell_type": "code",
   "execution_count": null,
   "metadata": {},
   "outputs": [],
   "source": [
    "np.random.randn()"
   ]
  },
  {
   "cell_type": "code",
   "execution_count": null,
   "metadata": {},
   "outputs": [],
   "source": [
    "inputs = np.random.random((10,1))\n",
    "inputs2= 4 * inputs\n",
    "targets = 8 * inputs\n",
    "dataset =  np.column_stack ((inputs,targets))\n",
    "print(dataset)\n",
    "print(dataset.shape)\n",
    "dataset.shape[0]\n",
    "# row = np.reshape(dataset[0,:],(1,row.size))\n",
    "# print(row)\n",
    "# # row.size\n",
    "# # row.shape\n",
    "# # row.size\n",
    "# # print(row[0])\n",
    "# # row.size\n",
    "# inp = np.reshape(row[0,0:row.size-1],(1,inp.size))\n",
    "# print(inp)\n",
    "# inp.shape\n",
    "# inp.size\n",
    "# # print(row(0:end).size)\n",
    "# out= row[0,row.size-1]\n",
    "# print(out)\n",
    "\n",
    "# print(inp.sum())\n",
    "\n",
    "\n",
    "\n",
    "\n",
    "# print(inputs)\n",
    "# print(targets)\n",
    "# print((targets.shape))\n",
    "# np.random.seed(1)\n",
    "# print(len(dataset))\n",
    "train(dataset)"
   ]
  },
  {
   "cell_type": "code",
   "execution_count": null,
   "metadata": {},
   "outputs": [],
   "source": [
    "\n",
    "# To print and check the Network Weights\n",
    "seed(1)\n",
    "network = initialize_network(1)\n",
    "for layer in network:\n",
    "    print(layer)"
   ]
  },
  {
   "cell_type": "code",
   "execution_count": null,
   "metadata": {},
   "outputs": [],
   "source": [
    "input = range(0,2)\n",
    "# input[4]\n",
    "\n",
    "feed_forward(network, input)\n",
    "# layer= network[0]\n",
    "# layer['weights'][0]"
   ]
  },
  {
   "cell_type": "code",
   "execution_count": null,
   "metadata": {},
   "outputs": [],
   "source": [
    "#Network Setup\n",
    "\n",
    "from random import seed\n",
    "from random import random\n",
    "# Initialize a network\n",
    "def initialize_network(n_inputs):\n",
    "    network = list()\n",
    "    output_layer = [{'weights':[random() for i in range(n_inputs + 1)]}] #n_inputs\n",
    "    network.append(output_layer)\n",
    "    return network\n",
    "\n",
    "# As there is no inlinearity, we staright away go to feedforward function and ignore the activation function\n",
    "\n",
    "# Calculating Feed Forward for an input\n",
    "def feed_forward(network, inputs):\n",
    "    layer = network[0]\n",
    "    neuron = layer[0]\n",
    "    weights= neuron['weights']\n",
    "    activation = weights[-1]\n",
    "    for i in range(len(weights)-1):\n",
    "        activation += weights[i] * inputs[i]\n",
    "    return activation\n",
    "\n",
    "# Back Propogation\n",
    "def back_prop(target,predict)\n",
    "    \n",
    "    error= target - output\n",
    "    \n",
    "\n",
    "\n",
    "# Training Network\n",
    "def train (inputs, targets)\n",
    "    for j in range(10):\n",
    "\n",
    "        out = feed_forward(network,inputs)\n",
    "        l0 = inputs\n",
    "        out = feed_forward(network,inputs)\n",
    "        error = targets - out\n",
    "        layer = network[0]\n",
    "        neuron = layer[0]\n",
    "        weights= neuron['weights']\n",
    "        for i in range(len(weights)):\n",
    "            activation += weights[i] * inputs[i]\n",
    "        \n",
    "\n"
   ]
  },
  {
   "cell_type": "code",
   "execution_count": null,
   "metadata": {},
   "outputs": [],
   "source": []
  }
 ],
 "metadata": {
  "kernelspec": {
   "display_name": "Python 3",
   "language": "python",
   "name": "python3"
  },
  "language_info": {
   "codemirror_mode": {
    "name": "ipython",
    "version": 3
   },
   "file_extension": ".py",
   "mimetype": "text/x-python",
   "name": "python",
   "nbconvert_exporter": "python",
   "pygments_lexer": "ipython3",
   "version": "3.6.5"
  }
 },
 "nbformat": 4,
 "nbformat_minor": 2
}
